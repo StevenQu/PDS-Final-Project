{
 "cells": [
  {
   "cell_type": "markdown",
   "metadata": {},
   "source": [
    "## Insights of GitHub Networks\n"
   ]
  },
  {
   "cell_type": "markdown",
   "metadata": {},
   "source": [
    "## Introduction\n",
    "Every software engineer uses GitHub. Being a open source distributed version control tool, GitHub has thoundsands of new repositorys in every hour. Thus, GitHub could also be used as a huge dynamic data source to analyze technology status quo and trend.\n",
    "\n",
    "In this project, we will be looking into serveral things like who is the most popular person in certain field, what is the current hottest project and how much does different programming languages being used. In order to support our purpose, we will use GitHub API and NetworkX.\n"
   ]
  },
  {
   "cell_type": "markdown",
   "metadata": {},
   "source": [
    "### GitHub API\n",
    "\n",
    "We will use GitHub API from [here](https://developer.github.com/v3/).\n",
    "All the API calls are using HTTPS requests and it will return in JSON format.\n",
    "\n",
    "Steps to use GitHub API:\n",
    "1. Install `pygithub` by \n",
    "`-pip install pygithub`\n",
    "2. Generate a GitHub Personal access token required for `GitHub API`\n",
    "3. Test You API in local terminal using the following command. It is expected to return a list of dictionary contains your account info\n",
    "##### - curl https://api.github.com/user\\?access_token\\={YOUR_TOKEN}\n",
    "\n",
    "\n"
   ]
  },
  {
   "cell_type": "markdown",
   "metadata": {},
   "source": [
    "### NetworkX\n",
    "NetworkX is a Python package for the creation, manipulation, and study of the structure, dynamics, and functions of complex networks. It provides tools to work with large dataset with network strucutres. With NetworkX, we can load and store neyworks in standard data format easily. It can also helps us to generate classic networks, analyze network strucutre, build network models and much more.\n",
    "\n",
    "You can install `NetworkX` by `-pip install networkx`\n"
   ]
  },
  {
   "cell_type": "code",
   "execution_count": 1,
   "metadata": {},
   "outputs": [],
   "source": [
    "import sys\n",
    "from github import Github\n",
    "import networkx as nx\n",
    "from operator import itemgetter\n",
    "\n",
    "# Global Variables\n",
    "ACCESS_TOKEN = {Your Token}\n",
    "USER = 'svenkreiss'  # Define the GitHub User Name\n",
    "REPO = 'pysparkling'  # Define the Repo name\n",
    "client = Github(ACCESS_TOKEN)\n",
    "graph = nx.DiGraph()"
   ]
  },
  {
   "cell_type": "markdown",
   "metadata": {},
   "source": [
    "### Set Up NetworkX Graph\n",
    "\n",
    "\n",
    "After defined the user and repo name that we are going to explore, we can then set up the NetworkX graph.\n",
    "\n",
    "We will add the repo and each user who starred the repo as nodes, and build edges between them. After this, we also add edges between users and their followers. "
   ]
  },
  {
   "cell_type": "markdown",
   "metadata": {},
   "source": [
    "![avatar](https://raw.githubusercontent.com/StevenQu/PDS-Final-Project/master/Resource/graph.png)\n"
   ]
  },
  {
   "cell_type": "code",
   "execution_count": 2,
   "metadata": {},
   "outputs": [],
   "source": [
    "def buildRepoRelations(REPO):\n",
    "    user = client.get_user(USER)\n",
    "    repo = user.get_repo(REPO)  # Get a specific repo\n",
    "    REPOS = user.get_repos()\n",
    "    stargazers = list(repo.get_stargazers())  # The list of users who starred this REPO\n",
    "    graph.add_node(repo.name + '(repo)', type='repo', lang=repo.language, owner=user.login)\n",
    "    for stargazer in stargazers:\n",
    "        graph.add_node(stargazer.login + '(user)', type='user')\n",
    "        graph.add_edge(stargazer.login + '(user)', repo.name + '(repo)', type='gazes')\n",
    "    #\tprint(len(stargazers))#See if it return a correct list\n",
    "    return stargazers\n",
    "\n",
    "\n",
    "def buildUserRelations(stargazers):\n",
    "    for i, stargazer in enumerate(stargazers):\n",
    "        followers = stargazer.get_followers()\n",
    "        try:\n",
    "            for follower in followers:\n",
    "                if follower.login + '(user)' in graph:\n",
    "                    graph.add_edge(follower.login + '(user)', stargazer.login + '(user)', type='follows')\n",
    "        except Exception:  \n",
    "            print(\"Encountered an error when finding follower for user: \", stargazer.login)\n",
    "        #See How many available API calls remaining\n",
    "        #print (\"API Calls Remaining\", client.rate_limiting)"
   ]
  },
  {
   "cell_type": "code",
   "execution_count": 3,
   "metadata": {
    "scrolled": true
   },
   "outputs": [],
   "source": [
    "stargazers = buildRepoRelations(REPO)\n",
    "buildUserRelations(stargazers)"
   ]
  },
  {
   "cell_type": "markdown",
   "metadata": {},
   "source": [
    "### Find Hottest User\n",
    "In this step, we use the graph initialized above to find the hottest users. The hottest user is defined as the GitHub user followed by most of the people who starred the repo we defined previously. This can also be interpreted as those who starred this repo also follows ... \n"
   ]
  },
  {
   "cell_type": "code",
   "execution_count": 4,
   "metadata": {},
   "outputs": [
    {
     "name": "stdout",
     "output_type": "stream",
     "text": [
      "Number of popular users 66\n",
      "Top popular users: [('svenkreiss(user)', 11), ('fonnesbeck(user)', 7), ('freeman-lab(user)', 5), ('Smerity(user)', 4), ('mjhea0(user)', 4), ('cranmer(user)', 3), ('ajschumacher(user)', 3), ('onesuper(user)', 3), ('felipecruz(user)', 2), ('rdhyee(user)', 2)]\n"
     ]
    }
   ],
   "source": [
    "from collections import Counter\n",
    "from operator import itemgetter\n",
    "\n",
    "def getHottestUser(stargazers):\n",
    "    \n",
    "    temp_list = []\n",
    "    for edge in graph.edges(data = True):\n",
    "        if edge[2]['type'] == 'follows':\n",
    "            temp_list.append(edge[1])\n",
    "    counter = Counter(temp_list)\n",
    "    \n",
    "    popular_users = []\n",
    "    for u, f in counter.most_common():\n",
    "        popular_users.append((u,f))\n",
    "    print (\"Number of popular users\", len(popular_users))\n",
    "    print (\"Top popular users:\", popular_users[:10])\n",
    "    return popular_users[:10]\n",
    "hottestUsers = getHottestUser(stargazers)"
   ]
  },
  {
   "cell_type": "markdown",
   "metadata": {},
   "source": [
    "The result above shows the most popular users. However, we care more about some centralities that NetworkX provided.\n",
    "#### Degree Centrality\n",
    "The Degree Centrality for a node v is the fraction of nodes it is connected to. \n",
    "#### Betweenness Centrality\n",
    "Also, the Betweenness Centrality compute the shortest path for nodes. It is the sum of the fraction of all-pairs shortest paths that pass through the node v. \n",
    "#### Closeness Centrality\n",
    "Lastly, the Closeness Centrality of a node u is the reciprocal of the sum of the shortest path distances from u to all n-1 other nodes. Since the sum of distances depends on the number of nodes in the graph, closeness is normalized by the sum of minimum possible distances n-1.\n",
    "\n",
    "\n"
   ]
  },
  {
   "cell_type": "code",
   "execution_count": 5,
   "metadata": {},
   "outputs": [
    {
     "name": "stdout",
     "output_type": "stream",
     "text": [
      "Degree Centrality\n",
      "[('angusshire(user)', 0.3835616438356164), ('svenkreiss(user)', 0.10273972602739725), ('fonnesbeck(user)', 0.04794520547945205), ('esafak(user)', 0.0410958904109589), ('akansal1(user)', 0.0410958904109589)] \n",
      "\n",
      "Betweenness Centrality\n",
      "[('angusshire(user)', 0.005762871988663204), ('svenkreiss(user)', 0.002983782081561959), ('ajschumacher(user)', 0.0006849315068493151), ('esafak(user)', 0.000543221539914974), ('cranmer(user)', 0.0004723665564478035)] \n",
      "\n",
      "Closeness Centrality\n",
      "[('svenkreiss(user)', 0.08606313281715305), ('mjhea0(user)', 0.0684931506849315), ('ajschumacher(user)', 0.05655577299412916), ('cranmer(user)', 0.05655577299412916), ('castanan(user)', 0.05349870418363569)]\n"
     ]
    }
   ],
   "source": [
    "def formatResult(graph):\n",
    "    graph_copy = graph.copy()\n",
    "    # Remove center node\n",
    "    graph_copy.remove_node('pysparkling(repo)')\n",
    "\n",
    "    dc = sorted(nx.degree_centrality(graph_copy).items(), \n",
    "                key=itemgetter(1), reverse=True)\n",
    "\n",
    "    bc = sorted(nx.betweenness_centrality(graph_copy).items(), \n",
    "                key=itemgetter(1), reverse=True)\n",
    "    cc = sorted(nx.closeness_centrality(graph_copy).items(), \n",
    "                key=itemgetter(1), reverse=True)\n",
    "    return (dc, bc, cc)\n",
    "\n",
    "dc, bc, cc = formatResult(graph)\n",
    "\n",
    "print (\"Degree Centrality\")\n",
    "print (dc[:5],'\\n')\n",
    "\n",
    "print (\"Betweenness Centrality\")\n",
    "print (bc[:5],'\\n')\n",
    "\n",
    "print (\"Closeness Centrality\")\n",
    "print (cc[:5])"
   ]
  },
  {
   "cell_type": "markdown",
   "metadata": {},
   "source": [
    "### Find Hottest Repository "
   ]
  },
  {
   "cell_type": "markdown",
   "metadata": {},
   "source": [
    "For the network we have currently, there is only one repo. To find the hottest repository, we need to go through each user in the network and then add their starred repos into the network. After that, it is easy for us to get the popular repositories. Moreover, we can also get to know the language preference of one certain user."
   ]
  },
  {
   "cell_type": "markdown",
   "metadata": {},
   "source": [
    "There are two input parameters of function buildRepoNet. The stargazers is the output of function buildRepoRelations which is a list of users who starred this original repo. Sometimes a user marks too many repos and it takes a lot of time to build the net. So here the limit_repo parameter could define the maximum of the repos of one user we need to add into the net. "
   ]
  },
  {
   "cell_type": "code",
   "execution_count": 6,
   "metadata": {},
   "outputs": [],
   "source": [
    "def buildRepoNet(stargazers, limit_repo):\n",
    "    for i, v in enumerate(stargazers):\n",
    "        print(v.login)\n",
    "        try:\n",
    "            for starred in v.get_starred()[:limit_repo]:  # Slice to avoid supernodes\n",
    "                graph.add_node(starred.name + '(repo)', type='repo', lang=starred.language, \\\n",
    "                           owner=starred.owner.login)\n",
    "                graph.add_edge(v.login + '(user)', starred.name + '(repo)', type='gazes')\n",
    "        except Exception:  # ssl.SSLError:\n",
    "            print(\"Encountered an error fetching starred repos for\", v.login, \"Skipping.\")\n",
    "\n",
    "        print(\"Num nodes/edges in graph\", graph.number_of_nodes(), \"/\", graph.number_of_edges())\n",
    "    print(nx.info(graph), '\\n')\n"
   ]
  },
  {
   "cell_type": "markdown",
   "metadata": {},
   "source": [
    "Here we define the number of limit_repo as 200. It takes about 10 minutes to generate the repo net. The total number of nodes is 15696 and the total number of edges is 22100."
   ]
  },
  {
   "cell_type": "code",
   "execution_count": 7,
   "metadata": {
    "collapsed": true
   },
   "outputs": [
    {
     "name": "stdout",
     "output_type": "stream",
     "text": [
      "he0x\n",
      "Num nodes/edges in graph 348 / 458\n",
      "nschlemm\n",
      "Num nodes/edges in graph 548 / 658\n",
      "cheekybastard\n",
      "Num nodes/edges in graph 747 / 858\n",
      "ddboline\n",
      "Num nodes/edges in graph 938 / 1057\n",
      "dclambert\n",
      "Num nodes/edges in graph 1127 / 1257\n",
      "emlazzarin\n",
      "Num nodes/edges in graph 1309 / 1452\n",
      "mvaz\n",
      "Num nodes/edges in graph 1497 / 1650\n",
      "Veallym0n\n",
      "Num nodes/edges in graph 1545 / 1700\n",
      "svenkreiss\n",
      "Num nodes/edges in graph 1689 / 1868\n",
      "ajschumacher\n",
      "Num nodes/edges in graph 1872 / 2067\n",
      "akansal1\n",
      "Num nodes/edges in graph 2045 / 2267\n",
      "fonnesbeck\n",
      "Num nodes/edges in graph 2206 / 2466\n",
      "vasudevram\n",
      "Num nodes/edges in graph 2385 / 2662\n",
      "freeman-lab\n",
      "Num nodes/edges in graph 2571 / 2862\n",
      "StephanErb\n",
      "Num nodes/edges in graph 2752 / 3061\n",
      "juanshishido\n",
      "Num nodes/edges in graph 2910 / 3260\n",
      "dylanroy\n",
      "Num nodes/edges in graph 3088 / 3459\n",
      "gawry\n",
      "Num nodes/edges in graph 3260 / 3659\n",
      "denisfitz57\n",
      "Num nodes/edges in graph 3444 / 3858\n",
      "mjhea0\n",
      "Num nodes/edges in graph 3620 / 4058\n",
      "ronert\n",
      "Num nodes/edges in graph 3762 / 4256\n",
      "jchaat\n",
      "Num nodes/edges in graph 3930 / 4455\n",
      "matagus\n",
      "Num nodes/edges in graph 4109 / 4654\n",
      "wuxianliang\n",
      "Num nodes/edges in graph 4285 / 4854\n",
      "chaoyue729\n",
      "Num nodes/edges in graph 4430 / 5048\n",
      "sourcepirate\n",
      "Num nodes/edges in graph 4600 / 5247\n",
      "petro-rudenko\n",
      "Num nodes/edges in graph 4782 / 5446\n",
      "Smerity\n",
      "Num nodes/edges in graph 4942 / 5643\n",
      "esafak\n",
      "Num nodes/edges in graph 5070 / 5843\n",
      "greyhill\n",
      "Num nodes/edges in graph 5117 / 5902\n",
      "petrushy\n",
      "Num nodes/edges in graph 5277 / 6098\n",
      "amelio-vazquez-reina\n",
      "Num nodes/edges in graph 5417 / 6284\n",
      "rushter\n",
      "Num nodes/edges in graph 5549 / 6484\n",
      "rdhyee\n",
      "Num nodes/edges in graph 5723 / 6684\n",
      "dkanoafry\n",
      "Num nodes/edges in graph 5788 / 6774\n",
      "ziedzic\n",
      "Num nodes/edges in graph 5929 / 6973\n",
      "yv\n",
      "Num nodes/edges in graph 6097 / 7173\n",
      "peristeri\n",
      "Num nodes/edges in graph 6220 / 7372\n",
      "castanan\n",
      "Num nodes/edges in graph 6233 / 7395\n",
      "hezila\n",
      "Num nodes/edges in graph 6406 / 7593\n",
      "xunyou\n",
      "Num nodes/edges in graph 6559 / 7793\n",
      "dhanainme\n",
      "Num nodes/edges in graph 6637 / 7898\n",
      "pganssle\n",
      "Num nodes/edges in graph 6678 / 7953\n",
      "dan-blanchard\n",
      "Num nodes/edges in graph 6808 / 8152\n",
      "angusshire\n",
      "Num nodes/edges in graph 6999 / 8348\n",
      "binh-vu\n",
      "Num nodes/edges in graph 7027 / 8383\n",
      "ilgarm\n",
      "Num nodes/edges in graph 7192 / 8581\n",
      "xinyu-usf\n",
      "Num nodes/edges in graph 7238 / 8634\n",
      "sevenguin\n",
      "Num nodes/edges in graph 7325 / 8775\n",
      "Bennyelg\n",
      "Num nodes/edges in graph 7386 / 8868\n",
      "cranmer\n",
      "Num nodes/edges in graph 7482 / 8989\n",
      "farquasar1\n",
      "Num nodes/edges in graph 7607 / 9183\n",
      "jgmize\n",
      "Num nodes/edges in graph 7758 / 9383\n",
      "ainkov\n",
      "Num nodes/edges in graph 7767 / 9392\n",
      "qwert666\n",
      "Num nodes/edges in graph 7866 / 9530\n",
      "alexprengere\n",
      "Num nodes/edges in graph 7957 / 9674\n",
      "ptrf\n",
      "Num nodes/edges in graph 8111 / 9868\n",
      "Greenall\n",
      "Num nodes/edges in graph 8117 / 9880\n",
      "d2207197\n",
      "Num nodes/edges in graph 8190 / 10003\n",
      "eien\n",
      "Num nodes/edges in graph 8347 / 10200\n",
      "lingyong\n",
      "Num nodes/edges in graph 8508 / 10398\n",
      "gerbaudo\n",
      "Num nodes/edges in graph 8639 / 10589\n",
      "jessem\n",
      "Num nodes/edges in graph 8746 / 10729\n",
      "ZhukovAlexander\n",
      "Num nodes/edges in graph 8882 / 10929\n",
      "robinsingh1\n",
      "Num nodes/edges in graph 9032 / 11129\n",
      "smrjan\n",
      "Num nodes/edges in graph 9175 / 11326\n",
      "aalhour\n",
      "Num nodes/edges in graph 9288 / 11526\n",
      "nabilm\n",
      "Num nodes/edges in graph 9293 / 11532\n",
      "luiscape\n",
      "Num nodes/edges in graph 9402 / 11730\n",
      "ycliuhw\n",
      "Num nodes/edges in graph 9537 / 11928\n",
      "ekampf\n",
      "Num nodes/edges in graph 9643 / 12076\n",
      "pd-spark\n",
      "Num nodes/edges in graph 9675 / 12165\n",
      "telamonian\n",
      "Num nodes/edges in graph 9705 / 12203\n",
      "rgabo\n",
      "Num nodes/edges in graph 9809 / 12401\n",
      "aleury\n",
      "Num nodes/edges in graph 9947 / 12599\n",
      "waxz\n",
      "Num nodes/edges in graph 10108 / 12796\n",
      "onesuper\n",
      "Num nodes/edges in graph 10256 / 12995\n",
      "Lguyogiro\n",
      "Num nodes/edges in graph 10320 / 13108\n",
      "felipecruz\n",
      "Num nodes/edges in graph 10435 / 13307\n",
      "pauldevos\n",
      "Num nodes/edges in graph 10541 / 13503\n",
      "ahmedezzeldin93\n",
      "Num nodes/edges in graph 10586 / 13606\n",
      "mtpatter\n",
      "Num nodes/edges in graph 10734 / 13802\n",
      "brianv0\n",
      "Num nodes/edges in graph 10792 / 13881\n",
      "thulio\n",
      "Num nodes/edges in graph 10933 / 14080\n",
      "kmatt\n",
      "Num nodes/edges in graph 11063 / 14278\n",
      "leetreveil\n",
      "Num nodes/edges in graph 11160 / 14401\n",
      "cupen\n",
      "Num nodes/edges in graph 11282 / 14599\n",
      "RishiSankineni\n",
      "Num nodes/edges in graph 11361 / 14798\n",
      "XIEQ\n",
      "Num nodes/edges in graph 11460 / 14995\n",
      "codinguncut\n",
      "Num nodes/edges in graph 11597 / 15195\n",
      "ansrivas\n",
      "Num nodes/edges in graph 11710 / 15393\n",
      "Stardust1002\n",
      "Num nodes/edges in graph 11751 / 15534\n",
      "walkersuen\n",
      "Num nodes/edges in graph 11758 / 15541\n",
      "Pushkr\n",
      "Num nodes/edges in graph 11786 / 15594\n",
      "skribled\n",
      "Num nodes/edges in graph 11956 / 15790\n",
      "silverstone1903\n",
      "Num nodes/edges in graph 12091 / 15990\n",
      "flysky1991\n",
      "Num nodes/edges in graph 12180 / 16148\n",
      "lomereiter\n",
      "Num nodes/edges in graph 12310 / 16347\n",
      "tcoyze\n",
      "Num nodes/edges in graph 12347 / 16432\n",
      "ysku\n",
      "Num nodes/edges in graph 12464 / 16631\n",
      "wearpants\n",
      "Num nodes/edges in graph 12574 / 16830\n",
      "ajlmsbux\n",
      "Num nodes/edges in graph 12621 / 16909\n",
      "drauschenbach\n",
      "Num nodes/edges in graph 12639 / 16936\n",
      "JonasAmrich\n",
      "Num nodes/edges in graph 12671 / 17002\n",
      "basilhe\n",
      "Num nodes/edges in graph 12791 / 17201\n",
      "danilomo\n",
      "Num nodes/edges in graph 12815 / 17230\n",
      "tedmiston\n",
      "Num nodes/edges in graph 12938 / 17427\n",
      "ylogx\n",
      "Num nodes/edges in graph 13044 / 17625\n",
      "hhstore\n",
      "Num nodes/edges in graph 13179 / 17823\n",
      "t0n1c\n",
      "Num nodes/edges in graph 13190 / 17845\n",
      "pbamotra\n",
      "Num nodes/edges in graph 13302 / 18045\n",
      "rsmith54\n",
      "Num nodes/edges in graph 13333 / 18092\n",
      "samuel-kerrien\n",
      "Num nodes/edges in graph 13402 / 18183\n",
      "7125messi\n",
      "Num nodes/edges in graph 13500 / 18373\n",
      "Syrus\n",
      "Num nodes/edges in graph 13500 / 18375\n",
      "dchudz\n",
      "Num nodes/edges in graph 13526 / 18413\n",
      "miniaturelle\n",
      "Num nodes/edges in graph 13535 / 18456\n",
      "ikatanic\n",
      "Num nodes/edges in graph 13548 / 18493\n",
      "bossjones\n",
      "Num nodes/edges in graph 13700 / 18681\n",
      "kennethlimjf\n",
      "Num nodes/edges in graph 13727 / 18736\n",
      "xyzdream\n",
      "Num nodes/edges in graph 13728 / 18739\n",
      "xq2005\n",
      "Num nodes/edges in graph 13734 / 18752\n",
      "SummerTea\n",
      "Num nodes/edges in graph 13818 / 18944\n",
      "wangdi244\n",
      "Num nodes/edges in graph 13902 / 19062\n",
      "vnnw\n",
      "Num nodes/edges in graph 14005 / 19259\n",
      "imrv13\n",
      "Num nodes/edges in graph 14031 / 19316\n",
      "pradeepmathesh\n",
      "Num nodes/edges in graph 14195 / 19515\n",
      "alcidesmorales\n",
      "Num nodes/edges in graph 14332 / 19712\n",
      "blahblueray\n",
      "Num nodes/edges in graph 14339 / 19721\n",
      "qiulin\n",
      "Num nodes/edges in graph 14477 / 19919\n",
      "ct-clmsn\n",
      "Num nodes/edges in graph 14552 / 20016\n",
      "spillai\n",
      "Num nodes/edges in graph 14670 / 20214\n",
      "johanfforsberg\n",
      "Num nodes/edges in graph 14762 / 20403\n",
      "dogrdon\n",
      "Num nodes/edges in graph 14891 / 20601\n",
      "younescha\n",
      "Num nodes/edges in graph 14891 / 20603\n",
      "ChristianSch\n",
      "Num nodes/edges in graph 15017 / 20802\n",
      "dvatterott\n",
      "Num nodes/edges in graph 15041 / 20839\n",
      "zuoxiaolei\n",
      "Num nodes/edges in graph 15046 / 20848\n",
      "qiwihui\n",
      "Num nodes/edges in graph 15182 / 21042\n",
      "mvherweg\n",
      "Num nodes/edges in graph 15213 / 21110\n",
      "Horace89\n",
      "Num nodes/edges in graph 15304 / 21307\n",
      "xrbu\n",
      "Num nodes/edges in graph 15363 / 21506\n",
      "freegnu\n",
      "Num nodes/edges in graph 15489 / 21704\n",
      "rk4n\n",
      "Num nodes/edges in graph 15612 / 21893\n",
      "thalesmello\n",
      "Num nodes/edges in graph 15697 / 22092\n",
      "craigwilkins\n",
      "Num nodes/edges in graph 15706 / 22107\n",
      "zafercavdar\n",
      "Num nodes/edges in graph 15724 / 22135\n",
      "Name: \n",
      "Type: DiGraph\n",
      "Number of nodes: 15724\n",
      "Number of edges: 22135\n",
      "Average in degree:   1.4077\n",
      "Average out degree:   1.4077 \n",
      "\n"
     ]
    }
   ],
   "source": [
    "buildRepoNet(stargazers,200)"
   ]
  },
  {
   "cell_type": "markdown",
   "metadata": {},
   "source": [
    "Next, we can use the builded net to get the popular repos. The more users star the repo, the more popular it is. So here we iterate each repo node in the graph and record the number of hit times."
   ]
  },
  {
   "cell_type": "code",
   "execution_count": 8,
   "metadata": {},
   "outputs": [],
   "source": [
    "def getTopNRepos(n):\n",
    "    print(\"Top \"+ str(n) + \" Popular repositories:\")\n",
    "    \n",
    "    repos = []\n",
    "    for (v, i) in graph.in_degree():\n",
    "        if graph.node[v]['type'] == 'repo':\n",
    "            repos.append((v,i))\n",
    "    repos = sorted(repos, key = lambda x:x[1], reverse=True)\n",
    "    return repos[:n]"
   ]
  },
  {
   "cell_type": "markdown",
   "metadata": {},
   "source": [
    "Let's try to get the top 10 popular repositories."
   ]
  },
  {
   "cell_type": "code",
   "execution_count": 9,
   "metadata": {},
   "outputs": [
    {
     "name": "stdout",
     "output_type": "stream",
     "text": [
      "Top 10 Popular repositories:\n",
      "[('pysparkling(repo)', 147), ('spark(repo)', 29), ('tensorflow(repo)', 23), ('dask(repo)', 19), ('jupyterlab(repo)', 18), ('incubator-superset(repo)', 18), ('models(repo)', 17), ('awesome-machine-learning(repo)', 17), ('TensorFlow-Examples(repo)', 16), ('keras(repo)', 16)]\n"
     ]
    }
   ],
   "source": [
    "hottestRepos = getTopNRepos(10)\n",
    "print(hottestRepos)"
   ]
  },
  {
   "cell_type": "markdown",
   "metadata": {},
   "source": [
    "With this network graph, we can also get the one certain user's preference such as the repositories he followed and the programming languages."
   ]
  },
  {
   "cell_type": "code",
   "execution_count": 10,
   "metadata": {},
   "outputs": [],
   "source": [
    "def getPreferRepos(username):\n",
    "    \n",
    "    repos = []\n",
    "    for v in graph[username+\"(user)\"]:\n",
    "        if graph[username+\"(user)\"][v]['type'] == 'gazes':\n",
    "            repos.append(v)\n",
    "    return repos"
   ]
  },
  {
   "cell_type": "code",
   "execution_count": 11,
   "metadata": {},
   "outputs": [],
   "source": [
    "def getPreferLanguages(username):\n",
    "      \n",
    "    langs = set()\n",
    "    for v in graph[username+\"(user)\"]:\n",
    "        if graph[username+\"(user)\"][v]['type'] == 'gazes':\n",
    "            langs.add(graph.node[v]['lang'])\n",
    "    return langs"
   ]
  },
  {
   "cell_type": "markdown",
   "metadata": {},
   "source": [
    "We can then check the preference of the hottest user we find above."
   ]
  },
  {
   "cell_type": "code",
   "execution_count": 12,
   "metadata": {},
   "outputs": [
    {
     "name": "stdout",
     "output_type": "stream",
     "text": [
      "svenkreiss(user)\n",
      "Respositories that svenkreiss has starred\n",
      "['cayley(repo)', 'h3(repo)', 'vowpal_wabbit(repo)', 'nmslib(repo)', 'flask-sockets(repo)', 'deep-neuroevolution(repo)', 'jeu-de-taquin(repo)', 'pytorch(repo)', 'dlib(repo)', 'keras-GAN(repo)', 'itermplot(repo)', 'golearn(repo)', 'demos(repo)', 'context2vec(repo)', 'thefuck(repo)', 'caffe2(repo)', 'convnet-benchmarks(repo)', 'consul(repo)', 'keras-js(repo)', 'cytoscape.js(repo)', 'd3(repo)', 'multipathnet(repo)', 'models(repo)', 'skip-thoughts(repo)', 'sumo-web3d(repo)', 'nprogress(repo)', 'annoy(repo)', 'scikit-learn(repo)', 'feather(repo)', 'databench_spark_test(repo)', 'python-zipstream(repo)', 'spark(repo)', 'Pikaday(repo)', 'pelican(repo)', 'sense2vec(repo)', 'trot(repo)', 'metabase(repo)', 'GhostText(repo)', 'montecarlorisk(repo)', 'docker-flask-gevent(repo)', 'kubernetes(repo)', 'R-FCN(repo)', 'FormalSystems(repo)', 'tinydb(repo)', 'decoupledDemo(repo)', 'js-libp2p-kad-dht(repo)', 'KaTeX(repo)', 'rc-data(repo)', 'rnn(repo)', 'pelican_dynamic(repo)', 'ztorch(repo)', 'Shapely(repo)', 'dockbroker(repo)', 't-digest(repo)', 'gensim(repo)', 'tornado(repo)', 'Thunder(repo)', 'localcrawl(repo)', 'neuraltalk(repo)', 'quine.zip(repo)', 'ssd.pytorch(repo)', 'PyROOTUtils(repo)', 'grafana(repo)', 'databench_examples(repo)', 'videogan(repo)', 'Chart.js(repo)', 'benchmark(repo)', 'express-handlebars(repo)', 'nvd3(repo)', 'awesome-machine-learning(repo)', 'char-rnn(repo)', 'Android-Object-Detection(repo)', 'bootcards(repo)', 'bootstrap-material-design(repo)', 'Self-Driving-Car(repo)', 'deepmask(repo)', 'apidocs(repo)', 'ttk(repo)', 'rootpy(repo)', 'ngraph(repo)', 'cpython(repo)', 'SelfNormalizingNetworks(repo)', 'LHCHiggsCouplings(repo)', 'js-git(repo)', 'unicodeit(repo)', 'tensorflow(repo)', 'torch-ddcnn(repo)', 'ipfs(repo)', 'BatchLikelihoodScan(repo)', 'micropython(repo)', 'redis-commander(repo)', 'pysparkling(repo)', 'pylearn2(repo)', 'read-this-first(repo)', 'MemNN(repo)', 'grumpy(repo)', 'alluxio(repo)', 'CycleGAN(repo)', 'vagrant(repo)', 'distributed(repo)', 'cgt(repo)', 'pelican-theme-validator(repo)', 'networkx(repo)', 'bazel(repo)', 'juliusjs(repo)', 'fcl(repo)', 'protractor(repo)', 'pelican-jsmath(repo)', 'validator(repo)', 'parquet-cpp(repo)', 'textwrangler-bbedit-solarized(repo)', 'playground(repo)', 'oh-my-zsh(repo)', 'pelican_plugin-render_math(repo)', 'DeepLearningTutorials(repo)', 'meeting-room-tablet(repo)', 'optim(repo)', 'jedi(repo)', 'decouple(repo)', 'opencv(repo)', 'skflow(repo)', 'hue(repo)', 'dc.js(repo)', 'caffe(repo)', 'doppelganger(repo)', 'pykka(repo)', 'kaggle-galaxies(repo)', 'crouton(repo)', 'mr4c(repo)', 'flann(repo)', 'Adversarial_Video_Generation(repo)', 'zipline(repo)', 'fast-bind(repo)', 'backbone-and-d3(repo)', 'rethinkdb(repo)', 'tfjs(repo)', 'validator.github.io(repo)', 'sass(repo)', 'gradient-checkpointing(repo)', 'ShareJS(repo)', 'FacialExpression(repo)', 's2geometry(repo)', 'openface(repo)', 'pyboard(repo)', 'karma(repo)', 'html5validator(repo)', 'keras(repo)', '500lines(repo)', 'dataset(repo)', 'databench(repo)', 'GooFit(repo)', 'statsd(repo)', 'Theano(repo)', 'marp(repo)', 'moby(repo)', 'TypeScript(repo)', 'dvds-js(repo)', 'parquet-format(repo)', 'snappy(repo)', 'deepdive(repo)', 'databench_go(repo)', 'attrs(repo)', 'DeepMind-Atari-Deep-Q-Learner(repo)', 'jupyterlab(repo)', 'ntm(repo)', 'hydra(repo)', 's2sphere(repo)', 'Document2Vec(repo)', 'es6-cheatsheet(repo)']\n",
      "Programming languages svenkreiss is interested in\n",
      "{'CoffeeScript', 'Shell', 'Scala', 'C', 'TypeScript', 'Jupyter Notebook', None, 'JavaScript', 'Java', 'Ruby', 'Eagle', 'Lua', 'Go', 'CSS', 'C++', 'HTML', 'Matlab', 'Python', 'Elixir', 'Perl'}\n"
     ]
    }
   ],
   "source": [
    "print(hottestUsers[0][0])\n",
    "user = hottestUsers[0][0].split('(')[0]\n",
    "print(\"Respositories that \"+user+ \" has starred\")\n",
    "repos = getPreferRepos(user)\n",
    "print(repos)\n",
    "print(\"Programming languages \"+user+ \" is interested in\")  \n",
    "langs = getPreferLanguages(user)\n",
    "print(langs)"
   ]
  },
  {
   "cell_type": "markdown",
   "metadata": {},
   "source": [
    "Correspondingly, we can also get the list of users who star one certain repo."
   ]
  },
  {
   "cell_type": "code",
   "execution_count": 13,
   "metadata": {},
   "outputs": [],
   "source": [
    "def getStarredUser(repoName):\n",
    "    users = []\n",
    "    for (v, i) in graph.in_degree():\n",
    "        if graph.node[v]['type'] == 'user':\n",
    "            if repoName+\"(repo)\" in getPreferRepos(v.split('(')[0]):\n",
    "                users.append(v)\n",
    "    return users"
   ]
  },
  {
   "cell_type": "markdown",
   "metadata": {},
   "source": [
    "For the hottest repo, we can also get the list of user who have starred the repo."
   ]
  },
  {
   "cell_type": "code",
   "execution_count": 14,
   "metadata": {},
   "outputs": [
    {
     "name": "stdout",
     "output_type": "stream",
     "text": [
      "['farquasar1(user)', 'SummerTea(user)', 'rk4n(user)', 'jgmize(user)', 'thulio(user)', 'pbamotra(user)', 'freeman-lab(user)', '7125messi(user)', 'ansrivas(user)', 'pd-spark(user)', 'he0x(user)', 'StephanErb(user)', 'ajschumacher(user)', 'yv(user)', 'Stardust1002(user)', 'zafercavdar(user)', 'hezila(user)', 'dhanainme(user)', 'thalesmello(user)', 'ziedzic(user)', 'felipecruz(user)', 'd2207197(user)', 'gerbaudo(user)', 'aalhour(user)', 'robinsingh1(user)', 'Horace89(user)', 'XIEQ(user)', 'tcoyze(user)', 'wuxianliang(user)', 'blahblueray(user)', 'walkersuen(user)', 'ajlmsbux(user)', 'tedmiston(user)', 'lomereiter(user)', 'ChristianSch(user)', 'ainkov(user)', 'vnnw(user)', 'peristeri(user)', 'dclambert(user)', 'ptrf(user)', 'RishiSankineni(user)', 'ekampf(user)', 'eien(user)', 'bossjones(user)', 'amelio-vazquez-reina(user)', 'binh-vu(user)', 'svenkreiss(user)', 'ZhukovAlexander(user)', 'qiulin(user)', 'smrjan(user)', 'kmatt(user)', 'wangdi244(user)', 'denisfitz57(user)', 'Smerity(user)', 'dvatterott(user)', 'jchaat(user)', 'dkanoafry(user)', 'ilgarm(user)', 'ddboline(user)', 'Bennyelg(user)', 'ronert(user)', 'rushter(user)', 'qwert666(user)', 'wearpants(user)', 'rsmith54(user)', 'petrushy(user)', 'dchudz(user)', 'Lguyogiro(user)', 'mvaz(user)', 'pauldevos(user)', 'cupen(user)', 'petro-rudenko(user)', 'waxz(user)', 'angusshire(user)', 'dogrdon(user)', 'mvherweg(user)', 'gawry(user)', 'castanan(user)', 'imrv13(user)', 'jessem(user)', 'esafak(user)', 'ahmedezzeldin93(user)', 'hhstore(user)', 'pradeepmathesh(user)', 'nschlemm(user)', 'freegnu(user)', 'sevenguin(user)', 'aleury(user)', 'akansal1(user)', 'lingyong(user)', 'dylanroy(user)', 'chaoyue729(user)', 'silverstone1903(user)', 'basilhe(user)', 'Greenall(user)', 'xinyu-usf(user)', 'mjhea0(user)', 'ikatanic(user)', 'spillai(user)', 'cheekybastard(user)', 'nabilm(user)', 'JonasAmrich(user)', 'rdhyee(user)', 'xq2005(user)', 'rgabo(user)', 'brianv0(user)', 'onesuper(user)', 'telamonian(user)', 'pganssle(user)', 'Veallym0n(user)', 'luiscape(user)', 'flysky1991(user)', 'alcidesmorales(user)', 'qiwihui(user)', 'zuoxiaolei(user)', 'ycliuhw(user)', 'greyhill(user)', 'xrbu(user)', 'fonnesbeck(user)', 'cranmer(user)', 'Pushkr(user)', 'johanfforsberg(user)', 'emlazzarin(user)', 'leetreveil(user)', 't0n1c(user)', 'vasudevram(user)', 'dan-blanchard(user)', 'ct-clmsn(user)', 'xunyou(user)', 'mtpatter(user)', 'ylogx(user)', 'alexprengere(user)', 'danilomo(user)', 'skribled(user)', 'Syrus(user)', 'xyzdream(user)', 'juanshishido(user)', 'samuel-kerrien(user)', 'younescha(user)', 'codinguncut(user)', 'miniaturelle(user)', 'sourcepirate(user)', 'craigwilkins(user)', 'kennethlimjf(user)', 'drauschenbach(user)', 'matagus(user)', 'ysku(user)']\n",
      "147\n"
     ]
    }
   ],
   "source": [
    "repo = hottestRepos[0][0].split('(')[0]\n",
    "users = getStarredUser(repo)\n",
    "print(users)\n",
    "print(len(users))"
   ]
  },
  {
   "cell_type": "markdown",
   "metadata": {
    "collapsed": true
   },
   "source": [
    "Using the two functions above, we can do some further analysis about the relationship between some hot topics. For each pair of repos, we can count how many people star both two repos? "
   ]
  },
  {
   "cell_type": "code",
   "execution_count": 15,
   "metadata": {},
   "outputs": [],
   "source": [
    "def repoRelationship(repo1, repo2):\n",
    "    user1 = getStarredUser(repo1)\n",
    "    user2 = getStarredUser(repo2)\n",
    "    commonUser = set(user1)&set(user2)\n",
    "    p1 = len(commonUser)/len(user1)\n",
    "    p2 = len(commonUser)/len(user2)\n",
    "    return (p1,p2)"
   ]
  },
  {
   "cell_type": "markdown",
   "metadata": {},
   "source": [
    "To get the visible result, we use library Seaborn to create a heatmap."
   ]
  },
  {
   "cell_type": "code",
   "execution_count": 16,
   "metadata": {},
   "outputs": [],
   "source": [
    "import seaborn as sns # for Interactive plots\n",
    "import matplotlib.pyplot as plt # for plots\n",
    "% matplotlib inline\n",
    "import pandas as pd\n",
    "import numpy as np\n",
    "\n",
    "def repoHeatMap(repos):\n",
    "    length = len(repos)\n",
    "    x = np.zeros((length,length))\n",
    "    columns = list(map(lambda x:x[0].split('(')[0],repos))\n",
    "    print(columns)\n",
    "    for i,v in enumerate(columns):\n",
    "        for j in range(i,length):\n",
    "            p1,p2 = repoRelationship(v,columns[j])\n",
    "            x[i][j] = p1\n",
    "            x[j][i] = p2\n",
    "    df = pd.DataFrame(x,columns = columns)\n",
    "    sns.heatmap(df,annot=True)\n",
    "#     plt.figure(figsize=(12,10))\n",
    "    plt.xticks(rotation=75)\n",
    "    plt.show()"
   ]
  },
  {
   "cell_type": "markdown",
   "metadata": {},
   "source": [
    "We use the top ten hottest repos to create the heatmap."
   ]
  },
  {
   "cell_type": "code",
   "execution_count": 17,
   "metadata": {},
   "outputs": [
    {
     "name": "stdout",
     "output_type": "stream",
     "text": [
      "['pysparkling', 'spark', 'tensorflow', 'dask', 'jupyterlab', 'incubator-superset', 'models', 'awesome-machine-learning', 'TensorFlow-Examples', 'keras']\n"
     ]
    },
    {
     "data": {
      "image/png": "[encoded data removed]",
      "text/plain": [
       "<matplotlib.figure.Figure at 0x1512711668>"
      ]
     },
     "metadata": {},
     "output_type": "display_data"
    }
   ],
   "source": [
    "repoHeatMap(hottestRepos)"
   ]
  },
  {
   "cell_type": "markdown",
   "metadata": {
    "collapsed": true
   },
   "source": [
    "### Find Hot Programming Language\n",
    "\n",
    "What if we want to know which is the most popular language for all projects in the current map we generated? We can go through the projects and then extract the language part and put it into the counter to count, this seems easy to do, but what if we want to query how many users are programming in a particular kind of language? This requires scanning the in-degree users of each project, and finally summing up the count results. This idea requires large time complexity. A good idea at this time is to expand the map and use the language as a single node. The logic diagram of the final map is as follows:"
   ]
  },
  {
   "cell_type": "code",
   "execution_count": 18,
   "metadata": {},
   "outputs": [],
   "source": [
    "def createLanguageMap():\n",
    "    repos = []\n",
    "  \n",
    "    for n in graph.nodes():\n",
    "        if graph.node[n]['type'] == 'repo':\n",
    "            repos.append(n)\n",
    "\n",
    "    for repo in repos:\n",
    "        # some empty projects may have none of the language part\n",
    "        if graph.node[repo]['lang']:\n",
    "            lang = (graph.node[repo]['lang']) + \"(lang)\"\n",
    "        else:\n",
    "            lang = (\"\") + \"(lang)\"\n",
    "            \n",
    "        # users who gazed repo\n",
    "        stargazers = []\n",
    "\n",
    "        for (user, repo, data) in graph.in_edges(repo, data=True):\n",
    "            if data['type'] == 'gazes':\n",
    "                stargazers.append(user)\n",
    "\n",
    "        for stargazer in stargazers:\n",
    "            graph.add_edge(stargazer, lang, type='programs')\n",
    "            graph.add_node(lang, type='lang')\n",
    "            graph.add_edge(lang, repo, type='implements')  "
   ]
  },
  {
   "cell_type": "markdown",
   "metadata": {},
   "source": [
    "Then, let's see the count results of the languages. First we should see what languages are there in the map:"
   ]
  },
  {
   "cell_type": "code",
   "execution_count": 19,
   "metadata": {},
   "outputs": [
    {
     "name": "stdout",
     "output_type": "stream",
     "text": [
      "['ANTLR(lang)', 'Stan(lang)', 'Jupyter Notebook(lang)', 'Roff(lang)', 'Eagle(lang)', 'M4(lang)', 'HTML(lang)', 'HCL(lang)', 'Assembly(lang)', 'Stata(lang)', 'Common Workflow Language(lang)', 'Crystal(lang)', 'C(lang)', 'R(lang)', 'NSIS(lang)', 'Makefile(lang)', 'CoffeeScript(lang)', 'MQL5(lang)', '(lang)', 'Protocol Buffer(lang)', 'Common Lisp(lang)', 'Matlab(lang)', 'Vala(lang)', 'Verilog(lang)', 'Objective-C++(lang)', 'Ruby(lang)', 'LiveScript(lang)', 'Smarty(lang)', 'JavaScript(lang)', 'Red(lang)', 'Mathematica(lang)', 'Nimrod(lang)', 'Coq(lang)', 'XSLT(lang)', 'Elm(lang)', 'VimL(lang)', 'Awk(lang)', 'Perl(lang)', 'Yacc(lang)', 'LookML(lang)', 'TeX(lang)', 'PowerShell(lang)', 'Tcl(lang)', 'Ragel in Ruby Host(lang)', 'CMake(lang)', 'GCC Machine Description(lang)', 'Batchfile(lang)', 'Groovy(lang)', 'Puppet(lang)', 'PLpgSQL(lang)', 'TLA(lang)', 'Cuda(lang)', 'C++(lang)', 'WebAssembly(lang)', 'Frege(lang)', 'Shell(lang)', 'D(lang)', 'Dart(lang)', 'OpenEdge ABL(lang)', 'Vue(lang)', 'Pony(lang)', 'Erlang(lang)', 'PureBasic(lang)', 'Objective-C(lang)', 'Visual Basic(lang)', 'Chapel(lang)', 'SystemVerilog(lang)', 'QML(lang)', 'VHDL(lang)', 'Web Ontology Language(lang)', 'PostScript(lang)', 'Vim script(lang)', 'Go(lang)', 'Terra(lang)', 'Rust(lang)', 'ApacheConf(lang)', 'Lua(lang)', 'Kotlin(lang)', 'F#(lang)', 'SRecode Template(lang)', 'Java(lang)', 'Standard ML(lang)', 'Rebol(lang)', 'Haskell(lang)', 'Scheme(lang)', 'Elixir(lang)', 'PHP(lang)', 'Scilab(lang)', 'Processing(lang)', 'Python(lang)', 'Nginx(lang)', 'Fortran(lang)', 'Nix(lang)', 'OCaml(lang)', 'TypeScript(lang)', 'RAML(lang)', 'Prolog(lang)', 'AppleScript(lang)', 'Pascal(lang)', 'PureScript(lang)', 'Hy(lang)', 'ActionScript(lang)', 'DIGITAL Command Language(lang)', 'J(lang)', 'Emacs Lisp(lang)', 'CSS(lang)', 'Clojure(lang)', 'Julia(lang)', 'LLVM(lang)', 'C#(lang)', 'Racket(lang)', 'CWeb(lang)', 'Lean(lang)', 'Thrift(lang)', 'Swift(lang)', 'Scala(lang)', 'Arduino(lang)', 'IDL(lang)', 'Groff(lang)', 'MAXScript(lang)', 'SaltStack(lang)', 'Agda(lang)', 'Rascal(lang)', 'Nim(lang)']\n"
     ]
    }
   ],
   "source": [
    "createLanguageMap()\n",
    "# let us see what languages are in the map\n",
    "res = []\n",
    "for n in graph.nodes():\n",
    "    if graph.node[n]['type'] == 'lang':\n",
    "        res.append(n)\n",
    "print(res)   "
   ]
  },
  {
   "cell_type": "markdown",
   "metadata": {},
   "source": [
    "Now we can see the top 10 hottest languages users are using:"
   ]
  },
  {
   "cell_type": "code",
   "execution_count": 20,
   "metadata": {},
   "outputs": [],
   "source": [
    "# find hottest X languages\n",
    "def topLanguages(limit):\n",
    "    print (\"Most popular languages\")\n",
    "    print (sorted([(n, graph.in_degree(n))\n",
    "     for n in graph.nodes() \n",
    "         if graph.node[n]['type'] == 'lang'], key=itemgetter(1), reverse=True)[:limit])"
   ]
  },
  {
   "cell_type": "code",
   "execution_count": 21,
   "metadata": {},
   "outputs": [
    {
     "name": "stdout",
     "output_type": "stream",
     "text": [
      "Most popular languages\n",
      "[('Python(lang)', 147), ('(lang)', 134), ('JavaScript(lang)', 134), ('C++(lang)', 129), ('Java(lang)', 126), ('Jupyter Notebook(lang)', 125), ('C(lang)', 123), ('HTML(lang)', 121), ('Shell(lang)', 116), ('Go(lang)', 105)]\n"
     ]
    }
   ],
   "source": [
    "# find top 10 languages\n",
    "topLanguages(10)"
   ]
  },
  {
   "cell_type": "markdown",
   "metadata": {},
   "source": [
    "And let us see some common languages usage:"
   ]
  },
  {
   "cell_type": "code",
   "execution_count": 22,
   "metadata": {},
   "outputs": [],
   "source": [
    "# find how many people are using the certain kind of language\n",
    "def languageUsage(languageType):\n",
    "    langUser = []\n",
    "    for (user, lang) in graph.in_edges(languageType):\n",
    "         if graph.node[user]['type'] == 'user':\n",
    "                langUser.append(user)\n",
    "    return langUser"
   ]
  },
  {
   "cell_type": "code",
   "execution_count": 27,
   "metadata": {},
   "outputs": [
    {
     "name": "stdout",
     "output_type": "stream",
     "text": [
      "Number of Python programmers: 147\n",
      "Number of JavaScript programmers: 134\n",
      "Number of R programmers: 53\n",
      "--------------------------------------------------------\n",
      "Number of C programmers: 123\n",
      "Number of C++ programmers: 129\n",
      "--------------------------------------------------------\n",
      "Number of CSS programmers: 91\n",
      "Number of HTML programmers: 121\n",
      "Number of PHP programmers: 51\n"
     ]
    }
   ],
   "source": [
    "python_user = languageUsage('Python(lang)')\n",
    "js_user = languageUsage('JavaScript(lang)')\n",
    "r_user = languageUsage('R(lang)')\n",
    "c_user = languageUsage('C(lang)')\n",
    "cplus_user = languageUsage('C++(lang)')\n",
    "css_user = languageUsage('CSS(lang)')\n",
    "html_user = languageUsage('HTML(lang)')\n",
    "php_user = languageUsage('PHP(lang)')\n",
    "\n",
    "print (\"Number of Python programmers:\", len(python_user))\n",
    "print (\"Number of JavaScript programmers:\", len(js_user))\n",
    "print (\"Number of R programmers:\", len(r_user))\n",
    "print(\"--------------------------------------------------------\")\n",
    "print (\"Number of C programmers:\", len(c_user))\n",
    "print (\"Number of C++ programmers:\", len(cplus_user))\n",
    "print(\"--------------------------------------------------------\")\n",
    "print (\"Number of CSS programmers:\", len(css_user))\n",
    "print (\"Number of HTML programmers:\", len(html_user))\n",
    "print (\"Number of PHP programmers:\", len(php_user))"
   ]
  },
  {
   "cell_type": "markdown",
   "metadata": {},
   "source": [
    "for the most languages people used: pyhton and js, we also analyzed the intersection of these two languages:"
   ]
  },
  {
   "cell_type": "code",
   "execution_count": 28,
   "metadata": {},
   "outputs": [],
   "source": [
    "def compareJSwithPy(js,py):\n",
    "    # people who use both languages\n",
    "    print (\"Number of programmers who use js and Py:\")\n",
    "    print (len(set(js).intersection(set(py))))\n",
    "\n",
    "    # people who only use python but not js\n",
    "    print (\"Number of programmers who use Py but not Js:\")\n",
    "    print (len(set(py).difference(set(js))))\n",
    "    \n",
    "    # people who only use js but not py\n",
    "    print (\"Number of programmers who use js but not py:\")\n",
    "    print (len(set(js).difference(set(py))))"
   ]
  },
  {
   "cell_type": "code",
   "execution_count": 29,
   "metadata": {},
   "outputs": [
    {
     "name": "stdout",
     "output_type": "stream",
     "text": [
      "Number of programmers who use js and Py:\n",
      "134\n",
      "Number of programmers who use Py but not Js:\n",
      "0\n",
      "Number of programmers who use js but not py:\n",
      "13\n"
     ]
    }
   ],
   "source": [
    "compareJSwithPy(python_user,js_user)"
   ]
  },
  {
   "cell_type": "markdown",
   "metadata": {},
   "source": [
    "Wala! Now we can analyze the results! It can be seen from the results that JS and R, python and other scripting languages in github's preferred language list occupy the mainstream. Although there are only 10,000 items involved in the data we analyzed, it is like the old saying: “github is the world of front end”.\n",
    "\n",
    "What's more, Scala is also very hot from seeing our results, mainly because the \"source of the project\" is findspark.\n",
    "\n",
    "Another interesting phenomenon is that the programmers who use python definetly will use js, and those who use js  will not necessarily use python (80-74=6 individuals who is using js but not using python)."
   ]
  },
  {
   "cell_type": "markdown",
   "metadata": {},
   "source": [
    "### Visialize the relationship between the users and languages"
   ]
  },
  {
   "cell_type": "code",
   "execution_count": 30,
   "metadata": {},
   "outputs": [
    {
     "data": {
      "text/html": [
       "\n",
       "        <iframe\n",
       "            width=\"100%\"\n",
       "            height=\"900px\"\n",
       "            src=\"force.html\"\n",
       "            frameborder=\"0\"\n",
       "            allowfullscreen\n",
       "        ></iframe>\n",
       "        "
      ],
      "text/plain": [
       "<IPython.lib.display.IFrame at 0x1a2084bac8>"
      ]
     },
     "metadata": {},
     "output_type": "display_data"
    }
   ],
   "source": [
    "import os\n",
    "import json\n",
    "from IPython.display import IFrame\n",
    "from IPython.core.display import display \n",
    "from networkx.readwrite import json_graph\n",
    "\n",
    "\n",
    "# extract users and language info\n",
    "mtsw_users = [n for n in graph if graph.node[n]['type'] == 'user'] +[n for n in graph if graph.node[n]['type'] == 'lang'] \n",
    "h = graph.subgraph(mtsw_users)\n",
    "# export json\n",
    "d = json_graph.node_link_data(h)\n",
    "json.dump(d, open('d3/force.json', 'w'))\n",
    "viz_file = 'force.html'\n",
    "# D3 to visulize it\n",
    "display(IFrame(viz_file, '100%', '900px'))"
   ]
  },
  {
   "cell_type": "markdown",
   "metadata": {
    "collapsed": true
   },
   "source": [
    "### References"
   ]
  },
  {
   "cell_type": "markdown",
   "metadata": {
    "collapsed": true
   },
   "source": [
    "1. [GitHub API](https://networkx.github.io/documentation/stable/)\n",
    "2. [NetworkX Documentation](https://networkx.github.io/documentation/stable/)\n",
    "3. [Seaborn API](https://seaborn.pydata.org/api.html)"
   ]
  }
 ],
 "metadata": {
  "kernelspec": {
   "display_name": "Python 3",
   "language": "python",
   "name": "python3"
  },
  "language_info": {
   "codemirror_mode": {
    "name": "ipython",
    "version": 3
   },
   "file_extension": ".py",
   "mimetype": "text/x-python",
   "name": "python",
   "nbconvert_exporter": "python",
   "pygments_lexer": "ipython3",
   "version": "3.5.1"
  }
 },
 "nbformat": 4,
 "nbformat_minor": 2
}
