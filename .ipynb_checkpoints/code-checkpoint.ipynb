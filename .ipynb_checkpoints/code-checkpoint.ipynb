{
 "cells": [
  {
   "cell_type": "markdown",
   "metadata": {},
   "source": [
    "## Insights of GitHub Networks\n"
   ]
  },
  {
   "cell_type": "markdown",
   "metadata": {},
   "source": [
    "## Introduction\n",
    "Every software engineer uses GitHub. Being a open source distributed version control tool, GitHub has thoundsands of new repositorys in every hour. Thus, GitHub could also be used as a huge dynamic data source to analyze technology status quo and trend.\n",
    "\n",
    "In this project, we will be looking into serveral things like who is the most popular person in certain field, what is the current hottest project and how much does different programming languages being used. In order to support our purpose, we will use GitHub API and NetworkX.\n"
   ]
  },
  {
   "cell_type": "markdown",
   "metadata": {},
   "source": [
    "### GitHub API\n",
    "\n",
    "We will use GitHub API from [here](https://developer.github.com/v3/).\n",
    "All the API calls are using HTTPS requests and it will return in JSON format.\n",
    "\n",
    "Steps to use GitHub API:\n",
    "1. Install `pygithub` by \n",
    "`-pip install pygithub`\n",
    "2. Generate a GitHub Personal access token required for `GitHub API`\n",
    "3. Test You API in local terminal using the following command. It is expected to return a list of dictionary contains your account info\n",
    "##### - curl https://api.github.com/user\\?access_token\\={YOUR_TOKEN}\n",
    "\n",
    "\n"
   ]
  },
  {
   "cell_type": "markdown",
   "metadata": {},
   "source": [
    "### NetworkX\n",
    "NetworkX is a Python package for the creation, manipulation, and study of the structure, dynamics, and functions of complex networks. It provides tools to work with large dataset with network strucutres. With NetworkX, we can load and store neyworks in standard data format easily. It can also helps us to generate classic networks, analyze network strucutre, build network models and much more.\n",
    "\n",
    "You can install `NetworkX` by `-pip install networkx`\n"
   ]
  },
  {
   "cell_type": "code",
   "execution_count": 1,
   "metadata": {},
   "outputs": [],
   "source": [
    "import sys\n",
    "from github import Github\n",
    "import networkx as nx\n",
    "from operator import itemgetter\n",
    "\n",
    "# Global Variables\n",
    "ACCESS_TOKEN = \"05bb4eb867b152be20dd11f4fa292107c839931c\"\n",
    "USER = 'svenkreiss'  # Define the GitHub User Name\n",
    "REPO = 'pysparkling'  # Define the Repo name\n",
    "client = Github(ACCESS_TOKEN)\n",
    "graph = nx.DiGraph()"
   ]
  },
  {
   "cell_type": "markdown",
   "metadata": {},
   "source": [
    "### Set Up NetworkX Graph\n",
    "\n",
    "\n",
    "After defined the user and repo name that we are going to explore, we can then set up the NetworkX graph.\n",
    "\n",
    "We will add the repo and each user who starred the repo as nodes, and build edges between them. After this, we also add edges between users and their followers. "
   ]
  },
  {
   "cell_type": "code",
   "execution_count": 2,
   "metadata": {},
   "outputs": [],
   "source": [
    "def buildRepoRelations(REPO):\n",
    "    user = client.get_user(USER)\n",
    "    repo = user.get_repo(REPO)  # Get a specific repo\n",
    "    REPOS = user.get_repos()\n",
    "    stargazers = list(repo.get_stargazers())  # The list of users who starred this REPO\n",
    "    graph.add_node(repo.name + '(repo)', type='repo', lang=repo.language, owner=user.login)\n",
    "    for stargazer in stargazers:\n",
    "        graph.add_node(stargazer.login + '(user)', type='user')\n",
    "        graph.add_edge(stargazer.login + '(user)', repo.name + '(repo)', type='gazes')\n",
    "    #\tprint(len(stargazers))#See if it return a correct list\n",
    "    return stargazers\n",
    "\n",
    "\n",
    "def buildUserRelations(stargazers):\n",
    "    for i, stargazer in enumerate(stargazers):\n",
    "        followers = stargazer.get_followers()\n",
    "        try:\n",
    "            for follower in followers:\n",
    "                if follower.login + '(user)' in graph:\n",
    "                    graph.add_edge(follower.login + '(user)', stargazer.login + '(user)', type='follows')\n",
    "        except Exception:  \n",
    "            print(\"Encountered an error when finding follower for user: \", stargazer.login)\n",
    "        #See How many available API calls remaining\n",
    "        print (\"API Calls Remaining\", client.rate_limiting)"
   ]
  },
  {
   "cell_type": "code",
   "execution_count": null,
   "metadata": {
    "scrolled": true
   },
   "outputs": [
    {
     "name": "stdout",
     "output_type": "stream",
     "text": [
      "API Calls Remaining (4991, 5000)\n",
      "API Calls Remaining (4989, 5000)\n",
      "API Calls Remaining (4988, 5000)\n",
      "API Calls Remaining (4987, 5000)\n",
      "API Calls Remaining (4985, 5000)\n",
      "API Calls Remaining (4984, 5000)\n",
      "API Calls Remaining (4982, 5000)\n",
      "API Calls Remaining (4981, 5000)\n",
      "API Calls Remaining (4978, 5000)\n",
      "API Calls Remaining (4968, 5000)\n",
      "API Calls Remaining (4967, 5000)\n",
      "API Calls Remaining (4938, 5000)\n",
      "API Calls Remaining (4937, 5000)\n",
      "API Calls Remaining (4919, 5000)\n",
      "API Calls Remaining (4917, 5000)\n",
      "API Calls Remaining (4915, 5000)\n",
      "API Calls Remaining (4914, 5000)\n",
      "API Calls Remaining (4913, 5000)\n",
      "API Calls Remaining (4911, 5000)\n",
      "API Calls Remaining (4871, 5000)\n",
      "API Calls Remaining (4870, 5000)\n",
      "API Calls Remaining (4869, 5000)\n",
      "API Calls Remaining (4862, 5000)\n",
      "API Calls Remaining (4860, 5000)\n",
      "API Calls Remaining (4859, 5000)\n",
      "API Calls Remaining (4856, 5000)\n",
      "API Calls Remaining (4854, 5000)\n",
      "API Calls Remaining (4838, 5000)\n",
      "API Calls Remaining (4835, 5000)\n",
      "API Calls Remaining (4834, 5000)\n",
      "API Calls Remaining (4833, 5000)\n",
      "API Calls Remaining (4832, 5000)\n",
      "API Calls Remaining (4817, 5000)\n",
      "API Calls Remaining (4815, 5000)\n",
      "API Calls Remaining (4814, 5000)\n",
      "API Calls Remaining (4813, 5000)\n",
      "API Calls Remaining (4812, 5000)\n",
      "API Calls Remaining (4811, 5000)\n",
      "API Calls Remaining (4809, 5000)\n",
      "API Calls Remaining (4808, 5000)\n",
      "API Calls Remaining (4807, 5000)\n",
      "API Calls Remaining (4806, 5000)\n",
      "API Calls Remaining (4804, 5000)\n",
      "API Calls Remaining (4801, 5000)\n"
     ]
    }
   ],
   "source": [
    "stargazers = buildRepoRelations(REPO)\n",
    "buildUserRelations(stargazers)"
   ]
  },
  {
   "cell_type": "markdown",
   "metadata": {},
   "source": [
    "### Find Hottest User\n",
    "In this step, we use the graph initialized above to find the hottest users. The hottest user is defined as the GitHub user followed by most of the people who starred the repo we defined previously. This can also be interpreted as those who starred this repo also follows ... \n"
   ]
  },
  {
   "cell_type": "code",
   "execution_count": null,
   "metadata": {},
   "outputs": [],
   "source": [
    "from collections import Counter\n",
    "from operator import itemgetter\n",
    "\n",
    "def getHottestUser(stargazers):\n",
    "    \n",
    "    temp_list = []\n",
    "    for edge in graph.edges(data = True):\n",
    "        if edge[2]['type'] == 'follows':\n",
    "            temp_list.append(edge[1])\n",
    "    counter = Counter(temp_list)\n",
    "    \n",
    "    popular_users = []\n",
    "    for u, f in counter.most_common():\n",
    "        popular_users.append((u,f))\n",
    "    print (\"Number of popular users\", len(popular_users))\n",
    "    print (\"Top popular users:\", popular_users[:10])\n",
    "    return popular_users[:10]\n",
    "hottestUsers = getHottestUser(stargazers)"
   ]
  },
  {
   "cell_type": "markdown",
   "metadata": {},
   "source": [
    "The result above shows the most popular users. However, we care more about some centralities that NetworkX provided.\n",
    "#### Degree Centrality\n",
    "The Degree Centrality for a node v is the fraction of nodes it is connected to. \n",
    "#### Betweenness Centrality\n",
    "Also, the Betweenness Centrality compute the shortest path for nodes. It is the sum of the fraction of all-pairs shortest paths that pass through the node v. \n",
    "#### Closeness Centrality\n",
    "Lastly, the Closeness Centrality of a node u is the reciprocal of the sum of the shortest path distances from u to all n-1 other nodes. Since the sum of distances depends on the number of nodes in the graph, closeness is normalized by the sum of minimum possible distances n-1.\n",
    "\n",
    "\n"
   ]
  },
  {
   "cell_type": "code",
   "execution_count": null,
   "metadata": {},
   "outputs": [],
   "source": [
    "def formatResult(graph):\n",
    "    graph_copy = graph.copy()\n",
    "    # Remove center node\n",
    "    graph_copy.remove_node('pysparkling(repo)')\n",
    "\n",
    "    dc = sorted(nx.degree_centrality(graph_copy).items(), \n",
    "                key=itemgetter(1), reverse=True)\n",
    "\n",
    "    bc = sorted(nx.betweenness_centrality(graph_copy).items(), \n",
    "                key=itemgetter(1), reverse=True)\n",
    "    cc = sorted(nx.closeness_centrality(graph_copy).items(), \n",
    "                key=itemgetter(1), reverse=True)\n",
    "    return (dc, bc, cc)\n",
    "\n",
    "dc, bc, cc = formatResult(graph)\n",
    "\n",
    "print (\"Degree Centrality\")\n",
    "print (dc[:5],'\\n')\n",
    "\n",
    "print (\"Betweenness Centrality\")\n",
    "print (bc[:5],'\\n')\n",
    "\n",
    "print (\"Closeness Centrality\")\n",
    "print (cc[:5])"
   ]
  },
  {
   "cell_type": "markdown",
   "metadata": {},
   "source": [
    "### Find Hottest Repository "
   ]
  },
  {
   "cell_type": "markdown",
   "metadata": {},
   "source": [
    "For the network we have currently, there is only one repo. To find the hottest repository, we need to go through each user in the network and then add their starred repos into the network. After that, it is easy for us to get the popular repositories. Moreover, we can also get to know the language preference of one certain user."
   ]
  },
  {
   "cell_type": "markdown",
   "metadata": {},
   "source": [
    "There are two input parameters of function buildRepoNet. The stargazers is the output of function buildRepoRelations which is a list of users who starred this original repo. Sometimes a user marks too many repos and it takes a lot of time to build the net. So here the limit_repo parameter could define the maximum of the repos of one user we need to add into the net. "
   ]
  },
  {
   "cell_type": "code",
   "execution_count": null,
   "metadata": {},
   "outputs": [],
   "source": [
    "def buildRepoNet(stargazers, limit_repo):\n",
    "    for i, v in enumerate(stargazers):\n",
    "        print(v.login)\n",
    "        try:\n",
    "            for starred in v.get_starred()[:limit_repo]:  # Slice to avoid supernodes\n",
    "                graph.add_node(starred.name + '(repo)', type='repo', lang=starred.language, \\\n",
    "                           owner=starred.owner.login)\n",
    "                graph.add_edge(v.login + '(user)', starred.name + '(repo)', type='gazes')\n",
    "        except Exception:  # ssl.SSLError:\n",
    "            print(\"Encountered an error fetching starred repos for\", v.login, \"Skipping.\")\n",
    "\n",
    "        print(\"Num nodes/edges in graph\", graph.number_of_nodes(), \"/\", graph.number_of_edges())\n",
    "    print(nx.info(graph), '\\n')\n"
   ]
  },
  {
   "cell_type": "markdown",
   "metadata": {},
   "source": [
    "Here we define the number of limit_repo as 200. It takes about 10 minutes to generate the repo net. The total number of nodes is 15696 and the total number of edges is 22100."
   ]
  },
  {
   "cell_type": "code",
   "execution_count": null,
   "metadata": {
    "scrolled": true
   },
   "outputs": [],
   "source": [
    "buildRepoNet(stargazers,200)"
   ]
  },
  {
   "cell_type": "markdown",
   "metadata": {},
   "source": [
    "Next, we can use the builded net to get the popular repos. The more users star the repo, the more popular it is. So here we iterate each repo node in the graph and record the number of hit times."
   ]
  },
  {
   "cell_type": "code",
   "execution_count": null,
   "metadata": {},
   "outputs": [],
   "source": [
    "def getTopNRepos(n):\n",
    "    print(\"Top \"+ str(n) + \" Popular repositories:\")\n",
    "    \n",
    "    repos = []\n",
    "    for (v, i) in graph.in_degree():\n",
    "        if graph.node[v]['type'] == 'repo':\n",
    "            repos.append((v,i))\n",
    "    repos = sorted(repos, key = lambda x:x[1], reverse=True)\n",
    "    return repos[:n]"
   ]
  },
  {
   "cell_type": "markdown",
   "metadata": {},
   "source": [
    "Let's try to get the top 10 popular repositories."
   ]
  },
  {
   "cell_type": "code",
   "execution_count": null,
   "metadata": {},
   "outputs": [],
   "source": [
    "hottestRepos = getTopNRepos(10)\n",
    "print(hottestRepos)"
   ]
  },
  {
   "cell_type": "markdown",
   "metadata": {},
   "source": [
    "With this network graph, we can also get the one certain user's preference such as the repositories he followed and the programming languages."
   ]
  },
  {
   "cell_type": "code",
   "execution_count": null,
   "metadata": {},
   "outputs": [],
   "source": [
    "def getPreferRepos(username):\n",
    "    \n",
    "    repos = []\n",
    "    for v in graph[username+\"(user)\"]:\n",
    "        if graph[username+\"(user)\"][v]['type'] == 'gazes':\n",
    "            repos.append(v)\n",
    "    return repos"
   ]
  },
  {
   "cell_type": "code",
   "execution_count": null,
   "metadata": {},
   "outputs": [],
   "source": [
    "def getPreferLanguages(username):\n",
    "      \n",
    "    langs = set()\n",
    "    for v in graph[username+\"(user)\"]:\n",
    "        if graph[username+\"(user)\"][v]['type'] == 'gazes':\n",
    "            langs.add(graph.node[v]['lang'])\n",
    "    return langs"
   ]
  },
  {
   "cell_type": "markdown",
   "metadata": {},
   "source": [
    "We can then check the preference of the hottest user we find above."
   ]
  },
  {
   "cell_type": "code",
   "execution_count": null,
   "metadata": {},
   "outputs": [],
   "source": [
    "print(hottestUsers[0][0])\n",
    "user = hottestUsers[0][0].split('(')[0]\n",
    "print(\"Respositories that \"+user+ \" has starred\")\n",
    "repos = getPreferRepos(user)\n",
    "print(repos)\n",
    "print(\"Programming languages \"+user+ \" is interested in\")  \n",
    "langs = getPreferLanguages(user)\n",
    "print(langs)"
   ]
  },
  {
   "cell_type": "markdown",
   "metadata": {},
   "source": [
    "Correspondingly, we can also get the list of users who star one certain repo."
   ]
  },
  {
   "cell_type": "code",
   "execution_count": null,
   "metadata": {},
   "outputs": [],
   "source": [
    "def getStarredUser(repoName):\n",
    "    users = []\n",
    "    for (v, i) in graph.in_degree():\n",
    "        if graph.node[v]['type'] == 'user':\n",
    "            if repoName+\"(repo)\" in getPreferRepos(v.split('(')[0]):\n",
    "                users.append(v)\n",
    "    return users"
   ]
  },
  {
   "cell_type": "markdown",
   "metadata": {},
   "source": [
    "For the hottest repo, we can also get the list of user who have starred the repo."
   ]
  },
  {
   "cell_type": "code",
   "execution_count": null,
   "metadata": {},
   "outputs": [],
   "source": [
    "repo = hottestRepos[0][0].split('(')[0]\n",
    "users = getStarredUser(repo)\n",
    "print(users)\n",
    "print(len(users))"
   ]
  },
  {
   "cell_type": "markdown",
   "metadata": {
    "collapsed": true
   },
   "source": [
    "Using the two functions above, we can do some further analysis about the relationship between some hot topics. For each pair of repos, we can count how many people star both two repos? "
   ]
  },
  {
   "cell_type": "code",
   "execution_count": null,
   "metadata": {},
   "outputs": [],
   "source": [
    "def repoRelationship(repo1, repo2):\n",
    "    user1 = getStarredUser(repo1)\n",
    "    user2 = getStarredUser(repo2)\n",
    "    commonUser = set(user1)&set(user2)\n",
    "    p1 = len(commonUser)/len(user1)\n",
    "    p2 = len(commonUser)/len(user2)\n",
    "    return (p1,p2)"
   ]
  },
  {
   "cell_type": "markdown",
   "metadata": {},
   "source": [
    "To get the visible result, we use library Seaborn to create a heatmap."
   ]
  },
  {
   "cell_type": "code",
   "execution_count": null,
   "metadata": {},
   "outputs": [],
   "source": [
    "import seaborn as sns # for Interactive plots\n",
    "import matplotlib.pyplot as plt # for plots\n",
    "% matplotlib inline\n",
    "import pandas as pd\n",
    "import numpy as np\n",
    "\n",
    "def repoHeatMap(repos):\n",
    "    length = len(repos)\n",
    "    x = np.zeros((length,length))\n",
    "    columns = list(map(lambda x:x[0].split('(')[0],repos))\n",
    "    print(columns)\n",
    "    for i,v in enumerate(columns):\n",
    "        for j in range(i,length):\n",
    "            p1,p2 = repoRelationship(v,columns[j])\n",
    "            x[i][j] = p1\n",
    "            x[j][i] = p2\n",
    "    df = pd.DataFrame(x,columns = columns)\n",
    "    sns.heatmap(df,annot=True)\n",
    "#     plt.figure(figsize=(12,10))\n",
    "    plt.xticks(rotation=75)\n",
    "    plt.show()"
   ]
  },
  {
   "cell_type": "markdown",
   "metadata": {},
   "source": [
    "We use the top ten hottest repos to create the heatmap."
   ]
  },
  {
   "cell_type": "code",
   "execution_count": null,
   "metadata": {},
   "outputs": [],
   "source": [
    "repoHeatMap(hottestRepos)"
   ]
  },
  {
   "cell_type": "markdown",
   "metadata": {
    "collapsed": true
   },
   "source": [
    "### Find Hot Programming Language\n",
    "\n",
    "What if we want to know which is the most popular language for all projects in the current map we generated? We can go through the projects and then extract the language part and put it into the counter to count, this seems easy to do, but what if we want to query how many users are programming in a particular kind of language? This requires scanning the in-degree users of each project, and finally summing up the count results. This idea requires large time complexity. A good idea at this time is to expand the map and use the language as a single node. The logic diagram of the final map is as follows:"
   ]
  },
  {
   "cell_type": "markdown",
   "metadata": {
    "collapsed": true
   },
   "source": [
    "[<img src=\"https://raw.githubusercontent.com/hanna1994/han1994/master/191525762986_.pic_hd.jpg\",width=400, height=400>](https://raw.githubusercontent.com/hanna1994/han1994/master/191525762986_.pic_hd.jpg)"
   ]
  },
  {
   "cell_type": "code",
   "execution_count": null,
   "metadata": {},
   "outputs": [],
   "source": [
    "def createLanguageMap():\n",
    "    repos = []\n",
    "  \n",
    "    for n in graph.nodes():\n",
    "        if graph.node[n]['type'] == 'repo':\n",
    "            repos.append(n)\n",
    "\n",
    "    for repo in repos:\n",
    "        # some empty projects may have none of the language part\n",
    "        if graph.node[repo]['lang']:\n",
    "            lang = (graph.node[repo]['lang']) + \"(lang)\"\n",
    "        else:\n",
    "            lang = (\"\") + \"(lang)\"\n",
    "            \n",
    "        # users who gazed repo\n",
    "        stargazers = []\n",
    "\n",
    "        for (user, repo, data) in graph.in_edges(repo, data=True):\n",
    "            if data['type'] == 'gazes':\n",
    "                stargazers.append(user)\n",
    "\n",
    "        for stargazer in stargazers:\n",
    "            graph.add_edge(stargazer, lang, type='programs')\n",
    "            graph.add_node(lang, type='lang')\n",
    "            graph.add_edge(lang, repo, type='implements')  "
   ]
  },
  {
   "cell_type": "markdown",
   "metadata": {},
   "source": [
    "Then, let's see the count results of the languages. First we should see what languages are there in the map:"
   ]
  },
  {
   "cell_type": "code",
   "execution_count": null,
   "metadata": {},
   "outputs": [],
   "source": [
    "createLanguageMap()\n",
    "# let us see what languages are in the map\n",
    "res = []\n",
    "for n in graph.nodes():\n",
    "    if graph.node[n]['type'] == 'lang':\n",
    "        res.append(n)\n",
    "print(res)   "
   ]
  },
  {
   "cell_type": "markdown",
   "metadata": {},
   "source": [
    "Now we can see the top 10 hottest languages users are using:"
   ]
  },
  {
   "cell_type": "code",
   "execution_count": null,
   "metadata": {},
   "outputs": [],
   "source": [
    "# find hottest X languages\n",
    "def topLanguages(limit):\n",
    "    print (\"Most popular languages\")\n",
    "    print (sorted([(n, graph.in_degree(n))\n",
    "     for n in graph.nodes() \n",
    "         if graph.node[n]['type'] == 'lang'], key=itemgetter(1), reverse=True)[:limit])"
   ]
  },
  {
   "cell_type": "code",
   "execution_count": null,
   "metadata": {},
   "outputs": [],
   "source": [
    "# find top 10 languages\n",
    "topLanguages(10)"
   ]
  },
  {
   "cell_type": "markdown",
   "metadata": {},
   "source": [
    "And let us see some common languages usage:"
   ]
  },
  {
   "cell_type": "code",
   "execution_count": null,
   "metadata": {},
   "outputs": [],
   "source": [
    "# find how many people are using the certain kind of language\n",
    "def languageUsage(languageType):\n",
    "    langUser = []\n",
    "    for (user, lang) in graph.in_edges(languageType):\n",
    "         if graph.node[user]['type'] == 'user':\n",
    "                langUser.append(user)\n",
    "    return langUser"
   ]
  },
  {
   "cell_type": "code",
   "execution_count": null,
   "metadata": {},
   "outputs": [],
   "source": [
    "python_user = languageUsage('Python(lang)')\n",
    "js_user = languageUsage('JavaScript(lang)')\n",
    "ru_ser = languageUsage('R(lang)')\n",
    "c_user = languageUsage('C(lang)')\n",
    "cplus_user = languageUsage('C++(lang)')\n",
    "css_user = languageUsage('CSS(lang)')\n",
    "html_user = languageUsage('HTML(lang)')\n",
    "php_user = languageUsage('PHP(lang)')\n",
    "\n",
    "print (\"Number of Python programmers:\", len(python_user))\n",
    "print (\"Number of JavaScript programmers:\", len(js_user))\n",
    "print (\"Number of R programmers:\", len(r_user))\n",
    "print(\"--------------------------------------------------------\")\n",
    "print (\"Number of C programmers:\", len(c_user))\n",
    "print (\"Number of C++ programmers:\", len(cplus_user))\n",
    "print(\"--------------------------------------------------------\")\n",
    "print (\"Number of CSS programmers:\", len(css_user))\n",
    "print (\"Number of HTML programmers:\", len(html_user))\n",
    "print (\"Number of PHP programmers:\", len(php_user))"
   ]
  },
  {
   "cell_type": "markdown",
   "metadata": {},
   "source": [
    "for the most languages people used: pyhton and js, we also analyzed the intersection of these two languages:"
   ]
  },
  {
   "cell_type": "code",
   "execution_count": null,
   "metadata": {},
   "outputs": [],
   "source": [
    "def compareJSwithPy(js,py):\n",
    "    # people who use both languages\n",
    "    print (\"Number of programmers who use js and Py:\")\n",
    "    print (len(set(js).intersection(set(py))))\n",
    "\n",
    "    # people who only use python but not js\n",
    "    print (\"Number of programmers who use Py but not Js:\")\n",
    "    print (len(set(py).difference(set(js))))\n",
    "    \n",
    "    # people who only use js but not py\n",
    "    print (\"Number of programmers who use js but not py:\")\n",
    "    print (len(set(js).difference(set(py))))"
   ]
  },
  {
   "cell_type": "code",
   "execution_count": null,
   "metadata": {},
   "outputs": [],
   "source": [
    "compareJSwithPy(python_user,js_user)"
   ]
  },
  {
   "cell_type": "markdown",
   "metadata": {},
   "source": [
    "Wala! Now we can analyze the results! It can be seen from the results that JS and R, python and other scripting languages in github's preferred language list occupy the mainstream. Although there are only 10,000 items involved in the data we analyzed, it is like the old saying: “github is the world of front end”.\n",
    "\n",
    "What's more, Scala is also very hot from seeing our results, mainly because the \"source of the project\" is findspark.\n",
    "\n",
    "Another interesting phenomenon is that the programmers who use python definetly will use js, and those who use js  will not necessarily use python (80-74=6 individuals who is using js but not using python)."
   ]
  },
  {
   "cell_type": "markdown",
   "metadata": {},
   "source": [
    "### Visialize the relationship between the users and languages"
   ]
  },
  {
   "cell_type": "code",
   "execution_count": null,
   "metadata": {},
   "outputs": [],
   "source": [
    "import os\n",
    "import json\n",
    "from IPython.display import IFrame\n",
    "from IPython.core.display import display \n",
    "from networkx.readwrite import json_graph\n",
    "\n",
    "\n",
    "# extract users and language info\n",
    "mtsw_users = [n for n in graph if graph.node[n]['type'] == 'user'] +[n for n in graph if graph.node[n]['type'] == 'lang'] \n",
    "h = graph.subgraph(mtsw_users)\n",
    "# export json\n",
    "d = json_graph.node_link_data(h)\n",
    "json.dump(d, open('d3/force.json', 'w'))\n",
    "viz_file = 'force.html'\n",
    "# D3 to visulize it\n",
    "display(IFrame(viz_file, '100%', '900px'))"
   ]
  },
  {
   "cell_type": "markdown",
   "metadata": {
    "collapsed": true
   },
   "source": [
    "### References"
   ]
  },
  {
   "cell_type": "markdown",
   "metadata": {
    "collapsed": true
   },
   "source": [
    "1. [GitHub API](https://networkx.github.io/documentation/stable/)\n",
    "2. [NetworkX Documentation](https://networkx.github.io/documentation/stable/)\n",
    "3. [Seaborn API](https://seaborn.pydata.org/api.html)"
   ]
  }
 ],
 "metadata": {
  "kernelspec": {
   "display_name": "Python 3",
   "language": "python",
   "name": "python3"
  },
  "language_info": {
   "codemirror_mode": {
    "name": "ipython",
    "version": 3
   },
   "file_extension": ".py",
   "mimetype": "text/x-python",
   "name": "python",
   "nbconvert_exporter": "python",
   "pygments_lexer": "ipython3",
   "version": "3.5.1"
  }
 },
 "nbformat": 4,
 "nbformat_minor": 2
}
