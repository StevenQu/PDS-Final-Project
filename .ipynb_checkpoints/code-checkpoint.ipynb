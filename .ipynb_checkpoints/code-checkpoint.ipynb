{
 "cells": [
  {
   "cell_type": "markdown",
   "metadata": {},
   "source": [
    "## GitHub Data Analysis\n"
   ]
  },
  {
   "cell_type": "markdown",
   "metadata": {},
   "source": [
    "## Introduction\n",
    "Every software engineer uses GitHub. Being a open source distributed version control tool, GitHub has thoundsands of new repositorys in every hour. Thus, GitHub could also be used as a huge dynamic data source to analyze technology status quo and trend.\n",
    "\n",
    "In this project, we will be looking into serveral things like who is the most popular person in certain field, what is the current hottest project and how much does different programming languages being used.\n"
   ]
  },
  {
   "cell_type": "markdown",
   "metadata": {},
   "source": [
    "### GitHub API\n",
    "\n",
    "We will use GitHub API from [here](https://developer.github.com/v3/).\n",
    "All the API calls are using HTTPS requests and it will return in JSON format.\n",
    "\n",
    "Steps to use GitHub API:\n",
    "1. Install `pygithub` by \n",
    "`-pip install pygithub`\n",
    "2. Generate a GitHub Personal access token required for `GitHub API`\n",
    "3. Test You API in local terminal using the following command. It is expected to return a list of dictionary contains your account info\n",
    "##### - curl https://api.github.com/user\\?access_token\\={YOUR_TOKEN}\n",
    "\n",
    "\n"
   ]
  },
  {
   "cell_type": "markdown",
   "metadata": {},
   "source": [
    "### NetworkX\n",
    "NetworkX is a Python package for the creation, manipulation, and study of the structure, dynamics, and functions of complex networks. It provides tools to work with large dataset with network strucutres. With NetworkX, we can load and store neyworks in standard data format easily. It can also helps us to generate classic networks, analyze network strucutre, build network models and much more.\n",
    "\n",
    "You can install `NetworkX` by `-pip install networkx`\n"
   ]
  },
  {
   "cell_type": "code",
   "execution_count": 6,
   "metadata": {
    "collapsed": true
   },
   "outputs": [],
   "source": [
    "import sys\n",
    "from github import Github\n",
    "import networkx as nx\n",
    "from operator import itemgetter\n",
    "\n",
    "# Global Variables\n",
    "ACCESS_TOKEN = '05bb4eb867b152be20dd11f4fa292107c839931c'\n",
    "USER = 'minrk'  # Define the GitHub User Name\n",
    "REPO = 'findspark'  # Define the Repo name\n",
    "client = Github(ACCESS_TOKEN)\n",
    "graph = nx.DiGraph()"
   ]
  },
  {
   "cell_type": "markdown",
   "metadata": {},
   "source": [
    "### Set Up NetworkX Graph\n",
    "\n",
    "\n",
    "After defined the user and repo name that we are going to explore, we can then set up the NetworkX graph.\n",
    "\n",
    "We will add the repo and each user who starred the repo as nodes, and build edges between them. After this, we also add edges between users and their followers. "
   ]
  },
  {
   "cell_type": "code",
   "execution_count": 7,
   "metadata": {
    "collapsed": true
   },
   "outputs": [],
   "source": [
    "def buildRepoRelations(REPO):\n",
    "    user = client.get_user(USER)\n",
    "    repo = user.get_repo(REPO)  # Get a specific repo\n",
    "    REPOS = user.get_repos()\n",
    "    stargazers = list(repo.get_stargazers())  # The list of users who starred this REPO\n",
    "    graph.add_node(repo.name + '(repo)', type='repo', lang=repo.language, owner=user.login)\n",
    "    for stargazer in stargazers:\n",
    "        graph.add_node(stargazer.login + '(user)', type='user')\n",
    "        graph.add_edge(stargazer.login + '(user)', repo.name + '(repo)', type='gazes')\n",
    "    #\tprint(len(stargazers))#See if it return a correct list\n",
    "    return stargazers\n",
    "\n",
    "\n",
    "def buildUserRelations(stargazers):\n",
    "    for i, stargazer in enumerate(stargazers):\n",
    "        followers = stargazer.get_followers()\n",
    "        try:\n",
    "            for follower in followers:\n",
    "                if follower.login + '(user)' in graph:\n",
    "                    graph.add_edge(follower.login + '(user)', stargazer.login + '(user)', type='follows')\n",
    "        except Exception:  \n",
    "            print(\"Encountered an error when finding follower for user: \", stargazer.login)\n",
    "        #See How many available API calls remaining\n",
    "        print (\"API Calls Remaining\", client.rate_limiting)"
   ]
  },
  {
   "cell_type": "code",
   "execution_count": 5,
   "metadata": {},
   "outputs": [],
   "source": [
    "stargazers = buildRepoRelations(REPO)\n",
    "buildUserRelations(stargazers)"
   ]
  },
  {
   "cell_type": "markdown",
   "metadata": {},
   "source": [
    "### Find Hottest User\n",
    "In this step, we use the graph initialized above to find the hottest users. The hottest user is defined as the GitHub user followed by most of the people who starred the repo we defined previously. This can also be interpreted as those who starred this repo also follows ... \n"
   ]
  },
  {
   "cell_type": "code",
   "execution_count": 4,
   "metadata": {},
   "outputs": [],
   "source": [
    "from collections import Counter\n",
    "from operator import itemgetter\n",
    "\n",
    "def getHottestUser(stargazers):\n",
    "    \n",
    "    temp_list = []\n",
    "    for edge in graph.edges(data = True):\n",
    "        if edge[2]['type'] == 'follows':\n",
    "            temp_list.append(edge[1])\n",
    "    counter = Counter(temp_list)\n",
    "    \n",
    "    popular_users = []\n",
    "    for u, f in counter.most_common():\n",
    "        popular_users.append((u,f))\n",
    "    print (\"Number of popular users\", len(popular_users))\n",
    "    print (\"Top popular users:\", popular_users[:10])\n",
    "    \n",
    "getHottestUser(stargazers)\n",
    "\n",
    "\n"
   ]
  },
  {
   "cell_type": "markdown",
   "metadata": {},
   "source": [
    "The result above shows the most popular users. However, we care more about some centralities that NetworkX provided.\n",
    "#### Degree Centrality\n",
    "First, the Degree Centrality for a node v is the fraction of nodes it is connected to. \n",
    "#### Betweenness Centrality\n",
    "Also, the Betweenness Centrality compute the shortest path for nodes. It is the sum of the fraction of all-pairs shortest paths that pass through the node v. \n",
    "#### Closeness Centrality\n",
    "Lastly, the Closeness Centrality of a node u is the reciprocal of the sum of the shortest path distances from u to all n-1 other nodes. Since the sum of distances depends on the number of nodes in the graph, closeness is normalized by the sum of minimum possible distances n-1.\n",
    "\n",
    "\n"
   ]
  },
  {
   "cell_type": "code",
   "execution_count": 7,
   "metadata": {},
   "outputs": [],
   "source": [
    "def formatResult(graph):\n",
    "    graph_copy = graph.copy()\n",
    "    # Remove center node\n",
    "    graph_copy.remove_node('findspark(repo)')\n",
    "\n",
    "    dc = sorted(nx.degree_centrality(graph_copy).items(), \n",
    "                key=itemgetter(1), reverse=True)\n",
    "\n",
    "    bc = sorted(nx.betweenness_centrality(graph_copy).items(), \n",
    "                key=itemgetter(1), reverse=True)\n",
    "    cc = sorted(nx.closeness_centrality(graph_copy).items(), \n",
    "                key=itemgetter(1), reverse=True)\n",
    "    return (dc, bc, cc)\n",
    "\n",
    "dc, bc, cc = formatResult(graph)\n",
    "\n",
    "print (\"Degree Centrality\")\n",
    "print (dc[:5],'\\n')\n",
    "\n",
    "print (\"Betweenness Centrality\")\n",
    "print (bc[:5],'\\n')\n",
    "\n",
    "print (\"Closeness Centrality\")\n",
    "print (cc[:5])"
   ]
  },
  {
   "cell_type": "markdown",
   "metadata": {},
   "source": [
    "### Find Hottest Repository "
   ]
  },
  {
   "cell_type": "markdown",
   "metadata": {},
   "source": [
    "Next, we go through each user for their starred repos and then add these repos into the network. After that, it is easy for us to get the popular repositories. Moreover, we can also get to know the language preference of one certain user."
   ]
  },
  {
   "cell_type": "code",
   "execution_count": 43,
   "metadata": {
    "collapsed": true
   },
   "outputs": [],
   "source": [
    "def buildRepoNet(stargazers, limit_repo):\n",
    "    for i, v in enumerate(stargazers):\n",
    "        print(v.login)\n",
    "        try:\n",
    "            for starred in v.get_starred()[:limit_repo]:  # Slice to avoid supernodes\n",
    "                graph.add_node(starred.name + '(repo)', type='repo', lang=starred.language, \\\n",
    "                           owner=starred.owner.login)\n",
    "                graph.add_edge(v.login + '(user)', starred.name + '(repo)', type='gazes')\n",
    "        except Exception:  # ssl.SSLError:\n",
    "            print(\"Encountered an error fetching starred repos for\", v.login, \"Skipping.\")\n",
    "\n",
    "        print(\"Num nodes/edges in graph\", graph.number_of_nodes(), \"/\", graph.number_of_edges())\n",
    "    print(nx.info(graph), '\\n')\n"
   ]
  },
  {
   "cell_type": "markdown",
   "metadata": {},
   "source": [
    "Sometimes a user marks too many repos and it takes a lot of time to build the net. So here the limit_repo parameter could define the maximum of the repos of one user"
   ]
  },
  {
   "cell_type": "code",
   "execution_count": 3,
   "metadata": {},
   "outputs": [],
   "source": [
    "buildRepoNet(stargazers,5)"
   ]
  },
  {
   "cell_type": "code",
   "execution_count": 45,
   "metadata": {
    "collapsed": true
   },
   "outputs": [],
   "source": [
    "def getTopNRepos(n):\n",
    "    print(\"Top \"+str(n)+\" Popular repositories:\")\n",
    "    \n",
    "    repos = []\n",
    "    for (v, i) in graph.in_degree_iter():\n",
    "        if graph.node[v]['type'] == 'repo':\n",
    "            repos.append((v,i))\n",
    "    repos = sorted(repos, key = lambda x:x[1], reverse=True)\n",
    "    print(repos[:n])"
   ]
  },
  {
   "cell_type": "code",
   "execution_count": 2,
   "metadata": {},
   "outputs": [],
   "source": [
    "getTopNRepos(10)"
   ]
  },
  {
   "cell_type": "code",
   "execution_count": 47,
   "metadata": {
    "collapsed": true
   },
   "outputs": [],
   "source": [
    "def getUserPreference(username):\n",
    "    print(\"Respositories that \"+ username+\" has starred\")\n",
    "    for v in graph[username+\"(user)\"]:\n",
    "        if graph[username+\"(user)\"][v]['type'] == 'gazes':\n",
    "            print(v)\n",
    "\n",
    "    print(\"Programming languages \"+ username+\" is interested in\")\n",
    "    \n",
    "    langs = set()\n",
    "    for v in graph[username+\"(user)\"]:\n",
    "        if graph[username+\"(user)\"][v]['type'] == 'gazes':\n",
    "            langs.add(graph.node[v]['lang'])\n",
    "    print(langs)\n",
    "\n",
    "\n"
   ]
  },
  {
   "cell_type": "code",
   "execution_count": 1,
   "metadata": {},
   "outputs": [],
   "source": [
    "getUserPreference('luzhijun')"
   ]
  },
  {
   "cell_type": "code",
   "execution_count": null,
   "metadata": {
    "collapsed": true
   },
   "outputs": [],
   "source": []
  }
 ],
 "metadata": {
  "kernelspec": {
   "display_name": "Python 3",
   "language": "python",
   "name": "python3"
  },
  "language_info": {
   "codemirror_mode": {
    "name": "ipython",
    "version": 3
   },
   "file_extension": ".py",
   "mimetype": "text/x-python",
   "name": "python",
   "nbconvert_exporter": "python",
   "pygments_lexer": "ipython3",
   "version": "3.6.2"
  }
 },
 "nbformat": 4,
 "nbformat_minor": 2
}
