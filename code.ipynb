{
 "cells": [
  {
   "cell_type": "markdown",
   "metadata": {},
   "source": [
    "## Insights of GitHub Networks\n"
   ]
  },
  {
   "cell_type": "markdown",
   "metadata": {},
   "source": [
    "## Introduction\n",
    "Every software engineer uses GitHub. Being a open source distributed version control tool, GitHub has thoundsands of new repositorys in every hour. Thus, GitHub could also be used as a huge dynamic data source to analyze technology status quo and trend.\n",
    "\n",
    "In this project, we will be looking into serveral things like who is the most popular person in certain field, what is the current hottest project and how much does different programming languages being used. In order to support our purpose, we will use GitHub API and NetworkX.\n"
   ]
  },
  {
   "cell_type": "markdown",
   "metadata": {},
   "source": [
    "### GitHub API\n",
    "\n",
    "We will use GitHub API from [here](https://developer.github.com/v3/).\n",
    "All the API calls are using HTTPS requests and it will return in JSON format.\n",
    "\n",
    "Steps to use GitHub API:\n",
    "1. Install `pygithub` by \n",
    "`-pip install pygithub`\n",
    "2. Generate a GitHub Personal access token required for `GitHub API`\n",
    "3. Test You API in local terminal using the following command. It is expected to return a list of dictionary contains your account info\n",
    "##### - curl https://api.github.com/user\\?access_token\\={YOUR_TOKEN}\n",
    "\n",
    "\n"
   ]
  },
  {
   "cell_type": "markdown",
   "metadata": {},
   "source": [
    "### NetworkX\n",
    "NetworkX is a Python package for the creation, manipulation, and study of the structure, dynamics, and functions of complex networks. It provides tools to work with large dataset with network strucutres. With NetworkX, we can load and store neyworks in standard data format easily. It can also helps us to generate classic networks, analyze network strucutre, build network models and much more.\n",
    "\n",
    "You can install `NetworkX` by `-pip install networkx`\n"
   ]
  },
  {
   "cell_type": "code",
   "execution_count": 1,
   "metadata": {},
   "outputs": [],
   "source": [
    "import sys\n",
    "from github import Github\n",
    "import networkx as nx\n",
    "from operator import itemgetter\n",
    "\n",
    "# Global Variables\n",
    "ACCESS_TOKEN = \"05bb4eb867b152be20dd11f4fa292107c839931c\"\n",
    "USER = 'svenkreiss'  # Define the GitHub User Name\n",
    "REPO = 'pysparkling'  # Define the Repo name\n",
    "client = Github(ACCESS_TOKEN)\n",
    "graph = nx.DiGraph()"
   ]
  },
  {
   "cell_type": "markdown",
   "metadata": {},
   "source": [
    "### Set Up NetworkX Graph\n",
    "\n",
    "\n",
    "After defined the user and repo name that we are going to explore, we can then set up the NetworkX graph.\n",
    "\n",
    "We will add the repo and each user who starred the repo as nodes, and build edges between them. After this, we also add edges between users and their followers. "
   ]
  },
  {
   "cell_type": "code",
   "execution_count": 2,
   "metadata": {},
   "outputs": [],
   "source": [
    "def buildRepoRelations(REPO):\n",
    "    user = client.get_user(USER)\n",
    "    repo = user.get_repo(REPO)  # Get a specific repo\n",
    "    REPOS = user.get_repos()\n",
    "    stargazers = list(repo.get_stargazers())  # The list of users who starred this REPO\n",
    "    graph.add_node(repo.name + '(repo)', type='repo', lang=repo.language, owner=user.login)\n",
    "    for stargazer in stargazers:\n",
    "        graph.add_node(stargazer.login + '(user)', type='user')\n",
    "        graph.add_edge(stargazer.login + '(user)', repo.name + '(repo)', type='gazes')\n",
    "    #\tprint(len(stargazers))#See if it return a correct list\n",
    "    return stargazers\n",
    "\n",
    "\n",
    "def buildUserRelations(stargazers):\n",
    "    for i, stargazer in enumerate(stargazers):\n",
    "        followers = stargazer.get_followers()\n",
    "        try:\n",
    "            for follower in followers:\n",
    "                if follower.login + '(user)' in graph:\n",
    "                    graph.add_edge(follower.login + '(user)', stargazer.login + '(user)', type='follows')\n",
    "        except Exception:  \n",
    "            print(\"Encountered an error when finding follower for user: \", stargazer.login)\n",
    "        #See How many available API calls remaining\n",
    "        print (\"API Calls Remaining\", client.rate_limiting)"
   ]
  },
  {
   "cell_type": "code",
   "execution_count": 3,
   "metadata": {
    "scrolled": true
   },
   "outputs": [
    {
     "name": "stdout",
     "output_type": "stream",
     "text": [
      "API Calls Remaining (4991, 5000)\n",
      "API Calls Remaining (4989, 5000)\n",
      "API Calls Remaining (4988, 5000)\n",
      "API Calls Remaining (4987, 5000)\n",
      "API Calls Remaining (4985, 5000)\n",
      "API Calls Remaining (4984, 5000)\n",
      "API Calls Remaining (4982, 5000)\n",
      "API Calls Remaining (4981, 5000)\n",
      "API Calls Remaining (4978, 5000)\n",
      "API Calls Remaining (4968, 5000)\n",
      "API Calls Remaining (4967, 5000)\n",
      "API Calls Remaining (4938, 5000)\n",
      "API Calls Remaining (4937, 5000)\n",
      "API Calls Remaining (4919, 5000)\n",
      "API Calls Remaining (4917, 5000)\n",
      "API Calls Remaining (4915, 5000)\n",
      "API Calls Remaining (4914, 5000)\n",
      "API Calls Remaining (4913, 5000)\n",
      "API Calls Remaining (4911, 5000)\n",
      "API Calls Remaining (4871, 5000)\n",
      "API Calls Remaining (4870, 5000)\n",
      "API Calls Remaining (4869, 5000)\n",
      "API Calls Remaining (4862, 5000)\n",
      "API Calls Remaining (4860, 5000)\n",
      "API Calls Remaining (4859, 5000)\n",
      "API Calls Remaining (4856, 5000)\n",
      "API Calls Remaining (4854, 5000)\n",
      "API Calls Remaining (4838, 5000)\n",
      "API Calls Remaining (4835, 5000)\n",
      "API Calls Remaining (4834, 5000)\n",
      "API Calls Remaining (4833, 5000)\n",
      "API Calls Remaining (4832, 5000)\n",
      "API Calls Remaining (4817, 5000)\n",
      "API Calls Remaining (4815, 5000)\n",
      "API Calls Remaining (4814, 5000)\n",
      "API Calls Remaining (4813, 5000)\n",
      "API Calls Remaining (4812, 5000)\n",
      "API Calls Remaining (4811, 5000)\n",
      "API Calls Remaining (4809, 5000)\n",
      "API Calls Remaining (4808, 5000)\n",
      "API Calls Remaining (4807, 5000)\n",
      "API Calls Remaining (4806, 5000)\n",
      "API Calls Remaining (4804, 5000)\n",
      "API Calls Remaining (4801, 5000)\n",
      "API Calls Remaining (4453, 5000)\n",
      "API Calls Remaining (4452, 5000)\n",
      "API Calls Remaining (4451, 5000)\n",
      "API Calls Remaining (4450, 5000)\n",
      "API Calls Remaining (4449, 5000)\n",
      "API Calls Remaining (4448, 5000)\n",
      "API Calls Remaining (4444, 5000)\n",
      "API Calls Remaining (4443, 5000)\n",
      "API Calls Remaining (4436, 5000)\n",
      "API Calls Remaining (4435, 5000)\n",
      "API Calls Remaining (4434, 5000)\n",
      "API Calls Remaining (4433, 5000)\n",
      "API Calls Remaining (4431, 5000)\n",
      "API Calls Remaining (4430, 5000)\n",
      "API Calls Remaining (4428, 5000)\n",
      "API Calls Remaining (4427, 5000)\n",
      "API Calls Remaining (4426, 5000)\n",
      "API Calls Remaining (4425, 5000)\n",
      "API Calls Remaining (4424, 5000)\n",
      "API Calls Remaining (4423, 5000)\n",
      "API Calls Remaining (4422, 5000)\n",
      "API Calls Remaining (4420, 5000)\n",
      "API Calls Remaining (4414, 5000)\n",
      "API Calls Remaining (4413, 5000)\n",
      "API Calls Remaining (4409, 5000)\n",
      "API Calls Remaining (4408, 5000)\n",
      "API Calls Remaining (4406, 5000)\n",
      "API Calls Remaining (4405, 5000)\n",
      "API Calls Remaining (4404, 5000)\n",
      "API Calls Remaining (4402, 5000)\n",
      "API Calls Remaining (4401, 5000)\n",
      "API Calls Remaining (4400, 5000)\n",
      "API Calls Remaining (4394, 5000)\n",
      "API Calls Remaining (4393, 5000)\n",
      "API Calls Remaining (4385, 5000)\n",
      "API Calls Remaining (4384, 5000)\n",
      "API Calls Remaining (4383, 5000)\n",
      "API Calls Remaining (4381, 5000)\n",
      "API Calls Remaining (4380, 5000)\n",
      "API Calls Remaining (4377, 5000)\n",
      "API Calls Remaining (4376, 5000)\n",
      "API Calls Remaining (4375, 5000)\n",
      "API Calls Remaining (4374, 5000)\n",
      "API Calls Remaining (4373, 5000)\n",
      "API Calls Remaining (4372, 5000)\n",
      "API Calls Remaining (4370, 5000)\n",
      "API Calls Remaining (4369, 5000)\n",
      "API Calls Remaining (4368, 5000)\n",
      "API Calls Remaining (4367, 5000)\n",
      "API Calls Remaining (4366, 5000)\n",
      "API Calls Remaining (4365, 5000)\n",
      "API Calls Remaining (4363, 5000)\n",
      "API Calls Remaining (4362, 5000)\n",
      "API Calls Remaining (4360, 5000)\n",
      "API Calls Remaining (4359, 5000)\n",
      "API Calls Remaining (4358, 5000)\n",
      "API Calls Remaining (4356, 5000)\n",
      "API Calls Remaining (4355, 5000)\n",
      "API Calls Remaining (4354, 5000)\n",
      "API Calls Remaining (4353, 5000)\n",
      "API Calls Remaining (4352, 5000)\n",
      "API Calls Remaining (4351, 5000)\n",
      "API Calls Remaining (4349, 5000)\n",
      "API Calls Remaining (4344, 5000)\n",
      "API Calls Remaining (4340, 5000)\n",
      "API Calls Remaining (4339, 5000)\n",
      "API Calls Remaining (4338, 5000)\n",
      "API Calls Remaining (4337, 5000)\n",
      "API Calls Remaining (4336, 5000)\n",
      "API Calls Remaining (4335, 5000)\n",
      "API Calls Remaining (4334, 5000)\n",
      "API Calls Remaining (4331, 5000)\n",
      "API Calls Remaining (4330, 5000)\n",
      "API Calls Remaining (4329, 5000)\n",
      "API Calls Remaining (4326, 5000)\n",
      "API Calls Remaining (4325, 5000)\n",
      "API Calls Remaining (4324, 5000)\n",
      "API Calls Remaining (4323, 5000)\n",
      "API Calls Remaining (4322, 5000)\n",
      "API Calls Remaining (4321, 5000)\n",
      "API Calls Remaining (4320, 5000)\n",
      "API Calls Remaining (4319, 5000)\n",
      "API Calls Remaining (4318, 5000)\n",
      "API Calls Remaining (4317, 5000)\n",
      "API Calls Remaining (4316, 5000)\n",
      "API Calls Remaining (4314, 5000)\n",
      "API Calls Remaining (4313, 5000)\n",
      "API Calls Remaining (4308, 5000)\n",
      "API Calls Remaining (4307, 5000)\n",
      "API Calls Remaining (4306, 5000)\n",
      "API Calls Remaining (4305, 5000)\n",
      "API Calls Remaining (4304, 5000)\n",
      "API Calls Remaining (4303, 5000)\n",
      "API Calls Remaining (4302, 5000)\n",
      "API Calls Remaining (4299, 5000)\n",
      "API Calls Remaining (4298, 5000)\n",
      "API Calls Remaining (4297, 5000)\n",
      "API Calls Remaining (4296, 5000)\n",
      "API Calls Remaining (4295, 5000)\n",
      "API Calls Remaining (4294, 5000)\n",
      "API Calls Remaining (4292, 5000)\n",
      "API Calls Remaining (4291, 5000)\n",
      "API Calls Remaining (4290, 5000)\n"
     ]
    }
   ],
   "source": [
    "stargazers = buildRepoRelations(REPO)\n",
    "buildUserRelations(stargazers)"
   ]
  },
  {
   "cell_type": "markdown",
   "metadata": {},
   "source": [
    "### Find Hottest User\n",
    "In this step, we use the graph initialized above to find the hottest users. The hottest user is defined as the GitHub user followed by most of the people who starred the repo we defined previously. This can also be interpreted as those who starred this repo also follows ... \n"
   ]
  },
  {
   "cell_type": "code",
   "execution_count": 4,
   "metadata": {},
   "outputs": [
    {
     "name": "stdout",
     "output_type": "stream",
     "text": [
      "Number of popular users 66\n",
      "Top popular users: [('svenkreiss(user)', 11), ('fonnesbeck(user)', 7), ('freeman-lab(user)', 5), ('mjhea0(user)', 4), ('Smerity(user)', 4), ('cranmer(user)', 3), ('onesuper(user)', 3), ('ajschumacher(user)', 3), ('ekampf(user)', 2), ('dchudz(user)', 2)]\n"
     ]
    }
   ],
   "source": [
    "from collections import Counter\n",
    "from operator import itemgetter\n",
    "\n",
    "def getHottestUser(stargazers):\n",
    "    \n",
    "    temp_list = []\n",
    "    for edge in graph.edges(data = True):\n",
    "        if edge[2]['type'] == 'follows':\n",
    "            temp_list.append(edge[1])\n",
    "    counter = Counter(temp_list)\n",
    "    \n",
    "    popular_users = []\n",
    "    for u, f in counter.most_common():\n",
    "        popular_users.append((u,f))\n",
    "    print (\"Number of popular users\", len(popular_users))\n",
    "    print (\"Top popular users:\", popular_users[:10])\n",
    "    return popular_users[:10]\n",
    "hottestUsers = getHottestUser(stargazers)"
   ]
  },
  {
   "cell_type": "markdown",
   "metadata": {},
   "source": [
    "The result above shows the most popular users. However, we care more about some centralities that NetworkX provided.\n",
    "#### Degree Centrality\n",
    "The Degree Centrality for a node v is the fraction of nodes it is connected to. \n",
    "#### Betweenness Centrality\n",
    "Also, the Betweenness Centrality compute the shortest path for nodes. It is the sum of the fraction of all-pairs shortest paths that pass through the node v. \n",
    "#### Closeness Centrality\n",
    "Lastly, the Closeness Centrality of a node u is the reciprocal of the sum of the shortest path distances from u to all n-1 other nodes. Since the sum of distances depends on the number of nodes in the graph, closeness is normalized by the sum of minimum possible distances n-1.\n",
    "\n",
    "\n"
   ]
  },
  {
   "cell_type": "code",
   "execution_count": 5,
   "metadata": {},
   "outputs": [
    {
     "name": "stdout",
     "output_type": "stream",
     "text": [
      "Degree Centrality\n",
      "[('angusshire(user)', 0.3835616438356164), ('svenkreiss(user)', 0.10273972602739725), ('fonnesbeck(user)', 0.04794520547945205), ('akansal1(user)', 0.0410958904109589), ('esafak(user)', 0.0410958904109589)] \n",
      "\n",
      "Betweenness Centrality\n",
      "[('angusshire(user)', 0.0057628719886632035), ('svenkreiss(user)', 0.002983782081561959), ('ajschumacher(user)', 0.0006849315068493151), ('esafak(user)', 0.000543221539914974), ('cranmer(user)', 0.0004723665564478035)] \n",
      "\n",
      "Closeness Centrality\n",
      "[('svenkreiss(user)', 0.08606313281715305), ('mjhea0(user)', 0.0684931506849315), ('cranmer(user)', 0.05655577299412916), ('ajschumacher(user)', 0.05655577299412916), ('castanan(user)', 0.05349870418363569)]\n"
     ]
    }
   ],
   "source": [
    "def formatResult(graph):\n",
    "    graph_copy = graph.copy()\n",
    "    # Remove center node\n",
    "    graph_copy.remove_node('pysparkling(repo)')\n",
    "\n",
    "    dc = sorted(nx.degree_centrality(graph_copy).items(), \n",
    "                key=itemgetter(1), reverse=True)\n",
    "\n",
    "    bc = sorted(nx.betweenness_centrality(graph_copy).items(), \n",
    "                key=itemgetter(1), reverse=True)\n",
    "    cc = sorted(nx.closeness_centrality(graph_copy).items(), \n",
    "                key=itemgetter(1), reverse=True)\n",
    "    return (dc, bc, cc)\n",
    "\n",
    "dc, bc, cc = formatResult(graph)\n",
    "\n",
    "print (\"Degree Centrality\")\n",
    "print (dc[:5],'\\n')\n",
    "\n",
    "print (\"Betweenness Centrality\")\n",
    "print (bc[:5],'\\n')\n",
    "\n",
    "print (\"Closeness Centrality\")\n",
    "print (cc[:5])"
   ]
  },
  {
   "cell_type": "markdown",
   "metadata": {},
   "source": [
    "### Find Hottest Repository "
   ]
  },
  {
   "cell_type": "markdown",
   "metadata": {},
   "source": [
    "For the network we have currently, there is only one repo. To find the hottest repository, we need to go through each user in the network and then add their starred repos into the network. After that, it is easy for us to get the popular repositories. Moreover, we can also get to know the language preference of one certain user."
   ]
  },
  {
   "cell_type": "markdown",
   "metadata": {},
   "source": [
    "There are two input parameters of function buildRepoNet. The stargazers is the output of function buildRepoRelations which is a list of users who starred this original repo. Sometimes a user marks too many repos and it takes a lot of time to build the net. So here the limit_repo parameter could define the maximum of the repos of one user we need to add into the net. "
   ]
  },
  {
   "cell_type": "code",
   "execution_count": 6,
   "metadata": {},
   "outputs": [],
   "source": [
    "def buildRepoNet(stargazers, limit_repo):\n",
    "    for i, v in enumerate(stargazers):\n",
    "        print(v.login)\n",
    "        try:\n",
    "            for starred in v.get_starred()[:limit_repo]:  # Slice to avoid supernodes\n",
    "                graph.add_node(starred.name + '(repo)', type='repo', lang=starred.language, \\\n",
    "                           owner=starred.owner.login)\n",
    "                graph.add_edge(v.login + '(user)', starred.name + '(repo)', type='gazes')\n",
    "        except Exception:  # ssl.SSLError:\n",
    "            print(\"Encountered an error fetching starred repos for\", v.login, \"Skipping.\")\n",
    "\n",
    "        print(\"Num nodes/edges in graph\", graph.number_of_nodes(), \"/\", graph.number_of_edges())\n",
    "    print(nx.info(graph), '\\n')\n"
   ]
  },
  {
   "cell_type": "markdown",
   "metadata": {},
   "source": [
    "Here we define the number of limit_repo as 200. It takes about 10 minutes to generate the repo net. The total number of nodes is 15696 and the total number of edges is 22100."
   ]
  },
  {
   "cell_type": "code",
   "execution_count": 7,
   "metadata": {
    "scrolled": true
   },
   "outputs": [
    {
     "name": "stdout",
     "output_type": "stream",
     "text": [
      "he0x\n",
      "Num nodes/edges in graph 348 / 458\n",
      "nschlemm\n",
      "Num nodes/edges in graph 548 / 658\n",
      "cheekybastard\n",
      "Num nodes/edges in graph 747 / 858\n",
      "ddboline\n",
      "Num nodes/edges in graph 938 / 1057\n",
      "dclambert\n",
      "Num nodes/edges in graph 1127 / 1257\n",
      "emlazzarin\n",
      "Num nodes/edges in graph 1309 / 1452\n",
      "mvaz\n",
      "Num nodes/edges in graph 1497 / 1650\n",
      "Veallym0n\n",
      "Num nodes/edges in graph 1545 / 1700\n",
      "svenkreiss\n",
      "Num nodes/edges in graph 1689 / 1868\n",
      "ajschumacher\n",
      "Num nodes/edges in graph 1872 / 2067\n",
      "akansal1\n",
      "Num nodes/edges in graph 2045 / 2267\n",
      "fonnesbeck\n",
      "Num nodes/edges in graph 2206 / 2466\n",
      "vasudevram\n",
      "Num nodes/edges in graph 2385 / 2662\n",
      "freeman-lab\n",
      "Num nodes/edges in graph 2571 / 2862\n",
      "StephanErb\n",
      "Num nodes/edges in graph 2752 / 3061\n",
      "juanshishido\n",
      "Num nodes/edges in graph 2910 / 3260\n",
      "dylanroy\n",
      "Num nodes/edges in graph 3088 / 3459\n",
      "gawry\n",
      "Num nodes/edges in graph 3260 / 3659\n",
      "denisfitz57\n",
      "Num nodes/edges in graph 3444 / 3858\n",
      "mjhea0\n",
      "Num nodes/edges in graph 3620 / 4058\n",
      "ronert\n",
      "Num nodes/edges in graph 3762 / 4256\n",
      "jchaat\n",
      "Num nodes/edges in graph 3930 / 4455\n",
      "matagus\n",
      "Num nodes/edges in graph 4109 / 4654\n",
      "wuxianliang\n",
      "Num nodes/edges in graph 4285 / 4854\n",
      "chaoyue729\n",
      "Num nodes/edges in graph 4430 / 5048\n",
      "sourcepirate\n",
      "Num nodes/edges in graph 4600 / 5247\n",
      "petro-rudenko\n",
      "Num nodes/edges in graph 4782 / 5446\n",
      "Smerity\n",
      "Num nodes/edges in graph 4942 / 5643\n",
      "esafak\n",
      "Num nodes/edges in graph 5070 / 5843\n",
      "greyhill\n",
      "Num nodes/edges in graph 5117 / 5902\n",
      "petrushy\n",
      "Num nodes/edges in graph 5277 / 6098\n",
      "amelio-vazquez-reina\n",
      "Num nodes/edges in graph 5417 / 6284\n",
      "rushter\n",
      "Num nodes/edges in graph 5549 / 6484\n",
      "rdhyee\n",
      "Num nodes/edges in graph 5723 / 6684\n",
      "dkanoafry\n",
      "Num nodes/edges in graph 5788 / 6774\n",
      "ziedzic\n",
      "Num nodes/edges in graph 5929 / 6973\n",
      "yv\n",
      "Num nodes/edges in graph 6097 / 7173\n",
      "peristeri\n",
      "Num nodes/edges in graph 6220 / 7372\n",
      "castanan\n",
      "Num nodes/edges in graph 6233 / 7395\n",
      "hezila\n",
      "Num nodes/edges in graph 6406 / 7593\n",
      "xunyou\n",
      "Num nodes/edges in graph 6559 / 7793\n",
      "dhanainme\n",
      "Num nodes/edges in graph 6637 / 7898\n",
      "pganssle\n",
      "Num nodes/edges in graph 6678 / 7953\n",
      "dan-blanchard\n",
      "Num nodes/edges in graph 6808 / 8152\n",
      "angusshire\n",
      "Num nodes/edges in graph 6999 / 8348\n",
      "binh-vu\n",
      "Num nodes/edges in graph 7027 / 8383\n",
      "ilgarm\n",
      "Num nodes/edges in graph 7192 / 8581\n",
      "xinyu-usf\n",
      "Num nodes/edges in graph 7238 / 8634\n",
      "sevenguin\n",
      "Num nodes/edges in graph 7325 / 8775\n",
      "Bennyelg\n",
      "Num nodes/edges in graph 7386 / 8868\n",
      "cranmer\n",
      "Num nodes/edges in graph 7482 / 8989\n",
      "farquasar1\n",
      "Num nodes/edges in graph 7607 / 9183\n",
      "jgmize\n",
      "Num nodes/edges in graph 7758 / 9383\n",
      "ainkov\n",
      "Num nodes/edges in graph 7767 / 9392\n",
      "qwert666\n",
      "Num nodes/edges in graph 7866 / 9530\n",
      "alexprengere\n",
      "Num nodes/edges in graph 7957 / 9674\n",
      "ptrf\n",
      "Num nodes/edges in graph 8111 / 9868\n",
      "Greenall\n",
      "Num nodes/edges in graph 8117 / 9880\n",
      "d2207197\n",
      "Num nodes/edges in graph 8190 / 10003\n",
      "eien\n",
      "Num nodes/edges in graph 8347 / 10200\n",
      "lingyong\n",
      "Num nodes/edges in graph 8508 / 10398\n",
      "gerbaudo\n",
      "Num nodes/edges in graph 8639 / 10589\n",
      "jessem\n",
      "Num nodes/edges in graph 8746 / 10729\n",
      "ZhukovAlexander\n",
      "Num nodes/edges in graph 8882 / 10929\n",
      "robinsingh1\n",
      "Num nodes/edges in graph 9032 / 11129\n",
      "smrjan\n",
      "Num nodes/edges in graph 9175 / 11326\n",
      "aalhour\n",
      "Num nodes/edges in graph 9288 / 11526\n",
      "nabilm\n",
      "Num nodes/edges in graph 9293 / 11532\n",
      "luiscape\n",
      "Num nodes/edges in graph 9402 / 11730\n",
      "ycliuhw\n",
      "Num nodes/edges in graph 9537 / 11928\n",
      "ekampf\n",
      "Num nodes/edges in graph 9643 / 12076\n",
      "pd-spark\n",
      "Num nodes/edges in graph 9675 / 12165\n",
      "telamonian\n",
      "Num nodes/edges in graph 9705 / 12203\n",
      "rgabo\n",
      "Num nodes/edges in graph 9809 / 12401\n",
      "aleury\n",
      "Num nodes/edges in graph 9947 / 12599\n",
      "waxz\n",
      "Num nodes/edges in graph 10108 / 12796\n",
      "onesuper\n",
      "Num nodes/edges in graph 10256 / 12995\n",
      "Lguyogiro\n",
      "Num nodes/edges in graph 10320 / 13108\n",
      "felipecruz\n",
      "Num nodes/edges in graph 10435 / 13307\n",
      "pauldevos\n",
      "Num nodes/edges in graph 10541 / 13503\n",
      "ahmedezzeldin93\n",
      "Num nodes/edges in graph 10586 / 13606\n",
      "mtpatter\n",
      "Num nodes/edges in graph 10734 / 13802\n",
      "brianv0\n",
      "Num nodes/edges in graph 10792 / 13881\n",
      "thulio\n",
      "Num nodes/edges in graph 10933 / 14080\n",
      "kmatt\n",
      "Num nodes/edges in graph 11063 / 14278\n",
      "leetreveil\n",
      "Num nodes/edges in graph 11160 / 14401\n",
      "cupen\n",
      "Num nodes/edges in graph 11282 / 14599\n",
      "RishiSankineni\n",
      "Num nodes/edges in graph 11360 / 14798\n",
      "XIEQ\n",
      "Num nodes/edges in graph 11459 / 14995\n",
      "codinguncut\n",
      "Num nodes/edges in graph 11596 / 15195\n",
      "ansrivas\n",
      "Num nodes/edges in graph 11709 / 15393\n",
      "Stardust1002\n",
      "Num nodes/edges in graph 11749 / 15534\n",
      "walkersuen\n",
      "Num nodes/edges in graph 11756 / 15541\n",
      "Pushkr\n",
      "Num nodes/edges in graph 11784 / 15594\n",
      "skribled\n",
      "Num nodes/edges in graph 11954 / 15790\n",
      "silverstone1903\n",
      "Num nodes/edges in graph 12089 / 15990\n",
      "flysky1991\n",
      "Num nodes/edges in graph 12178 / 16148\n",
      "lomereiter\n",
      "Num nodes/edges in graph 12308 / 16347\n",
      "tcoyze\n",
      "Num nodes/edges in graph 12345 / 16432\n",
      "ysku\n",
      "Num nodes/edges in graph 12462 / 16631\n",
      "wearpants\n",
      "Num nodes/edges in graph 12572 / 16830\n",
      "ajlmsbux\n",
      "Num nodes/edges in graph 12619 / 16909\n",
      "drauschenbach\n",
      "Num nodes/edges in graph 12637 / 16936\n",
      "JonasAmrich\n",
      "Num nodes/edges in graph 12669 / 17002\n",
      "basilhe\n",
      "Num nodes/edges in graph 12789 / 17201\n",
      "danilomo\n",
      "Num nodes/edges in graph 12813 / 17230\n",
      "tedmiston\n",
      "Num nodes/edges in graph 12936 / 17427\n",
      "ylogx\n",
      "Num nodes/edges in graph 13042 / 17625\n",
      "hhstore\n",
      "Num nodes/edges in graph 13177 / 17823\n",
      "t0n1c\n",
      "Num nodes/edges in graph 13188 / 17845\n",
      "pbamotra\n",
      "Num nodes/edges in graph 13300 / 18045\n",
      "rsmith54\n",
      "Num nodes/edges in graph 13331 / 18092\n",
      "samuel-kerrien\n",
      "Num nodes/edges in graph 13400 / 18183\n",
      "7125messi\n",
      "Num nodes/edges in graph 13498 / 18373\n",
      "Syrus\n",
      "Num nodes/edges in graph 13498 / 18375\n",
      "dchudz\n",
      "Num nodes/edges in graph 13524 / 18413\n",
      "miniaturelle\n",
      "Num nodes/edges in graph 13533 / 18456\n",
      "ikatanic\n",
      "Num nodes/edges in graph 13546 / 18493\n",
      "bossjones\n",
      "Num nodes/edges in graph 13698 / 18681\n",
      "kennethlimjf\n",
      "Num nodes/edges in graph 13725 / 18736\n",
      "xyzdream\n",
      "Num nodes/edges in graph 13726 / 18739\n",
      "xq2005\n",
      "Num nodes/edges in graph 13732 / 18752\n",
      "SummerTea\n",
      "Num nodes/edges in graph 13816 / 18944\n",
      "wangdi244\n",
      "Num nodes/edges in graph 13900 / 19062\n",
      "vnnw\n",
      "Num nodes/edges in graph 14003 / 19259\n",
      "imrv13\n",
      "Num nodes/edges in graph 14029 / 19316\n",
      "pradeepmathesh\n",
      "Num nodes/edges in graph 14193 / 19515\n",
      "alcidesmorales\n",
      "Num nodes/edges in graph 14330 / 19712\n",
      "blahblueray\n",
      "Num nodes/edges in graph 14337 / 19721\n",
      "qiulin\n",
      "Num nodes/edges in graph 14475 / 19919\n",
      "ct-clmsn\n",
      "Num nodes/edges in graph 14550 / 20016\n",
      "spillai\n",
      "Num nodes/edges in graph 14668 / 20214\n",
      "johanfforsberg\n",
      "Num nodes/edges in graph 14760 / 20403\n",
      "dogrdon\n",
      "Num nodes/edges in graph 14889 / 20601\n",
      "younescha\n",
      "Num nodes/edges in graph 14889 / 20603\n",
      "ChristianSch\n",
      "Num nodes/edges in graph 15015 / 20802\n",
      "dvatterott\n",
      "Num nodes/edges in graph 15039 / 20839\n",
      "zuoxiaolei\n",
      "Num nodes/edges in graph 15044 / 20848\n",
      "qiwihui\n",
      "Num nodes/edges in graph 15180 / 21042\n",
      "mvherweg\n",
      "Num nodes/edges in graph 15211 / 21110\n",
      "Horace89\n",
      "Num nodes/edges in graph 15302 / 21307\n",
      "xrbu\n",
      "Num nodes/edges in graph 15361 / 21506\n",
      "freegnu\n",
      "Num nodes/edges in graph 15487 / 21704\n",
      "rk4n\n",
      "Num nodes/edges in graph 15610 / 21893\n",
      "thalesmello\n",
      "Num nodes/edges in graph 15695 / 22092\n",
      "craigwilkins\n",
      "Num nodes/edges in graph 15704 / 22107\n",
      "zafercavdar\n",
      "Num nodes/edges in graph 15722 / 22135\n",
      "Name: \n",
      "Type: DiGraph\n",
      "Number of nodes: 15722\n",
      "Number of edges: 22135\n",
      "Average in degree:   1.4079\n",
      "Average out degree:   1.4079 \n",
      "\n"
     ]
    }
   ],
   "source": [
    "buildRepoNet(stargazers,200)"
   ]
  },
  {
   "cell_type": "markdown",
   "metadata": {},
   "source": [
    "Next, we can use the builded net to get the popular repos. The more users star the repo, the more popular it is. So here we iterate each repo node in the graph and record the number of hit times."
   ]
  },
  {
   "cell_type": "code",
   "execution_count": 8,
   "metadata": {},
   "outputs": [],
   "source": [
    "def getTopNRepos(n):\n",
    "    print(\"Top \"+ str(n) + \" Popular repositories:\")\n",
    "    \n",
    "    repos = []\n",
    "    for (v, i) in graph.in_degree():\n",
    "        if graph.node[v]['type'] == 'repo':\n",
    "            repos.append((v,i))\n",
    "    repos = sorted(repos, key = lambda x:x[1], reverse=True)\n",
    "    return repos[:n]"
   ]
  },
  {
   "cell_type": "markdown",
   "metadata": {},
   "source": [
    "Let's try to get the top 10 popular repositories."
   ]
  },
  {
   "cell_type": "code",
   "execution_count": 9,
   "metadata": {},
   "outputs": [
    {
     "name": "stdout",
     "output_type": "stream",
     "text": [
      "Top 10 Popular repositories:\n",
      "[('pysparkling(repo)', 147), ('spark(repo)', 29), ('tensorflow(repo)', 23), ('dask(repo)', 19), ('incubator-superset(repo)', 18), ('jupyterlab(repo)', 18), ('models(repo)', 17), ('awesome-machine-learning(repo)', 17), ('keras(repo)', 16), ('Detectron(repo)', 16)]\n"
     ]
    }
   ],
   "source": [
    "hottestRepos = getTopNRepos(10)\n",
    "print(hottestRepos)"
   ]
  },
  {
   "cell_type": "markdown",
   "metadata": {},
   "source": [
    "With this network graph, we can also get the one certain user's preference such as the repositories he followed and the programming languages."
   ]
  },
  {
   "cell_type": "code",
   "execution_count": 10,
   "metadata": {},
   "outputs": [],
   "source": [
    "def getPreferRepos(username):\n",
    "    \n",
    "    repos = []\n",
    "    for v in graph[username+\"(user)\"]:\n",
    "        if graph[username+\"(user)\"][v]['type'] == 'gazes':\n",
    "            repos.append(v)\n",
    "    return repos"
   ]
  },
  {
   "cell_type": "code",
   "execution_count": 11,
   "metadata": {},
   "outputs": [],
   "source": [
    "def getPreferLanguages(username):\n",
    "      \n",
    "    langs = set()\n",
    "    for v in graph[username+\"(user)\"]:\n",
    "        if graph[username+\"(user)\"][v]['type'] == 'gazes':\n",
    "            langs.add(graph.node[v]['lang'])\n",
    "    return langs"
   ]
  },
  {
   "cell_type": "markdown",
   "metadata": {},
   "source": [
    "We can then check the preference of the hottest user we find above."
   ]
  },
  {
   "cell_type": "code",
   "execution_count": 12,
   "metadata": {},
   "outputs": [
    {
     "name": "stdout",
     "output_type": "stream",
     "text": [
      "svenkreiss(user)\n",
      "Respositories that svenkreiss has starred\n",
      "['LHCHiggsCouplings(repo)', 'alluxio(repo)', 'thefuck(repo)', 'bazel(repo)', 'fcl(repo)', 'grumpy(repo)', 'montecarlorisk(repo)', 'GooFit(repo)', 'dlib(repo)', 'pylearn2(repo)', 'vowpal_wabbit(repo)', 'redis-commander(repo)', '500lines(repo)', 'sumo-web3d(repo)', 'flann(repo)', 'ntm(repo)', 'golearn(repo)', 'keras-GAN(repo)', 'quine.zip(repo)', 'hue(repo)', 'consul(repo)', 'flask-sockets(repo)', 'sense2vec(repo)', 't-digest(repo)', 'tensorflow(repo)', 'pelican_plugin-render_math(repo)', 'ztorch(repo)', 'distributed(repo)', 'zipline(repo)', 'gradient-checkpointing(repo)', 'bootcards(repo)', 'read-this-first(repo)', 'pelican-jsmath(repo)', 'rootpy(repo)', 'Pikaday(repo)', 'nmslib(repo)', 'annoy(repo)', 'demos(repo)', 'marp(repo)', 'models(repo)', 'torch-ddcnn(repo)', 'char-rnn(repo)', 'videogan(repo)', 'playground(repo)', 'skflow(repo)', 'feather(repo)', 'metabase(repo)', 'BatchLikelihoodScan(repo)', 'es6-cheatsheet(repo)', 'benchmark(repo)', 'Thunder(repo)', 'openface(repo)', 'multipathnet(repo)', 'python-zipstream(repo)', 'mr4c(repo)', 'spark(repo)', 'kaggle-galaxies(repo)', 'FacialExpression(repo)', 'pykka(repo)', 'dc.js(repo)', 'js-libp2p-kad-dht(repo)', 'KaTeX(repo)', 'vagrant(repo)', 'hydra(repo)', 'unicodeit(repo)', 'databench_spark_test(repo)', 'decoupledDemo(repo)', 'caffe(repo)', 'opencv(repo)', 'deepmask(repo)', 'tfjs(repo)', 'karma(repo)', 'Theano(repo)', 'MemNN(repo)', 'rnn(repo)', 'jedi(repo)', 'snappy(repo)', 'dataset(repo)', 'crouton(repo)', 'Chart.js(repo)', 'backbone-and-d3(repo)', 'jeu-de-taquin(repo)', 'nvd3(repo)', 'jupyterlab(repo)', 'databench_go(repo)', 'juliusjs(repo)', 'grafana(repo)', 'trot(repo)', 'd3(repo)', 'kubernetes(repo)', 'Shapely(repo)', 'ttk(repo)', 'cayley(repo)', 'pysparkling(repo)', 'DeepLearningTutorials(repo)', 'deep-neuroevolution(repo)', 'micropython(repo)', 'Document2Vec(repo)', 'protractor(repo)', 'context2vec(repo)', 'fast-bind(repo)', 'itermplot(repo)', 'DeepMind-Atari-Deep-Q-Learner(repo)', 'cytoscape.js(repo)', 's2geometry(repo)', 'PyROOTUtils(repo)', 'R-FCN(repo)', 'meeting-room-tablet(repo)', 'pyboard(repo)', 'awesome-machine-learning(repo)', 'parquet-format(repo)', 'pytorch(repo)', 'Adversarial_Video_Generation(repo)', 'GhostText(repo)', 'keras(repo)', 'validator.github.io(repo)', 'keras-js(repo)', 'oh-my-zsh(repo)', 'convnet-benchmarks(repo)', 'bootstrap-material-design(repo)', 'attrs(repo)', 'statsd(repo)', 'validator(repo)', 'gensim(repo)', 'doppelganger(repo)', 'ssd.pytorch(repo)', 'nprogress(repo)', 'h3(repo)', 'ipfs(repo)', 'Android-Object-Detection(repo)', 'SelfNormalizingNetworks(repo)', 'CycleGAN(repo)', 'sass(repo)', 'js-git(repo)', 'scikit-learn(repo)', 'skip-thoughts(repo)', 'cgt(repo)', 'networkx(repo)', 'moby(repo)', 'pelican_dynamic(repo)', 'TypeScript(repo)', 'deepdive(repo)', 'apidocs(repo)', 'databench(repo)', 's2sphere(repo)', 'dvds-js(repo)', 'pelican-theme-validator(repo)', 'databench_examples(repo)', 'ShareJS(repo)', 'pelican(repo)', 'tornado(repo)', 'rc-data(repo)', 'docker-flask-gevent(repo)', 'html5validator(repo)', 'parquet-cpp(repo)', 'decouple(repo)', 'rethinkdb(repo)', 'neuraltalk(repo)', 'cpython(repo)', 'tinydb(repo)', 'ngraph(repo)', 'textwrangler-bbedit-solarized(repo)', 'localcrawl(repo)', 'FormalSystems(repo)', 'dockbroker(repo)', 'optim(repo)', 'caffe2(repo)', 'Self-Driving-Car(repo)', 'express-handlebars(repo)']\n",
      "Programming languages svenkreiss is interested in\n",
      "{'CoffeeScript', 'Lua', 'HTML', 'CSS', 'Matlab', 'Shell', 'C++', 'Scala', 'Elixir', 'C', 'Ruby', 'Perl', 'Java', 'Go', 'Python', 'Jupyter Notebook', None, 'Eagle', 'TypeScript', 'JavaScript'}\n"
     ]
    }
   ],
   "source": [
    "print(hottestUsers[0][0])\n",
    "user = hottestUsers[0][0].split('(')[0]\n",
    "print(\"Respositories that \"+user+ \" has starred\")\n",
    "repos = getPreferRepos(user)\n",
    "print(repos)\n",
    "print(\"Programming languages \"+user+ \" is interested in\")  \n",
    "langs = getPreferLanguages(user)\n",
    "print(langs)"
   ]
  },
  {
   "cell_type": "markdown",
   "metadata": {},
   "source": [
    "Correspondingly, we can also get the list of users who star one certain repo."
   ]
  },
  {
   "cell_type": "code",
   "execution_count": 13,
   "metadata": {},
   "outputs": [],
   "source": [
    "def getStarredUser(repoName):\n",
    "    users = []\n",
    "    for (v, i) in graph.in_degree():\n",
    "        if graph.node[v]['type'] == 'user':\n",
    "            if repoName+\"(repo)\" in getPreferRepos(v.split('(')[0]):\n",
    "                users.append(v)\n",
    "    return users"
   ]
  },
  {
   "cell_type": "markdown",
   "metadata": {},
   "source": [
    "For the hottest repo, we can also get the list of user who have starred the repo."
   ]
  },
  {
   "cell_type": "code",
   "execution_count": 14,
   "metadata": {},
   "outputs": [
    {
     "name": "stdout",
     "output_type": "stream",
     "text": [
      "['walkersuen(user)', 'dylanroy(user)', 'flysky1991(user)', 'ylogx(user)', 'waxz(user)', 'pradeepmathesh(user)', 'mjhea0(user)', 'xrbu(user)', 'Veallym0n(user)', 'nabilm(user)', 'pauldevos(user)', 'Pushkr(user)', 'onesuper(user)', 'qiulin(user)', 'petrushy(user)', 'aalhour(user)', 'xunyou(user)', 'dhanainme(user)', 'skribled(user)', 'drauschenbach(user)', 'kennethlimjf(user)', 'greyhill(user)', 'luiscape(user)', 'blahblueray(user)', 'ZhukovAlexander(user)', 'felipecruz(user)', 'smrjan(user)', 'jgmize(user)', 'akansal1(user)', 'ahmedezzeldin93(user)', 'ikatanic(user)', 't0n1c(user)', 'svenkreiss(user)', 'hezila(user)', 'RishiSankineni(user)', 'basilhe(user)', 'ajlmsbux(user)', 'gawry(user)', 'farquasar1(user)', 'brianv0(user)', 'wearpants(user)', 'StephanErb(user)', 'spillai(user)', 'dkanoafry(user)', 'ChristianSch(user)', 'younescha(user)', 'Horace89(user)', 'Lguyogiro(user)', 'dogrdon(user)', '7125messi(user)', 'ddboline(user)', 'jchaat(user)', 'vnnw(user)', 'johanfforsberg(user)', 'bossjones(user)', 'esafak(user)', 'hhstore(user)', 'xyzdream(user)', 'dan-blanchard(user)', 'zafercavdar(user)', 'rushter(user)', 'gerbaudo(user)', 'ycliuhw(user)', 'leetreveil(user)', 'imrv13(user)', 'telamonian(user)', 'zuoxiaolei(user)', 'craigwilkins(user)', 'ajschumacher(user)', 'denisfitz57(user)', 'qwert666(user)', 'freegnu(user)', 'castanan(user)', 'dchudz(user)', 'alcidesmorales(user)', 'chaoyue729(user)', 'mvherweg(user)', 'lingyong(user)', 'ysku(user)', 'binh-vu(user)', 'd2207197(user)', 'samuel-kerrien(user)', 'fonnesbeck(user)', 'petro-rudenko(user)', 'amelio-vazquez-reina(user)', 'thulio(user)', 'sevenguin(user)', 'he0x(user)', 'kmatt(user)', 'ct-clmsn(user)', 'eien(user)', 'pd-spark(user)', 'JonasAmrich(user)', 'miniaturelle(user)', 'freeman-lab(user)', 'juanshishido(user)', 'matagus(user)', 'rdhyee(user)', 'ekampf(user)', 'aleury(user)', 'dvatterott(user)', 'peristeri(user)', 'ziedzic(user)', 'mtpatter(user)', 'sourcepirate(user)', 'wangdi244(user)', 'codinguncut(user)', 'lomereiter(user)', 'vasudevram(user)', 'dclambert(user)', 'ronert(user)', 'cranmer(user)', 'ansrivas(user)', 'silverstone1903(user)', 'jessem(user)', 'emlazzarin(user)', 'rk4n(user)', 'yv(user)', 'Greenall(user)', 'nschlemm(user)', 'rsmith54(user)', 'cheekybastard(user)', 'rgabo(user)', 'tcoyze(user)', 'Syrus(user)', 'alexprengere(user)', 'XIEQ(user)', 'cupen(user)', 'angusshire(user)', 'xinyu-usf(user)', 'qiwihui(user)', 'Stardust1002(user)', 'mvaz(user)', 'danilomo(user)', 'pganssle(user)', 'wuxianliang(user)', 'Smerity(user)', 'SummerTea(user)', 'xq2005(user)', 'Bennyelg(user)', 'pbamotra(user)', 'robinsingh1(user)', 'tedmiston(user)', 'thalesmello(user)', 'ptrf(user)', 'ilgarm(user)', 'ainkov(user)']\n",
      "147\n"
     ]
    }
   ],
   "source": [
    "repo = hottestRepos[0][0].split('(')[0]\n",
    "users = getStarredUser(repo)\n",
    "print(users)\n",
    "print(len(users))"
   ]
  },
  {
   "cell_type": "markdown",
   "metadata": {
    "collapsed": true
   },
   "source": [
    "Using the two functions above, we can do some further analysis about the relationship between some hot topics. For each pair of repos, we can count how many people star both two repos? "
   ]
  },
  {
   "cell_type": "code",
   "execution_count": 15,
   "metadata": {},
   "outputs": [],
   "source": [
    "def repoRelationship(repo1, repo2):\n",
    "    user1 = getStarredUser(repo1)\n",
    "    user2 = getStarredUser(repo2)\n",
    "    commonUser = set(user1)&set(user2)\n",
    "    p1 = len(commonUser)/len(user1)\n",
    "    p2 = len(commonUser)/len(user2)\n",
    "    return (p1,p2)"
   ]
  },
  {
   "cell_type": "markdown",
   "metadata": {},
   "source": [
    "To get the visible result, we use library Seaborn to create a heatmap."
   ]
  },
  {
   "cell_type": "code",
   "execution_count": 16,
   "metadata": {},
   "outputs": [],
   "source": [
    "import seaborn as sns # for Interactive plots\n",
    "import matplotlib.pyplot as plt # for plots\n",
    "% matplotlib inline\n",
    "import pandas as pd\n",
    "import numpy as np\n",
    "\n",
    "def repoHeatMap(repos):\n",
    "    length = len(repos)\n",
    "    x = np.zeros((length,length))\n",
    "    columns = list(map(lambda x:x[0].split('(')[0],repos))\n",
    "    print(columns)\n",
    "    for i,v in enumerate(columns):\n",
    "        for j in range(i,length):\n",
    "            p1,p2 = repoRelationship(v,columns[j])\n",
    "            x[i][j] = p1\n",
    "            x[j][i] = p2\n",
    "    df = pd.DataFrame(x,columns = columns)\n",
    "    sns.heatmap(df,annot=True)\n",
    "#     plt.figure(figsize=(12,10))\n",
    "    plt.xticks(rotation=75)\n",
    "    plt.show()"
   ]
  },
  {
   "cell_type": "markdown",
   "metadata": {},
   "source": [
    "We use the top ten hottest repos to create the heatmap."
   ]
  },
  {
   "cell_type": "code",
   "execution_count": 17,
   "metadata": {},
   "outputs": [
    {
     "name": "stdout",
     "output_type": "stream",
     "text": [
      "['pysparkling', 'spark', 'tensorflow', 'dask', 'incubator-superset', 'jupyterlab', 'models', 'awesome-machine-learning', 'keras', 'Detectron']\n"
     ]
    },
    {
     "data": {
      "image/png": "[encoded data removed]",
      "text/plain": [
       "<matplotlib.figure.Figure at 0x1515710cc0>"
      ]
     },
     "metadata": {},
     "output_type": "display_data"
    }
   ],
   "source": [
    "repoHeatMap(hottestRepos)"
   ]
  },
  {
   "cell_type": "markdown",
   "metadata": {
    "collapsed": true
   },
   "source": [
    "### Find Hot Programming Language\n",
    "\n",
    "What if we want to know which is the most popular language for all projects in the current map we generated? We can go through the projects and then extract the language part and put it into the counter to count, this seems easy to do, but what if we want to query how many users are programming in a particular kind of language? This requires scanning the in-degree users of each project, and finally summing up the count results. This idea requires large time complexity. A good idea at this time is to expand the map and use the language as a single node. The logic diagram of the final map is as follows:"
   ]
  },
  {
   "cell_type": "markdown",
   "metadata": {
    "collapsed": true
   },
   "source": [
    "[<img src=\"https://raw.githubusercontent.com/hanna1994/han1994/master/191525762986_.pic_hd.jpg\",width=400, height=400>](https://raw.githubusercontent.com/hanna1994/han1994/master/191525762986_.pic_hd.jpg)"
   ]
  },
  {
   "cell_type": "code",
   "execution_count": 18,
   "metadata": {},
   "outputs": [],
   "source": [
    "def createLanguageMap():\n",
    "    repos = []\n",
    "  \n",
    "    for n in graph.nodes():\n",
    "        if graph.node[n]['type'] == 'repo':\n",
    "            repos.append(n)\n",
    "\n",
    "    for repo in repos:\n",
    "        # some empty projects may have none of the language part\n",
    "        if graph.node[repo]['lang']:\n",
    "            lang = (graph.node[repo]['lang']) + \"(lang)\"\n",
    "        else:\n",
    "            lang = (\"\") + \"(lang)\"\n",
    "            \n",
    "        # users who gazed repo\n",
    "        stargazers = []\n",
    "\n",
    "        for (user, repo, data) in graph.in_edges(repo, data=True):\n",
    "            if data['type'] == 'gazes':\n",
    "                stargazers.append(user)\n",
    "\n",
    "        for stargazer in stargazers:\n",
    "            graph.add_edge(stargazer, lang, type='programs')\n",
    "            graph.add_node(lang, type='lang')\n",
    "            graph.add_edge(lang, repo, type='implements')  "
   ]
  },
  {
   "cell_type": "markdown",
   "metadata": {},
   "source": [
    "Then, let's see the count results of the languages. First we should see what languages are there in the map:"
   ]
  },
  {
   "cell_type": "code",
   "execution_count": 19,
   "metadata": {},
   "outputs": [
    {
     "name": "stdout",
     "output_type": "stream",
     "text": [
      "['Cuda(lang)', 'M4(lang)', 'D(lang)', 'Perl(lang)', 'JavaScript(lang)', 'Processing(lang)', 'Eagle(lang)', 'PureScript(lang)', 'C(lang)', 'OpenEdge ABL(lang)', 'TLA(lang)', 'Crystal(lang)', 'CMake(lang)', 'GCC Machine Description(lang)', 'Java(lang)', 'Pascal(lang)', 'Ruby(lang)', 'VimL(lang)', 'MAXScript(lang)', 'SaltStack(lang)', 'Roff(lang)', 'HTML(lang)', 'Coq(lang)', 'Elm(lang)', 'Puppet(lang)', 'Web Ontology Language(lang)', 'Stan(lang)', 'Rascal(lang)', 'Rust(lang)', 'SystemVerilog(lang)', 'Vue(lang)', 'Jupyter Notebook(lang)', 'Awk(lang)', 'Erlang(lang)', 'Nginx(lang)', 'OCaml(lang)', 'C#(lang)', 'Scala(lang)', 'J(lang)', 'Red(lang)', 'Batchfile(lang)', 'Visual Basic(lang)', 'CoffeeScript(lang)', 'MQL5(lang)', 'RAML(lang)', 'Lean(lang)', 'Scheme(lang)', 'PowerShell(lang)', 'Elixir(lang)', 'XSLT(lang)', 'Common Lisp(lang)', 'SRecode Template(lang)', 'HCL(lang)', 'Stata(lang)', 'Objective-C(lang)', 'AppleScript(lang)', 'Arduino(lang)', 'TeX(lang)', 'NSIS(lang)', 'Vim script(lang)', 'PLpgSQL(lang)', 'CWeb(lang)', 'LLVM(lang)', 'Terra(lang)', 'F#(lang)', 'C++(lang)', 'IDL(lang)', 'Lua(lang)', 'ApacheConf(lang)', 'Smarty(lang)', 'PHP(lang)', 'Prolog(lang)', 'Clojure(lang)', 'Nimrod(lang)', 'Assembly(lang)', 'Protocol Buffer(lang)', 'Kotlin(lang)', 'Verilog(lang)', 'Chapel(lang)', 'PureBasic(lang)', 'Agda(lang)', '(lang)', 'PostScript(lang)', 'Groovy(lang)', 'TypeScript(lang)', 'Emacs Lisp(lang)', 'Common Workflow Language(lang)', 'Objective-C++(lang)', 'Vala(lang)', 'Rebol(lang)', 'Fortran(lang)', 'ActionScript(lang)', 'R(lang)', 'Shell(lang)', 'Nix(lang)', 'Mathematica(lang)', 'Julia(lang)', 'Groff(lang)', 'WebAssembly(lang)', 'Haskell(lang)', 'Scilab(lang)', 'Dart(lang)', 'Frege(lang)', 'Racket(lang)', 'Go(lang)', 'QML(lang)', 'CSS(lang)', 'Ragel in Ruby Host(lang)', 'LiveScript(lang)', 'Nim(lang)', 'Tcl(lang)', 'Matlab(lang)', 'VHDL(lang)', 'ANTLR(lang)', 'DIGITAL Command Language(lang)', 'Standard ML(lang)', 'Python(lang)', 'Thrift(lang)', 'Makefile(lang)', 'LookML(lang)', 'Swift(lang)', 'Pony(lang)', 'Hy(lang)', 'Yacc(lang)']\n"
     ]
    }
   ],
   "source": [
    "createLanguageMap()\n",
    "# let us see what languages are in the map\n",
    "res = []\n",
    "for n in graph.nodes():\n",
    "    if graph.node[n]['type'] == 'lang':\n",
    "        res.append(n)\n",
    "print(res)   "
   ]
  },
  {
   "cell_type": "markdown",
   "metadata": {},
   "source": [
    "Now we can see the top 10 hottest languages users are using:"
   ]
  },
  {
   "cell_type": "code",
   "execution_count": 20,
   "metadata": {},
   "outputs": [],
   "source": [
    "# find hottest X languages\n",
    "def topLanguages(limit):\n",
    "    print (\"Most popular languages\")\n",
    "    print (sorted([(n, graph.in_degree(n))\n",
    "     for n in graph.nodes() \n",
    "         if graph.node[n]['type'] == 'lang'], key=itemgetter(1), reverse=True)[:limit])"
   ]
  },
  {
   "cell_type": "code",
   "execution_count": 21,
   "metadata": {},
   "outputs": [
    {
     "name": "stdout",
     "output_type": "stream",
     "text": [
      "Most popular languages\n",
      "[('Python(lang)', 147), ('JavaScript(lang)', 134), ('(lang)', 134), ('C++(lang)', 129), ('Java(lang)', 126), ('Jupyter Notebook(lang)', 125), ('C(lang)', 123), ('HTML(lang)', 121), ('Shell(lang)', 116), ('Go(lang)', 105)]\n"
     ]
    }
   ],
   "source": [
    "# find top 10 languages\n",
    "topLanguages(10)"
   ]
  },
  {
   "cell_type": "markdown",
   "metadata": {},
   "source": [
    "And let us see some common languages usage:"
   ]
  },
  {
   "cell_type": "code",
   "execution_count": 22,
   "metadata": {},
   "outputs": [],
   "source": [
    "# find how many people are using the certain kind of language\n",
    "def languageUsage(languageType):\n",
    "    langUser = []\n",
    "    for (user, lang) in graph.in_edges(languageType):\n",
    "         if graph.node[user]['type'] == 'user':\n",
    "                langUser.append(user)\n",
    "    return langUser"
   ]
  },
  {
   "cell_type": "code",
   "execution_count": 23,
   "metadata": {},
   "outputs": [
    {
     "name": "stdout",
     "output_type": "stream",
     "text": [
      "Number of Python programmers: 147\n",
      "Number of JavaScript programmers: 134\n"
     ]
    },
    {
     "ename": "NameError",
     "evalue": "name 'r_user' is not defined",
     "output_type": "error",
     "traceback": [
      "\u001b[0;31m---------------------------------------------------------------------------\u001b[0m",
      "\u001b[0;31mNameError\u001b[0m                                 Traceback (most recent call last)",
      "\u001b[0;32m<ipython-input-23-9bbd2526905d>\u001b[0m in \u001b[0;36m<module>\u001b[0;34m()\u001b[0m\n\u001b[1;32m     10\u001b[0m \u001b[0mprint\u001b[0m \u001b[0;34m(\u001b[0m\u001b[0;34m\"Number of Python programmers:\"\u001b[0m\u001b[0;34m,\u001b[0m \u001b[0mlen\u001b[0m\u001b[0;34m(\u001b[0m\u001b[0mpython_user\u001b[0m\u001b[0;34m)\u001b[0m\u001b[0;34m)\u001b[0m\u001b[0;34m\u001b[0m\u001b[0m\n\u001b[1;32m     11\u001b[0m \u001b[0mprint\u001b[0m \u001b[0;34m(\u001b[0m\u001b[0;34m\"Number of JavaScript programmers:\"\u001b[0m\u001b[0;34m,\u001b[0m \u001b[0mlen\u001b[0m\u001b[0;34m(\u001b[0m\u001b[0mjs_user\u001b[0m\u001b[0;34m)\u001b[0m\u001b[0;34m)\u001b[0m\u001b[0;34m\u001b[0m\u001b[0m\n\u001b[0;32m---> 12\u001b[0;31m \u001b[0mprint\u001b[0m \u001b[0;34m(\u001b[0m\u001b[0;34m\"Number of R programmers:\"\u001b[0m\u001b[0;34m,\u001b[0m \u001b[0mlen\u001b[0m\u001b[0;34m(\u001b[0m\u001b[0mr_user\u001b[0m\u001b[0;34m)\u001b[0m\u001b[0;34m)\u001b[0m\u001b[0;34m\u001b[0m\u001b[0m\n\u001b[0m\u001b[1;32m     13\u001b[0m \u001b[0mprint\u001b[0m\u001b[0;34m(\u001b[0m\u001b[0;34m\"--------------------------------------------------------\"\u001b[0m\u001b[0;34m)\u001b[0m\u001b[0;34m\u001b[0m\u001b[0m\n\u001b[1;32m     14\u001b[0m \u001b[0mprint\u001b[0m \u001b[0;34m(\u001b[0m\u001b[0;34m\"Number of C programmers:\"\u001b[0m\u001b[0;34m,\u001b[0m \u001b[0mlen\u001b[0m\u001b[0;34m(\u001b[0m\u001b[0mc_user\u001b[0m\u001b[0;34m)\u001b[0m\u001b[0;34m)\u001b[0m\u001b[0;34m\u001b[0m\u001b[0m\n",
      "\u001b[0;31mNameError\u001b[0m: name 'r_user' is not defined"
     ]
    }
   ],
   "source": [
    "python_user = languageUsage('Python(lang)')\n",
    "js_user = languageUsage('JavaScript(lang)')\n",
    "ru_ser = languageUsage('R(lang)')\n",
    "c_user = languageUsage('C(lang)')\n",
    "cplus_user = languageUsage('C++(lang)')\n",
    "css_user = languageUsage('CSS(lang)')\n",
    "html_user = languageUsage('HTML(lang)')\n",
    "php_user = languageUsage('PHP(lang)')\n",
    "\n",
    "print (\"Number of Python programmers:\", len(python_user))\n",
    "print (\"Number of JavaScript programmers:\", len(js_user))\n",
    "print (\"Number of R programmers:\", len(r_user))\n",
    "print(\"--------------------------------------------------------\")\n",
    "print (\"Number of C programmers:\", len(c_user))\n",
    "print (\"Number of C++ programmers:\", len(cplus_user))\n",
    "print(\"--------------------------------------------------------\")\n",
    "print (\"Number of CSS programmers:\", len(css_user))\n",
    "print (\"Number of HTML programmers:\", len(html_user))\n",
    "print (\"Number of PHP programmers:\", len(php_user))"
   ]
  },
  {
   "cell_type": "markdown",
   "metadata": {},
   "source": [
    "for the most languages people used: pyhton and js, we also analyzed the intersection of these two languages:"
   ]
  },
  {
   "cell_type": "code",
   "execution_count": 24,
   "metadata": {},
   "outputs": [],
   "source": [
    "def compareJSwithPy(js,py):\n",
    "    # people who use both languages\n",
    "    print (\"Number of programmers who use js and Py:\")\n",
    "    print (len(set(js).intersection(set(py))))\n",
    "\n",
    "    # people who only use python but not js\n",
    "    print (\"Number of programmers who use Py but not Js:\")\n",
    "    print (len(set(py).difference(set(js))))\n",
    "    \n",
    "    # people who only use js but not py\n",
    "    print (\"Number of programmers who use js but not py:\")\n",
    "    print (len(set(js).difference(set(py))))"
   ]
  },
  {
   "cell_type": "code",
   "execution_count": 25,
   "metadata": {},
   "outputs": [
    {
     "name": "stdout",
     "output_type": "stream",
     "text": [
      "Number of programmers who use js and Py:\n",
      "134\n",
      "Number of programmers who use Py but not Js:\n",
      "0\n",
      "Number of programmers who use js but not py:\n",
      "13\n"
     ]
    }
   ],
   "source": [
    "compareJSwithPy(python_user,js_user)"
   ]
  },
  {
   "cell_type": "markdown",
   "metadata": {},
   "source": [
    "Wala! Now we can analyze the results! It can be seen from the results that JS and R, python and other scripting languages in github's preferred language list occupy the mainstream. Although there are only 10,000 items involved in the data we analyzed, it is like the old saying: “github is the world of front end”.\n",
    "\n",
    "What's more, Scala is also very hot from seeing our results, mainly because the \"source of the project\" is findspark.\n",
    "\n",
    "Another interesting phenomenon is that the programmers who use python definetly will use js, and those who use js  will not necessarily use python (80-74=6 individuals who is using js but not using python)."
   ]
  },
  {
   "cell_type": "markdown",
   "metadata": {},
   "source": [
    "### Visialize the relationship between the users and languages"
   ]
  },
  {
   "cell_type": "code",
   "execution_count": 26,
   "metadata": {},
   "outputs": [
    {
     "data": {
      "text/html": [
       "\n",
       "        <iframe\n",
       "            width=\"100%\"\n",
       "            height=\"900px\"\n",
       "            src=\"force.html\"\n",
       "            frameborder=\"0\"\n",
       "            allowfullscreen\n",
       "        ></iframe>\n",
       "        "
      ],
      "text/plain": [
       "<IPython.lib.display.IFrame at 0x1a1fdd5f98>"
      ]
     },
     "metadata": {},
     "output_type": "display_data"
    }
   ],
   "source": [
    "import os\n",
    "import json\n",
    "from IPython.display import IFrame\n",
    "from IPython.core.display import display \n",
    "from networkx.readwrite import json_graph\n",
    "\n",
    "\n",
    "# extract users and language info\n",
    "mtsw_users = [n for n in graph if graph.node[n]['type'] == 'user'] +[n for n in graph if graph.node[n]['type'] == 'lang'] \n",
    "h = graph.subgraph(mtsw_users)\n",
    "# export json\n",
    "d = json_graph.node_link_data(h)\n",
    "json.dump(d, open('d3/force.json', 'w'))\n",
    "viz_file = 'force.html'\n",
    "# D3 to visulize it\n",
    "display(IFrame(viz_file, '100%', '900px'))"
   ]
  },
  {
   "cell_type": "markdown",
   "metadata": {
    "collapsed": true
   },
   "source": [
    "### References"
   ]
  },
  {
   "cell_type": "markdown",
   "metadata": {
    "collapsed": true
   },
   "source": [
    "1. [GitHub API](https://networkx.github.io/documentation/stable/)\n",
    "2. [NetworkX Documentation](https://networkx.github.io/documentation/stable/)\n",
    "3. [Seaborn API](https://seaborn.pydata.org/api.html)"
   ]
  }
 ],
 "metadata": {
  "kernelspec": {
   "display_name": "Python 3",
   "language": "python",
   "name": "python3"
  },
  "language_info": {
   "codemirror_mode": {
    "name": "ipython",
    "version": 3
   },
   "file_extension": ".py",
   "mimetype": "text/x-python",
   "name": "python",
   "nbconvert_exporter": "python",
   "pygments_lexer": "ipython3",
   "version": "3.5.1"
  }
 },
 "nbformat": 4,
 "nbformat_minor": 2
}
