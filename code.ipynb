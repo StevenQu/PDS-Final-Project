{
 "cells": [
  {
   "cell_type": "markdown",
   "metadata": {},
   "source": [
    "## Insights of GitHub Networks\n"
   ]
  },
  {
   "cell_type": "markdown",
   "metadata": {},
   "source": [
    "## Introduction\n",
    "Every software engineer uses GitHub. Being a open source distributed version control tool, GitHub has thoundsands of new repositorys in every hour. Thus, GitHub could also be used as a huge dynamic data source to analyze technology status quo and trend.\n",
    "\n",
    "In this project, we will be looking into serveral things like who is the most popular person in certain field, what is the current hottest project and how much does different programming languages being used. In order to support our purpose, we will use GitHub API and NetworkX.\n"
   ]
  },
  {
   "cell_type": "markdown",
   "metadata": {},
   "source": [
    "### GitHub API\n",
    "\n",
    "We will use GitHub API from [here](https://developer.github.com/v3/).\n",
    "All the API calls are using HTTPS requests and it will return in JSON format.\n",
    "\n",
    "Steps to use GitHub API:\n",
    "1. Install `pygithub` by \n",
    "`-pip install pygithub`\n",
    "2. Generate a GitHub Personal access token required for `GitHub API`\n",
    "3. Test You API in local terminal using the following command. It is expected to return a list of dictionary contains your account info\n",
    "##### - curl https://api.github.com/user\\?access_token\\={YOUR_TOKEN}\n",
    "\n",
    "\n"
   ]
  },
  {
   "cell_type": "markdown",
   "metadata": {},
   "source": [
    "### NetworkX\n",
    "NetworkX is a Python package for the creation, manipulation, and study of the structure, dynamics, and functions of complex networks. It provides tools to work with large dataset with network strucutres. With NetworkX, we can load and store neyworks in standard data format easily. It can also helps us to generate classic networks, analyze network strucutre, build network models and much more.\n",
    "\n",
    "You can install `NetworkX` by `-pip install networkx`\n"
   ]
  },
  {
   "cell_type": "code",
   "execution_count": 5,
   "metadata": {},
   "outputs": [],
   "source": [
    "import sys\n",
    "from github import Github\n",
    "import networkx as nx\n",
    "from operator import itemgetter\n",
    "\n",
    "# Global Variables\n",
    "ACCESS_TOKEN = {\"Your GitHub Token\"}\n",
    "# ACCESS_TOKEN = '05bb4eb867b152be20dd11f4fa292107c839931c'\n",
    "USER = 'svenkreiss'  # Define the GitHub User Name\n",
    "REPO = 'pysparkling'  # Define the Repo name\n",
    "client = Github(ACCESS_TOKEN)\n",
    "graph = nx.DiGraph()"
   ]
  },
  {
   "cell_type": "markdown",
   "metadata": {},
   "source": [
    "### Set Up NetworkX Graph\n",
    "\n",
    "\n",
    "After defined the user and repo name that we are going to explore, we can then set up the NetworkX graph.\n",
    "\n",
    "We will add the repo and each user who starred the repo as nodes, and build edges between them. After this, we also add edges between users and their followers. "
   ]
  },
  {
   "cell_type": "code",
   "execution_count": 7,
   "metadata": {},
   "outputs": [],
   "source": [
    "def buildRepoRelations(REPO):\n",
    "    user = client.get_user(USER)\n",
    "    repo = user.get_repo(REPO)  # Get a specific repo\n",
    "    REPOS = user.get_repos()\n",
    "    stargazers = list(repo.get_stargazers())  # The list of users who starred this REPO\n",
    "    graph.add_node(repo.name + '(repo)', type='repo', lang=repo.language, owner=user.login)\n",
    "    for stargazer in stargazers:\n",
    "        graph.add_node(stargazer.login + '(user)', type='user')\n",
    "        graph.add_edge(stargazer.login + '(user)', repo.name + '(repo)', type='gazes')\n",
    "    #\tprint(len(stargazers))#See if it return a correct list\n",
    "    return stargazers\n",
    "\n",
    "\n",
    "def buildUserRelations(stargazers):\n",
    "    for i, stargazer in enumerate(stargazers):\n",
    "        followers = stargazer.get_followers()\n",
    "        try:\n",
    "            for follower in followers:\n",
    "                if follower.login + '(user)' in graph:\n",
    "                    graph.add_edge(follower.login + '(user)', stargazer.login + '(user)', type='follows')\n",
    "        except Exception:  \n",
    "            print(\"Encountered an error when finding follower for user: \", stargazer.login)\n",
    "        #See How many available API calls remaining\n",
    "        print (\"API Calls Remaining\", client.rate_limiting)"
   ]
  },
  {
   "cell_type": "code",
   "execution_count": 10,
   "metadata": {
    "scrolled": true
   },
   "outputs": [
    {
     "name": "stdout",
     "output_type": "stream",
     "text": [
      "API Calls Remaining (4984, 5000)\n",
      "API Calls Remaining (4982, 5000)\n",
      "API Calls Remaining (4981, 5000)\n",
      "API Calls Remaining (4980, 5000)\n",
      "API Calls Remaining (4978, 5000)\n",
      "API Calls Remaining (4977, 5000)\n",
      "API Calls Remaining (4975, 5000)\n",
      "API Calls Remaining (4974, 5000)\n",
      "API Calls Remaining (4971, 5000)\n",
      "API Calls Remaining (4961, 5000)\n",
      "API Calls Remaining (4960, 5000)\n",
      "API Calls Remaining (4931, 5000)\n",
      "API Calls Remaining (4930, 5000)\n",
      "API Calls Remaining (4912, 5000)\n",
      "API Calls Remaining (4910, 5000)\n",
      "API Calls Remaining (4908, 5000)\n",
      "API Calls Remaining (4907, 5000)\n",
      "API Calls Remaining (4906, 5000)\n",
      "API Calls Remaining (4904, 5000)\n",
      "API Calls Remaining (4864, 5000)\n",
      "API Calls Remaining (4863, 5000)\n",
      "API Calls Remaining (4862, 5000)\n",
      "API Calls Remaining (4855, 5000)\n",
      "API Calls Remaining (4853, 5000)\n",
      "API Calls Remaining (4852, 5000)\n",
      "API Calls Remaining (4849, 5000)\n",
      "API Calls Remaining (4847, 5000)\n",
      "API Calls Remaining (4831, 5000)\n",
      "API Calls Remaining (4828, 5000)\n",
      "API Calls Remaining (4827, 5000)\n",
      "API Calls Remaining (4826, 5000)\n",
      "API Calls Remaining (4825, 5000)\n",
      "API Calls Remaining (4810, 5000)\n",
      "API Calls Remaining (4808, 5000)\n",
      "API Calls Remaining (4807, 5000)\n",
      "API Calls Remaining (4806, 5000)\n",
      "API Calls Remaining (4805, 5000)\n",
      "API Calls Remaining (4804, 5000)\n",
      "API Calls Remaining (4802, 5000)\n",
      "API Calls Remaining (4801, 5000)\n",
      "API Calls Remaining (4800, 5000)\n",
      "API Calls Remaining (4799, 5000)\n",
      "API Calls Remaining (4797, 5000)\n",
      "API Calls Remaining (4794, 5000)\n",
      "Encountered an error when finding follower for user:  angusshire\n",
      "API Calls Remaining (4855, 5000)\n",
      "API Calls Remaining (4854, 5000)\n",
      "API Calls Remaining (4853, 5000)\n",
      "API Calls Remaining (4852, 5000)\n",
      "API Calls Remaining (4851, 5000)\n",
      "API Calls Remaining (4850, 5000)\n",
      "API Calls Remaining (4846, 5000)\n",
      "API Calls Remaining (4845, 5000)\n",
      "API Calls Remaining (4838, 5000)\n",
      "API Calls Remaining (4837, 5000)\n",
      "API Calls Remaining (4836, 5000)\n",
      "API Calls Remaining (4835, 5000)\n",
      "API Calls Remaining (4833, 5000)\n",
      "API Calls Remaining (4832, 5000)\n",
      "API Calls Remaining (4830, 5000)\n",
      "API Calls Remaining (4829, 5000)\n",
      "API Calls Remaining (4828, 5000)\n",
      "API Calls Remaining (4827, 5000)\n",
      "API Calls Remaining (4826, 5000)\n",
      "API Calls Remaining (4825, 5000)\n",
      "API Calls Remaining (4824, 5000)\n",
      "API Calls Remaining (4822, 5000)\n",
      "API Calls Remaining (4816, 5000)\n",
      "API Calls Remaining (4815, 5000)\n",
      "API Calls Remaining (4811, 5000)\n",
      "API Calls Remaining (4810, 5000)\n",
      "API Calls Remaining (4808, 5000)\n",
      "API Calls Remaining (4807, 5000)\n",
      "API Calls Remaining (4806, 5000)\n",
      "API Calls Remaining (4804, 5000)\n",
      "API Calls Remaining (4803, 5000)\n",
      "API Calls Remaining (4802, 5000)\n",
      "API Calls Remaining (4796, 5000)\n",
      "API Calls Remaining (4795, 5000)\n",
      "API Calls Remaining (4787, 5000)\n",
      "API Calls Remaining (4786, 5000)\n",
      "API Calls Remaining (4785, 5000)\n",
      "API Calls Remaining (4783, 5000)\n",
      "API Calls Remaining (4782, 5000)\n",
      "API Calls Remaining (4779, 5000)\n",
      "API Calls Remaining (4778, 5000)\n",
      "API Calls Remaining (4777, 5000)\n",
      "API Calls Remaining (4776, 5000)\n",
      "API Calls Remaining (4775, 5000)\n",
      "API Calls Remaining (4774, 5000)\n",
      "API Calls Remaining (4772, 5000)\n",
      "API Calls Remaining (4771, 5000)\n",
      "API Calls Remaining (4770, 5000)\n",
      "API Calls Remaining (4769, 5000)\n",
      "API Calls Remaining (4768, 5000)\n",
      "API Calls Remaining (4767, 5000)\n",
      "API Calls Remaining (4765, 5000)\n",
      "API Calls Remaining (4764, 5000)\n",
      "API Calls Remaining (4762, 5000)\n",
      "API Calls Remaining (4761, 5000)\n",
      "API Calls Remaining (4760, 5000)\n",
      "API Calls Remaining (4758, 5000)\n",
      "API Calls Remaining (4757, 5000)\n",
      "API Calls Remaining (4756, 5000)\n",
      "API Calls Remaining (4755, 5000)\n",
      "API Calls Remaining (4754, 5000)\n",
      "API Calls Remaining (4753, 5000)\n",
      "API Calls Remaining (4751, 5000)\n",
      "API Calls Remaining (4746, 5000)\n",
      "API Calls Remaining (4742, 5000)\n",
      "API Calls Remaining (4741, 5000)\n",
      "API Calls Remaining (4740, 5000)\n",
      "API Calls Remaining (4739, 5000)\n",
      "API Calls Remaining (4738, 5000)\n",
      "API Calls Remaining (4737, 5000)\n",
      "API Calls Remaining (4736, 5000)\n",
      "API Calls Remaining (4733, 5000)\n",
      "API Calls Remaining (4732, 5000)\n",
      "API Calls Remaining (4731, 5000)\n",
      "API Calls Remaining (4728, 5000)\n",
      "API Calls Remaining (4727, 5000)\n",
      "API Calls Remaining (4726, 5000)\n",
      "API Calls Remaining (4725, 5000)\n",
      "API Calls Remaining (4724, 5000)\n",
      "API Calls Remaining (4723, 5000)\n",
      "API Calls Remaining (4722, 5000)\n",
      "API Calls Remaining (4721, 5000)\n",
      "API Calls Remaining (4720, 5000)\n",
      "API Calls Remaining (4719, 5000)\n",
      "API Calls Remaining (4718, 5000)\n",
      "API Calls Remaining (4716, 5000)\n",
      "API Calls Remaining (4715, 5000)\n",
      "API Calls Remaining (4710, 5000)\n",
      "API Calls Remaining (4709, 5000)\n",
      "API Calls Remaining (4708, 5000)\n",
      "API Calls Remaining (4707, 5000)\n",
      "API Calls Remaining (4706, 5000)\n",
      "API Calls Remaining (4705, 5000)\n",
      "API Calls Remaining (4704, 5000)\n",
      "API Calls Remaining (4701, 5000)\n",
      "API Calls Remaining (4700, 5000)\n",
      "API Calls Remaining (4699, 5000)\n",
      "API Calls Remaining (4698, 5000)\n",
      "API Calls Remaining (4697, 5000)\n",
      "API Calls Remaining (4696, 5000)\n",
      "API Calls Remaining (4694, 5000)\n",
      "API Calls Remaining (4693, 5000)\n",
      "API Calls Remaining (4692, 5000)\n"
     ]
    }
   ],
   "source": [
    "stargazers = buildRepoRelations(REPO)\n",
    "buildUserRelations(stargazers)"
   ]
  },
  {
   "cell_type": "markdown",
   "metadata": {},
   "source": [
    "### Find Hottest User\n",
    "In this step, we use the graph initialized above to find the hottest users. The hottest user is defined as the GitHub user followed by most of the people who starred the repo we defined previously. This can also be interpreted as those who starred this repo also follows ... \n"
   ]
  },
  {
   "cell_type": "code",
   "execution_count": 11,
   "metadata": {},
   "outputs": [
    {
     "name": "stdout",
     "output_type": "stream",
     "text": [
      "Number of popular users 66\n",
      "Top popular users: [('svenkreiss(user)', 11), ('fonnesbeck(user)', 7), ('freeman-lab(user)', 5), ('mjhea0(user)', 4), ('Smerity(user)', 4), ('ajschumacher(user)', 3), ('cranmer(user)', 3), ('onesuper(user)', 3), ('castanan(user)', 2), ('dchudz(user)', 2)]\n"
     ]
    }
   ],
   "source": [
    "from collections import Counter\n",
    "from operator import itemgetter\n",
    "\n",
    "def getHottestUser(stargazers):\n",
    "    \n",
    "    temp_list = []\n",
    "    for edge in graph.edges(data = True):\n",
    "        if edge[2]['type'] == 'follows':\n",
    "            temp_list.append(edge[1])\n",
    "    counter = Counter(temp_list)\n",
    "    \n",
    "    popular_users = []\n",
    "    for u, f in counter.most_common():\n",
    "        popular_users.append((u,f))\n",
    "    print (\"Number of popular users\", len(popular_users))\n",
    "    print (\"Top popular users:\", popular_users[:10])\n",
    "    return popular_users[:10]\n",
    "hottestUsers = getHottestUser(stargazers)"
   ]
  },
  {
   "cell_type": "markdown",
   "metadata": {},
   "source": [
    "The result above shows the most popular users. However, we care more about some centralities that NetworkX provided.\n",
    "#### Degree Centrality\n",
    "The Degree Centrality for a node v is the fraction of nodes it is connected to. \n",
    "#### Betweenness Centrality\n",
    "Also, the Betweenness Centrality compute the shortest path for nodes. It is the sum of the fraction of all-pairs shortest paths that pass through the node v. \n",
    "#### Closeness Centrality\n",
    "Lastly, the Closeness Centrality of a node u is the reciprocal of the sum of the shortest path distances from u to all n-1 other nodes. Since the sum of distances depends on the number of nodes in the graph, closeness is normalized by the sum of minimum possible distances n-1.\n",
    "\n",
    "\n"
   ]
  },
  {
   "cell_type": "code",
   "execution_count": 12,
   "metadata": {},
   "outputs": [
    {
     "name": "stdout",
     "output_type": "stream",
     "text": [
      "Degree Centrality\n",
      "[('angusshire(user)', 0.3835616438356164), ('svenkreiss(user)', 0.10273972602739725), ('fonnesbeck(user)', 0.04794520547945205), ('akansal1(user)', 0.0410958904109589), ('esafak(user)', 0.0410958904109589)] \n",
      "\n",
      "Betweenness Centrality\n",
      "[('angusshire(user)', 0.005762871988663204), ('svenkreiss(user)', 0.0029837820815619585), ('ajschumacher(user)', 0.0006849315068493151), ('esafak(user)', 0.000543221539914974), ('cranmer(user)', 0.0004723665564478035)] \n",
      "\n",
      "Closeness Centrality\n",
      "[('svenkreiss(user)', 0.08606313281715305), ('mjhea0(user)', 0.0684931506849315), ('ajschumacher(user)', 0.05655577299412916), ('cranmer(user)', 0.05655577299412916), ('castanan(user)', 0.05349870418363569)]\n"
     ]
    }
   ],
   "source": [
    "def formatResult(graph):\n",
    "    graph_copy = graph.copy()\n",
    "    # Remove center node\n",
    "    graph_copy.remove_node('pysparkling(repo)')\n",
    "\n",
    "    dc = sorted(nx.degree_centrality(graph_copy).items(), \n",
    "                key=itemgetter(1), reverse=True)\n",
    "\n",
    "    bc = sorted(nx.betweenness_centrality(graph_copy).items(), \n",
    "                key=itemgetter(1), reverse=True)\n",
    "    cc = sorted(nx.closeness_centrality(graph_copy).items(), \n",
    "                key=itemgetter(1), reverse=True)\n",
    "    return (dc, bc, cc)\n",
    "\n",
    "dc, bc, cc = formatResult(graph)\n",
    "\n",
    "print (\"Degree Centrality\")\n",
    "print (dc[:5],'\\n')\n",
    "\n",
    "print (\"Betweenness Centrality\")\n",
    "print (bc[:5],'\\n')\n",
    "\n",
    "print (\"Closeness Centrality\")\n",
    "print (cc[:5])"
   ]
  },
  {
   "cell_type": "markdown",
   "metadata": {},
   "source": [
    "### Find Hottest Repository "
   ]
  },
  {
   "cell_type": "markdown",
   "metadata": {},
   "source": [
    "For the network we have currently, there is only one repo. To find the hottest repository, we need to go through each user in the network and then add their starred repos into the network. After that, it is easy for us to get the popular repositories. Moreover, we can also get to know the language preference of one certain user."
   ]
  },
  {
   "cell_type": "markdown",
   "metadata": {},
   "source": [
    "There are two input parameters of function buildRepoNet. The stargazers is the output of function buildRepoRelations which is a list of users who starred this original repo. Sometimes a user marks too many repos and it takes a lot of time to build the net. So here the limit_repo parameter could define the maximum of the repos of one user we need to add into the net. "
   ]
  },
  {
   "cell_type": "code",
   "execution_count": 13,
   "metadata": {},
   "outputs": [],
   "source": [
    "def buildRepoNet(stargazers, limit_repo):\n",
    "    for i, v in enumerate(stargazers):\n",
    "        print(v.login)\n",
    "        try:\n",
    "            for starred in v.get_starred()[:limit_repo]:  # Slice to avoid supernodes\n",
    "                graph.add_node(starred.name + '(repo)', type='repo', lang=starred.language, \\\n",
    "                           owner=starred.owner.login)\n",
    "                graph.add_edge(v.login + '(user)', starred.name + '(repo)', type='gazes')\n",
    "        except Exception:  # ssl.SSLError:\n",
    "            print(\"Encountered an error fetching starred repos for\", v.login, \"Skipping.\")\n",
    "\n",
    "        print(\"Num nodes/edges in graph\", graph.number_of_nodes(), \"/\", graph.number_of_edges())\n",
    "    print(nx.info(graph), '\\n')\n"
   ]
  },
  {
   "cell_type": "markdown",
   "metadata": {},
   "source": [
    "Here we define the number of limit_repo as 200. It takes about 10 minutes to generate the repo net. The total number of nodes is 15696 and the total number of edges is 22100."
   ]
  },
  {
   "cell_type": "code",
   "execution_count": 14,
   "metadata": {
    "scrolled": true
   },
   "outputs": [
    {
     "name": "stdout",
     "output_type": "stream",
     "text": [
      "he0x\n",
      "Num nodes/edges in graph 348 / 458\n",
      "nschlemm\n",
      "Num nodes/edges in graph 548 / 658\n",
      "cheekybastard\n",
      "Encountered an error fetching starred repos for cheekybastard Skipping.\n",
      "Num nodes/edges in graph 637 / 748\n",
      "ddboline\n",
      "Encountered an error fetching starred repos for ddboline Skipping.\n",
      "Num nodes/edges in graph 637 / 748\n",
      "dclambert\n",
      "Num nodes/edges in graph 834 / 948\n",
      "emlazzarin\n",
      "Num nodes/edges in graph 1023 / 1143\n",
      "mvaz\n",
      "Num nodes/edges in graph 1213 / 1341\n",
      "Veallym0n\n",
      "Num nodes/edges in graph 1261 / 1391\n",
      "svenkreiss\n",
      "Num nodes/edges in graph 1409 / 1559\n",
      "ajschumacher\n",
      "Num nodes/edges in graph 1593 / 1758\n",
      "akansal1\n",
      "Num nodes/edges in graph 1768 / 1958\n",
      "fonnesbeck\n",
      "Num nodes/edges in graph 1932 / 2157\n",
      "vasudevram\n",
      "Num nodes/edges in graph 2112 / 2353\n",
      "freeman-lab\n",
      "Num nodes/edges in graph 2298 / 2553\n",
      "StephanErb\n",
      "Num nodes/edges in graph 2482 / 2752\n",
      "juanshishido\n",
      "Num nodes/edges in graph 2641 / 2951\n",
      "dylanroy\n",
      "Num nodes/edges in graph 2822 / 3150\n",
      "gawry\n",
      "Num nodes/edges in graph 2998 / 3350\n",
      "denisfitz57\n",
      "Num nodes/edges in graph 3182 / 3549\n",
      "mjhea0\n",
      "Encountered an error fetching starred repos for mjhea0 Skipping.\n",
      "Num nodes/edges in graph 3237 / 3609\n",
      "ronert\n",
      "Num nodes/edges in graph 3384 / 3807\n",
      "jchaat\n",
      "Num nodes/edges in graph 3552 / 4006\n",
      "matagus\n",
      "Num nodes/edges in graph 3735 / 4205\n",
      "wuxianliang\n",
      "Num nodes/edges in graph 3911 / 4405\n",
      "chaoyue729\n",
      "Num nodes/edges in graph 4059 / 4599\n",
      "sourcepirate\n",
      "Num nodes/edges in graph 4236 / 4798\n",
      "petro-rudenko\n",
      "Num nodes/edges in graph 4418 / 4997\n",
      "Smerity\n",
      "Num nodes/edges in graph 4579 / 5194\n",
      "esafak\n",
      "Num nodes/edges in graph 4711 / 5394\n",
      "greyhill\n",
      "Num nodes/edges in graph 4758 / 5453\n",
      "petrushy\n",
      "Num nodes/edges in graph 4918 / 5649\n",
      "amelio-vazquez-reina\n",
      "Num nodes/edges in graph 5059 / 5835\n",
      "rushter\n",
      "Num nodes/edges in graph 5196 / 6035\n",
      "rdhyee\n",
      "Num nodes/edges in graph 5371 / 6235\n",
      "dkanoafry\n",
      "Num nodes/edges in graph 5436 / 6325\n",
      "ziedzic\n",
      "Num nodes/edges in graph 5579 / 6524\n",
      "yv\n",
      "Num nodes/edges in graph 5747 / 6724\n",
      "peristeri\n",
      "Num nodes/edges in graph 5873 / 6923\n",
      "castanan\n",
      "Num nodes/edges in graph 5886 / 6946\n",
      "hezila\n",
      "Num nodes/edges in graph 6060 / 7144\n",
      "xunyou\n",
      "Num nodes/edges in graph 6214 / 7344\n",
      "dhanainme\n",
      "Num nodes/edges in graph 6293 / 7449\n",
      "pganssle\n",
      "Num nodes/edges in graph 6336 / 7504\n",
      "dan-blanchard\n",
      "Num nodes/edges in graph 6466 / 7703\n",
      "angusshire\n",
      "Num nodes/edges in graph 6657 / 7899\n",
      "binh-vu\n",
      "Num nodes/edges in graph 6685 / 7934\n",
      "ilgarm\n",
      "Num nodes/edges in graph 6852 / 8132\n",
      "xinyu-usf\n",
      "Num nodes/edges in graph 6898 / 8185\n",
      "sevenguin\n",
      "Num nodes/edges in graph 6986 / 8326\n",
      "Bennyelg\n",
      "Num nodes/edges in graph 7047 / 8419\n",
      "cranmer\n",
      "Num nodes/edges in graph 7143 / 8540\n",
      "farquasar1\n",
      "Num nodes/edges in graph 7268 / 8734\n",
      "jgmize\n",
      "Num nodes/edges in graph 7423 / 8934\n",
      "ainkov\n",
      "Num nodes/edges in graph 7432 / 8943\n",
      "qwert666\n",
      "Num nodes/edges in graph 7533 / 9081\n",
      "alexprengere\n",
      "Num nodes/edges in graph 7626 / 9225\n",
      "ptrf\n",
      "Num nodes/edges in graph 7780 / 9419\n",
      "Greenall\n",
      "Num nodes/edges in graph 7786 / 9431\n",
      "d2207197\n",
      "Num nodes/edges in graph 7859 / 9554\n",
      "eien\n",
      "Num nodes/edges in graph 8017 / 9751\n",
      "lingyong\n",
      "Num nodes/edges in graph 8179 / 9949\n",
      "gerbaudo\n",
      "Num nodes/edges in graph 8310 / 10140\n",
      "jessem\n",
      "Num nodes/edges in graph 8420 / 10280\n",
      "ZhukovAlexander\n",
      "Num nodes/edges in graph 8559 / 10480\n",
      "robinsingh1\n",
      "Num nodes/edges in graph 8712 / 10680\n",
      "smrjan\n",
      "Num nodes/edges in graph 8856 / 10877\n",
      "aalhour\n",
      "Num nodes/edges in graph 8971 / 11077\n",
      "nabilm\n",
      "Num nodes/edges in graph 8976 / 11083\n",
      "luiscape\n",
      "Num nodes/edges in graph 9088 / 11281\n",
      "ycliuhw\n",
      "Num nodes/edges in graph 9227 / 11479\n",
      "ekampf\n",
      "Num nodes/edges in graph 9333 / 11627\n",
      "pd-spark\n",
      "Num nodes/edges in graph 9366 / 11716\n",
      "telamonian\n",
      "Num nodes/edges in graph 9396 / 11754\n",
      "rgabo\n",
      "Num nodes/edges in graph 9501 / 11952\n",
      "aleury\n",
      "Num nodes/edges in graph 9639 / 12150\n",
      "waxz\n",
      "Num nodes/edges in graph 9800 / 12347\n",
      "onesuper\n",
      "Num nodes/edges in graph 9948 / 12546\n",
      "Lguyogiro\n",
      "Num nodes/edges in graph 10012 / 12659\n",
      "felipecruz\n",
      "Num nodes/edges in graph 10128 / 12858\n",
      "pauldevos\n",
      "Num nodes/edges in graph 10234 / 13054\n",
      "ahmedezzeldin93\n",
      "Num nodes/edges in graph 10279 / 13157\n",
      "mtpatter\n",
      "Num nodes/edges in graph 10427 / 13353\n",
      "brianv0\n",
      "Num nodes/edges in graph 10485 / 13432\n",
      "thulio\n",
      "Num nodes/edges in graph 10628 / 13631\n",
      "kmatt\n",
      "Num nodes/edges in graph 10757 / 13829\n",
      "leetreveil\n",
      "Num nodes/edges in graph 10855 / 13952\n",
      "cupen\n",
      "Num nodes/edges in graph 10978 / 14150\n",
      "RishiSankineni\n",
      "Num nodes/edges in graph 11056 / 14349\n",
      "XIEQ\n",
      "Num nodes/edges in graph 11155 / 14546\n",
      "codinguncut\n",
      "Num nodes/edges in graph 11294 / 14746\n",
      "ansrivas\n",
      "Num nodes/edges in graph 11408 / 14944\n",
      "Stardust1002\n",
      "Num nodes/edges in graph 11448 / 15085\n",
      "walkersuen\n",
      "Num nodes/edges in graph 11455 / 15092\n",
      "Pushkr\n",
      "Num nodes/edges in graph 11483 / 15145\n",
      "skribled\n",
      "Num nodes/edges in graph 11653 / 15341\n",
      "silverstone1903\n",
      "Num nodes/edges in graph 11788 / 15541\n",
      "flysky1991\n",
      "Encountered an error fetching starred repos for flysky1991 Skipping.\n",
      "Num nodes/edges in graph 11804 / 15570\n",
      "lomereiter\n",
      "Encountered an error fetching starred repos for lomereiter Skipping.\n",
      "Num nodes/edges in graph 11842 / 15629\n",
      "tcoyze\n",
      "Num nodes/edges in graph 11880 / 15714\n",
      "ysku\n",
      "Num nodes/edges in graph 11999 / 15913\n",
      "wearpants\n",
      "Num nodes/edges in graph 12110 / 16112\n",
      "ajlmsbux\n",
      "Num nodes/edges in graph 12158 / 16191\n",
      "drauschenbach\n",
      "Num nodes/edges in graph 12176 / 16218\n",
      "JonasAmrich\n",
      "Num nodes/edges in graph 12208 / 16284\n",
      "basilhe\n",
      "Num nodes/edges in graph 12330 / 16483\n",
      "danilomo\n",
      "Num nodes/edges in graph 12354 / 16512\n",
      "tedmiston\n",
      "Num nodes/edges in graph 12480 / 16709\n",
      "ylogx\n",
      "Num nodes/edges in graph 12586 / 16907\n",
      "hhstore\n",
      "Num nodes/edges in graph 12722 / 17105\n",
      "t0n1c\n",
      "Num nodes/edges in graph 12733 / 17127\n",
      "pbamotra\n",
      "Num nodes/edges in graph 12847 / 17327\n",
      "rsmith54\n",
      "Num nodes/edges in graph 12878 / 17374\n",
      "samuel-kerrien\n",
      "Num nodes/edges in graph 12947 / 17465\n",
      "7125messi\n",
      "Num nodes/edges in graph 13045 / 17655\n",
      "Syrus\n",
      "Num nodes/edges in graph 13045 / 17657\n",
      "dchudz\n",
      "Num nodes/edges in graph 13071 / 17695\n",
      "miniaturelle\n",
      "Num nodes/edges in graph 13080 / 17738\n",
      "ikatanic\n",
      "Num nodes/edges in graph 13093 / 17775\n",
      "bossjones\n",
      "Num nodes/edges in graph 13245 / 17963\n",
      "kennethlimjf\n",
      "Num nodes/edges in graph 13273 / 18018\n",
      "xyzdream\n",
      "Num nodes/edges in graph 13274 / 18021\n",
      "xq2005\n",
      "Num nodes/edges in graph 13280 / 18034\n",
      "SummerTea\n",
      "Num nodes/edges in graph 13365 / 18226\n",
      "wangdi244\n",
      "Num nodes/edges in graph 13449 / 18344\n",
      "vnnw\n",
      "Num nodes/edges in graph 13554 / 18541\n",
      "imrv13\n",
      "Num nodes/edges in graph 13581 / 18598\n",
      "pradeepmathesh\n",
      "Num nodes/edges in graph 13745 / 18797\n",
      "alcidesmorales\n",
      "Num nodes/edges in graph 13882 / 18994\n",
      "blahblueray\n",
      "Num nodes/edges in graph 13889 / 19003\n",
      "qiulin\n",
      "Encountered an error fetching starred repos for qiulin Skipping.\n",
      "Num nodes/edges in graph 13889 / 19003\n",
      "ct-clmsn\n",
      "Encountered an error fetching starred repos for ct-clmsn Skipping.\n",
      "Num nodes/edges in graph 13930 / 19059\n",
      "spillai\n",
      "Num nodes/edges in graph 14049 / 19257\n",
      "johanfforsberg\n",
      "Num nodes/edges in graph 14143 / 19446\n",
      "dogrdon\n",
      "Num nodes/edges in graph 14277 / 19644\n",
      "younescha\n",
      "Num nodes/edges in graph 14277 / 19646\n",
      "ChristianSch\n",
      "Num nodes/edges in graph 14404 / 19845\n",
      "dvatterott\n",
      "Num nodes/edges in graph 14429 / 19882\n",
      "zuoxiaolei\n",
      "Num nodes/edges in graph 14434 / 19891\n",
      "qiwihui\n",
      "Num nodes/edges in graph 14570 / 20085\n",
      "mvherweg\n",
      "Num nodes/edges in graph 14601 / 20153\n",
      "Horace89\n",
      "Num nodes/edges in graph 14693 / 20350\n",
      "xrbu\n",
      "Num nodes/edges in graph 14753 / 20549\n",
      "freegnu\n",
      "Num nodes/edges in graph 14880 / 20747\n",
      "rk4n\n",
      "Num nodes/edges in graph 15004 / 20936\n",
      "thalesmello\n",
      "Num nodes/edges in graph 15088 / 21135\n",
      "craigwilkins\n",
      "Num nodes/edges in graph 15097 / 21150\n",
      "zafercavdar\n",
      "Num nodes/edges in graph 15115 / 21178\n",
      "Name: \n",
      "Type: DiGraph\n",
      "Number of nodes: 15115\n",
      "Number of edges: 21178\n",
      "Average in degree:   1.4011\n",
      "Average out degree:   1.4011 \n",
      "\n"
     ]
    }
   ],
   "source": [
    "buildRepoNet(stargazers,200)"
   ]
  },
  {
   "cell_type": "markdown",
   "metadata": {},
   "source": [
    "Next, we can use the builded net to get the popular repos. The more users star the repo, the more popular it is. So here we iterate each repo node in the graph and record the number of hit times."
   ]
  },
  {
   "cell_type": "code",
   "execution_count": 15,
   "metadata": {},
   "outputs": [],
   "source": [
    "def getTopNRepos(n):\n",
    "    print(\"Top \"+ str(n) + \" Popular repositories:\")\n",
    "    \n",
    "    repos = []\n",
    "    for (v, i) in graph.in_degree():\n",
    "        if graph.node[v]['type'] == 'repo':\n",
    "            repos.append((v,i))\n",
    "    repos = sorted(repos, key = lambda x:x[1], reverse=True)\n",
    "    return repos[:n]"
   ]
  },
  {
   "cell_type": "markdown",
   "metadata": {},
   "source": [
    "Let's try to get the top 10 popular repositories."
   ]
  },
  {
   "cell_type": "code",
   "execution_count": 16,
   "metadata": {},
   "outputs": [
    {
     "name": "stdout",
     "output_type": "stream",
     "text": [
      "Top 10 Popular repositories:\n",
      "[('pysparkling(repo)', 147), ('spark(repo)', 27), ('tensorflow(repo)', 21), ('jupyterlab(repo)', 18), ('dask(repo)', 18), ('incubator-superset(repo)', 17), ('awesome-machine-learning(repo)', 16), ('data-science-ipython-notebooks(repo)', 16), ('luigi(repo)', 16), ('Detectron(repo)', 15)]\n"
     ]
    }
   ],
   "source": [
    "hottestRepos = getTopNRepos(10)\n",
    "print(hottestRepos)"
   ]
  },
  {
   "cell_type": "markdown",
   "metadata": {},
   "source": [
    "With this network graph, we can also get the one certain user's preference such as the repositories he followed and the programming languages."
   ]
  },
  {
   "cell_type": "code",
   "execution_count": 17,
   "metadata": {},
   "outputs": [],
   "source": [
    "def getPreferRepos(username):\n",
    "    \n",
    "    repos = []\n",
    "    for v in graph[username+\"(user)\"]:\n",
    "        if graph[username+\"(user)\"][v]['type'] == 'gazes':\n",
    "            repos.append(v)\n",
    "    return repos"
   ]
  },
  {
   "cell_type": "code",
   "execution_count": 18,
   "metadata": {},
   "outputs": [],
   "source": [
    "def getPreferLanguages(username):\n",
    "      \n",
    "    langs = set()\n",
    "    for v in graph[username+\"(user)\"]:\n",
    "        if graph[username+\"(user)\"][v]['type'] == 'gazes':\n",
    "            langs.add(graph.node[v]['lang'])\n",
    "    return langs"
   ]
  },
  {
   "cell_type": "markdown",
   "metadata": {},
   "source": [
    "We can then check the preference of the hottest user we find above."
   ]
  },
  {
   "cell_type": "code",
   "execution_count": 19,
   "metadata": {},
   "outputs": [
    {
     "name": "stdout",
     "output_type": "stream",
     "text": [
      "svenkreiss(user)\n",
      "Respositories that svenkreiss has starred\n",
      "['pysparkling(repo)', 'deep-neuroevolution(repo)', 'tfjs(repo)', 'models(repo)', 'sumo-web3d(repo)', 'jupyterlab(repo)', 'meeting-room-tablet(repo)', 'cpython(repo)', 'pelican_dynamic(repo)', 'pelican_plugin-render_math(repo)', 'pelican-jsmath(repo)', 'jedi(repo)', 'R-FCN(repo)', 'convnet-benchmarks(repo)', 'ssd.pytorch(repo)', 'keras-js(repo)', 'gradient-checkpointing(repo)', 'oh-my-zsh(repo)', 'h3(repo)', 'itermplot(repo)', 's2geometry(repo)', 'networkx(repo)', 'marp(repo)', 'tinydb(repo)', 'crouton(repo)', 'SelfNormalizingNetworks(repo)', 'doppelganger(repo)', 'ttk(repo)', 'caffe2(repo)', 'CycleGAN(repo)', 'js-libp2p-kad-dht(repo)', 'ipfs(repo)', 'rethinkdb(repo)', 'read-this-first(repo)', 'dlib(repo)', 'pytorch(repo)', 'TypeScript(repo)', 'micropython(repo)', 'attrs(repo)', 'grumpy(repo)', 'Self-Driving-Car(repo)', 'opencv(repo)', 'dataset(repo)', 'FacialExpression(repo)', 'Android-Object-Detection(repo)', 'videogan(repo)', 'Adversarial_Video_Generation(repo)', 'localcrawl(repo)', 'deepmask(repo)', 'multipathnet(repo)', 's2sphere(repo)', 'nmslib(repo)', 'playground(repo)', 'Shapely(repo)', 'benchmark(repo)', 'feather(repo)', 'consul(repo)', 'parquet-cpp(repo)', 'thefuck(repo)', 'sense2vec(repo)', 'es6-cheatsheet(repo)', 'validator(repo)', 'FormalSystems(repo)', 'keras-GAN(repo)', 'bazel(repo)', 'tensorflow(repo)', 'fcl(repo)', 'annoy(repo)', 'distributed(repo)', 'skflow(repo)', 'skip-thoughts(repo)', 'gensim(repo)', 'torch-ddcnn(repo)', 'tornado(repo)', 'metabase(repo)', 'alluxio(repo)', 'openface(repo)', 'char-rnn(repo)', 'rc-data(repo)', 'context2vec(repo)', 'Document2Vec(repo)', 'MemNN(repo)', 'DeepMind-Atari-Deep-Q-Learner(repo)', 'keras(repo)', 'cgt(repo)', 'ztorch(repo)', 'demos(repo)', 'snappy(repo)', 'optim(repo)', 'rnn(repo)', '500lines(repo)', 'quine.zip(repo)', 'dc.js(repo)', 'deepdive(repo)', 'trot(repo)', 'ntm(repo)', 'pykka(repo)', 'mr4c(repo)', 'express-handlebars(repo)', 'neuraltalk(repo)', 'bootstrap-material-design(repo)', 'GhostText(repo)', 'scikit-learn(repo)', 'Thunder(repo)', 'd3(repo)', 'statsd(repo)', 'grafana(repo)', 'juliusjs(repo)', 'redis-commander(repo)', 't-digest(repo)', 'caffe(repo)', 'KaTeX(repo)', 'ngraph(repo)', 'python-zipstream(repo)', 'pelican-theme-validator(repo)', 'kaggle-galaxies(repo)', 'awesome-machine-learning(repo)', 'validator.github.io(repo)', 'kubernetes(repo)', 'html5validator(repo)', 'databench_go(repo)', 'DeepLearningTutorials(repo)', 'flask-sockets(repo)', 'parquet-format(repo)', 'dockbroker(repo)', 'bootcards(repo)', 'backbone-and-d3(repo)', 'golearn(repo)', 'moby(repo)', 'databench_spark_test(repo)', 'hue(repo)', 'docker-flask-gevent(repo)', 'montecarlorisk(repo)', 'vagrant(repo)', 'cayley(repo)', 'Chart.js(repo)', 'flann(repo)', 'nvd3(repo)', 'databench_examples(repo)', 'databench(repo)', 'spark(repo)', 'cytoscape.js(repo)', 'dvds-js(repo)', 'hydra(repo)', 'Theano(repo)', 'pylearn2(repo)', 'pelican(repo)', 'rootpy(repo)', 'ShareJS(repo)', 'js-git(repo)', 'karma(repo)', 'protractor(repo)', 'fast-bind(repo)', 'pyboard(repo)', 'LHCHiggsCouplings(repo)', 'BatchLikelihoodScan(repo)', 'decouple(repo)', 'decoupledDemo(repo)', 'PyROOTUtils(repo)', 'unicodeit(repo)', 'Pikaday(repo)', 'jeu-de-taquin(repo)', 'GooFit(repo)', 'nprogress(repo)', 'sass(repo)', 'apidocs(repo)', 'zipline(repo)', 'vowpal_wabbit(repo)', 'textwrangler-bbedit-solarized(repo)']\n",
      "Programming languages svenkreiss is interested in\n",
      "{'Scala', 'Lua', 'JavaScript', 'Shell', 'Ruby', 'CoffeeScript', 'Java', 'Elixir', 'Jupyter Notebook', 'TypeScript', 'Matlab', 'Python', 'C', None, 'C++', 'CSS', 'Eagle', 'Perl', 'Go', 'HTML'}\n"
     ]
    }
   ],
   "source": [
    "print(hottestUsers[0][0])\n",
    "user = hottestUsers[0][0].split('(')[0]\n",
    "print(\"Respositories that \"+user+ \" has starred\")\n",
    "repos = getPreferRepos(user)\n",
    "print(repos)\n",
    "print(\"Programming languages \"+user+ \" is interested in\")  \n",
    "langs = getPreferLanguages(user)\n",
    "print(langs)"
   ]
  },
  {
   "cell_type": "markdown",
   "metadata": {},
   "source": [
    "Correspondingly, we can also get the list of users who star one certain repo."
   ]
  },
  {
   "cell_type": "code",
   "execution_count": 20,
   "metadata": {},
   "outputs": [],
   "source": [
    "def getStarredUser(repoName):\n",
    "    users = []\n",
    "    for (v, i) in graph.in_degree():\n",
    "        if graph.node[v]['type'] == 'user':\n",
    "            if repoName+\"(repo)\" in getPreferRepos(v.split('(')[0]):\n",
    "                users.append(v)\n",
    "    return users"
   ]
  },
  {
   "cell_type": "markdown",
   "metadata": {},
   "source": [
    "For the hottest repo, we can also get the list of user who have starred the repo."
   ]
  },
  {
   "cell_type": "code",
   "execution_count": 21,
   "metadata": {},
   "outputs": [
    {
     "name": "stdout",
     "output_type": "stream",
     "text": [
      "['he0x(user)', 'nschlemm(user)', 'cheekybastard(user)', 'ddboline(user)', 'dclambert(user)', 'emlazzarin(user)', 'mvaz(user)', 'Veallym0n(user)', 'svenkreiss(user)', 'ajschumacher(user)', 'akansal1(user)', 'fonnesbeck(user)', 'vasudevram(user)', 'freeman-lab(user)', 'StephanErb(user)', 'juanshishido(user)', 'dylanroy(user)', 'gawry(user)', 'denisfitz57(user)', 'mjhea0(user)', 'ronert(user)', 'jchaat(user)', 'matagus(user)', 'wuxianliang(user)', 'chaoyue729(user)', 'sourcepirate(user)', 'petro-rudenko(user)', 'Smerity(user)', 'esafak(user)', 'greyhill(user)', 'petrushy(user)', 'amelio-vazquez-reina(user)', 'rushter(user)', 'rdhyee(user)', 'dkanoafry(user)', 'ziedzic(user)', 'yv(user)', 'peristeri(user)', 'castanan(user)', 'hezila(user)', 'xunyou(user)', 'dhanainme(user)', 'pganssle(user)', 'dan-blanchard(user)', 'angusshire(user)', 'binh-vu(user)', 'ilgarm(user)', 'xinyu-usf(user)', 'sevenguin(user)', 'Bennyelg(user)', 'cranmer(user)', 'farquasar1(user)', 'jgmize(user)', 'ainkov(user)', 'qwert666(user)', 'alexprengere(user)', 'ptrf(user)', 'Greenall(user)', 'd2207197(user)', 'eien(user)', 'lingyong(user)', 'gerbaudo(user)', 'jessem(user)', 'ZhukovAlexander(user)', 'robinsingh1(user)', 'smrjan(user)', 'aalhour(user)', 'nabilm(user)', 'luiscape(user)', 'ycliuhw(user)', 'ekampf(user)', 'pd-spark(user)', 'telamonian(user)', 'rgabo(user)', 'aleury(user)', 'waxz(user)', 'onesuper(user)', 'Lguyogiro(user)', 'felipecruz(user)', 'pauldevos(user)', 'ahmedezzeldin93(user)', 'mtpatter(user)', 'brianv0(user)', 'thulio(user)', 'kmatt(user)', 'leetreveil(user)', 'cupen(user)', 'RishiSankineni(user)', 'XIEQ(user)', 'codinguncut(user)', 'ansrivas(user)', 'Stardust1002(user)', 'walkersuen(user)', 'Pushkr(user)', 'skribled(user)', 'silverstone1903(user)', 'flysky1991(user)', 'lomereiter(user)', 'tcoyze(user)', 'ysku(user)', 'wearpants(user)', 'ajlmsbux(user)', 'drauschenbach(user)', 'JonasAmrich(user)', 'basilhe(user)', 'danilomo(user)', 'tedmiston(user)', 'ylogx(user)', 'hhstore(user)', 't0n1c(user)', 'pbamotra(user)', 'rsmith54(user)', 'samuel-kerrien(user)', '7125messi(user)', 'Syrus(user)', 'dchudz(user)', 'miniaturelle(user)', 'ikatanic(user)', 'bossjones(user)', 'kennethlimjf(user)', 'xyzdream(user)', 'xq2005(user)', 'SummerTea(user)', 'wangdi244(user)', 'vnnw(user)', 'imrv13(user)', 'pradeepmathesh(user)', 'alcidesmorales(user)', 'blahblueray(user)', 'qiulin(user)', 'ct-clmsn(user)', 'spillai(user)', 'johanfforsberg(user)', 'dogrdon(user)', 'younescha(user)', 'ChristianSch(user)', 'dvatterott(user)', 'zuoxiaolei(user)', 'qiwihui(user)', 'mvherweg(user)', 'Horace89(user)', 'xrbu(user)', 'freegnu(user)', 'rk4n(user)', 'thalesmello(user)', 'craigwilkins(user)', 'zafercavdar(user)']\n",
      "147\n"
     ]
    }
   ],
   "source": [
    "repo = hottestRepos[0][0].split('(')[0]\n",
    "users = getStarredUser(repo)\n",
    "print(users)\n",
    "print(len(users))"
   ]
  },
  {
   "cell_type": "markdown",
   "metadata": {
    "collapsed": true
   },
   "source": [
    "Using the two functions above, we can do some further analysis about the relationship between some hot topics. For each pair of repos, we can count how many people star both two repos? "
   ]
  },
  {
   "cell_type": "code",
   "execution_count": 22,
   "metadata": {},
   "outputs": [],
   "source": [
    "def repoRelationship(repo1, repo2):\n",
    "    user1 = getStarredUser(repo1)\n",
    "    user2 = getStarredUser(repo2)\n",
    "    commonUser = set(user1)&set(user2)\n",
    "    p1 = len(commonUser)/len(user1)\n",
    "    p2 = len(commonUser)/len(user2)\n",
    "    return (p1,p2)"
   ]
  },
  {
   "cell_type": "markdown",
   "metadata": {},
   "source": [
    "To get the visible result, we use library Seaborn to create a heatmap."
   ]
  },
  {
   "cell_type": "code",
   "execution_count": 23,
   "metadata": {},
   "outputs": [],
   "source": [
    "import seaborn as sns # for Interactive plots\n",
    "import matplotlib.pyplot as plt # for plots\n",
    "% matplotlib inline\n",
    "import pandas as pd\n",
    "import numpy as np\n",
    "\n",
    "def repoHeatMap(repos):\n",
    "    length = len(repos)\n",
    "    x = np.zeros((length,length))\n",
    "    columns = list(map(lambda x:x[0].split('(')[0],repos))\n",
    "    print(columns)\n",
    "    for i,v in enumerate(columns):\n",
    "        for j in range(i,length):\n",
    "            p1,p2 = repoRelationship(v,columns[j])\n",
    "            x[i][j] = p1\n",
    "            x[j][i] = p2\n",
    "    df = pd.DataFrame(x,columns = columns)\n",
    "    sns.heatmap(df,annot=True)\n",
    "#     plt.figure(figsize=(12,10))\n",
    "    plt.xticks(rotation=75)\n",
    "    plt.show()"
   ]
  },
  {
   "cell_type": "markdown",
   "metadata": {},
   "source": [
    "We use the top ten hottest repos to create the heatmap."
   ]
  },
  {
   "cell_type": "code",
   "execution_count": 24,
   "metadata": {},
   "outputs": [
    {
     "name": "stdout",
     "output_type": "stream",
     "text": [
      "['pysparkling', 'spark', 'tensorflow', 'jupyterlab', 'dask', 'incubator-superset', 'awesome-machine-learning', 'data-science-ipython-notebooks', 'luigi', 'Detectron']\n"
     ]
    },
    {
     "data": {
      "image/png": "[encoded data removed]",
      "text/plain": [
       "<matplotlib.figure.Figure at 0x1519222f28>"
      ]
     },
     "metadata": {},
     "output_type": "display_data"
    }
   ],
   "source": [
    "repoHeatMap(hottestRepos)"
   ]
  },
  {
   "cell_type": "markdown",
   "metadata": {
    "collapsed": true
   },
   "source": [
    "### Find Hot Programming Language\n",
    "\n",
    "What if we want to know which is the most popular language for all projects in the current map we generated? We can go through the projects and then extract the language part and put it into the counter to count, this seems easy to do, but what if we want to query how many users are programming in a particular kind of language? This requires scanning the in-degree users of each project, and finally summing up the count results. This idea requires large time complexity. A good idea at this time is to expand the map and use the language as a single node. The logic diagram of the final map is as follows:"
   ]
  },
  {
   "cell_type": "markdown",
   "metadata": {
    "collapsed": true
   },
   "source": [
    "[<img src=\"https://raw.githubusercontent.com/hanna1994/han1994/master/191525762986_.pic_hd.jpg\",width=400, height=400>](https://raw.githubusercontent.com/hanna1994/han1994/master/191525762986_.pic_hd.jpg)"
   ]
  },
  {
   "cell_type": "code",
   "execution_count": 25,
   "metadata": {},
   "outputs": [],
   "source": [
    "def createlanguagemap():\n",
    "    repos = []\n",
    "  \n",
    "    for n in graph.nodes():\n",
    "        if graph.node[n]['type'] == 'repo':\n",
    "            repos.append(n)\n",
    "\n",
    "    for repo in repos:\n",
    "        # some empty projects may have none of the language part\n",
    "        if graph.node[repo]['lang']:\n",
    "            lang = (graph.node[repo]['lang']) + \"(lang)\"\n",
    "        else:\n",
    "            lang = (\"\") + \"(lang)\"\n",
    "            \n",
    "        # users who gazed repo\n",
    "        stargazers = []\n",
    "\n",
    "        for (user, repo, data) in graph.in_edges(repo, data=True):\n",
    "            if data['type'] == 'gazes':\n",
    "                stargazers.append(user)\n",
    "\n",
    "        for stargazer in stargazers:\n",
    "            graph.add_edge(stargazer, lang, type='programs')\n",
    "            graph.add_node(lang, type='lang')\n",
    "            graph.add_edge(lang, repo, type='implements')  "
   ]
  },
  {
   "cell_type": "markdown",
   "metadata": {},
   "source": [
    "Then, let's see the count results of the languages. First we should see what languages are there in the map:"
   ]
  },
  {
   "cell_type": "code",
   "execution_count": null,
   "metadata": {},
   "outputs": [],
   "source": [
    "createlanguagemap()\n",
    "# let us see what languages are in the map\n",
    "ral = []\n",
    "for n in graph.nodes():\n",
    "    if graph.node[n]['type'] == 'lang':\n",
    "        ral.append(n)\n",
    "print(ral)   "
   ]
  },
  {
   "cell_type": "markdown",
   "metadata": {},
   "source": [
    "Now we can see the top 10 hottest languages users are using:"
   ]
  },
  {
   "cell_type": "code",
   "execution_count": null,
   "metadata": {},
   "outputs": [],
   "source": [
    "# find hottest 10 languages\n",
    "def tenanguages():\n",
    "    print (\"Most popular languages\")\n",
    "    print (sorted([(n, graph.in_degree(n))\n",
    "     for n in graph.nodes() \n",
    "         if graph.node[n]['type'] == 'lang'], key=itemgetter(1), reverse=True)[:10])"
   ]
  },
  {
   "cell_type": "code",
   "execution_count": null,
   "metadata": {},
   "outputs": [],
   "source": [
    "tenanguages()"
   ]
  },
  {
   "cell_type": "markdown",
   "metadata": {},
   "source": [
    "And let us see some common languages usage:"
   ]
  },
  {
   "cell_type": "code",
   "execution_count": null,
   "metadata": {},
   "outputs": [],
   "source": [
    "# find how many people are using the certain kind of language\n",
    "def languageusage(languageType):\n",
    "    languser = []\n",
    "    for (user, lang) in graph.in_edges(languageType):\n",
    "         if graph.node[user]['type'] == 'user':\n",
    "                languser.append(user)\n",
    "    return languser"
   ]
  },
  {
   "cell_type": "code",
   "execution_count": null,
   "metadata": {},
   "outputs": [],
   "source": [
    "pythonuser = languageusage('Python(lang)')\n",
    "jsuser = languageusage('JavaScript(lang)')\n",
    "ruser = languageusage('R(lang)')\n",
    "cuser = languageusage('C(lang)')\n",
    "cplususer = languageusage('C++(lang)')\n",
    "cssuser = languageusage('CSS(lang)')\n",
    "htmluser = languageusage('HTML(lang)')\n",
    "phpuser = languageusage('PHP(lang)')\n",
    "\n",
    "print (\"Number of Python programmers:\", len(pythonuser))\n",
    "print (\"Number of JavaScript programmers:\", len(jsuser))\n",
    "print (\"Number of R programmers:\", len(ruser))\n",
    "print(\"--------------------------------------------------------\")\n",
    "print (\"Number of C programmers:\", len(cuser))\n",
    "print (\"Number of C++ programmers:\", len(cplususer))\n",
    "print(\"--------------------------------------------------------\")\n",
    "print (\"Number of CSS programmers:\", len(cssuser))\n",
    "print (\"Number of HTML programmers:\", len(htmluser))\n",
    "print (\"Number of PHP programmers:\", len(phpuser))"
   ]
  },
  {
   "cell_type": "markdown",
   "metadata": {},
   "source": [
    "for the most languages people used: pyhton and js, we also analyzed the intersection of these two languages:"
   ]
  },
  {
   "cell_type": "code",
   "execution_count": null,
   "metadata": {},
   "outputs": [],
   "source": [
    "def compareJSwithPy(js,py):\n",
    "    # people who use both languages\n",
    "    print (\"Number of programmers who use js and Py:\")\n",
    "    print (len(set(js).intersection(set(py))))\n",
    "\n",
    "    # people who only use python but not js\n",
    "    print (\"Number of programmers who use Py but not Js:\")\n",
    "    print (len(set(py).difference(set(js))))\n",
    "    \n",
    "    # people who only use js but not py\n",
    "    print (\"Number of programmers who use js but not py:\")\n",
    "    print (len(set(js).difference(set(py))))"
   ]
  },
  {
   "cell_type": "code",
   "execution_count": null,
   "metadata": {},
   "outputs": [],
   "source": [
    "compareJSwithPy(pythonuser,jsuser)"
   ]
  },
  {
   "cell_type": "markdown",
   "metadata": {},
   "source": [
    "Wala! Now we can analyze the results! It can be seen from the results that JS and R, python and other scripting languages in github's preferred language list occupy the mainstream. Although there are only 10,000 items involved in the data we analyzed, it is like the old saying: “github is the world of front end”.\n",
    "\n",
    "What's more, Scala is also very hot from seeing our results, mainly because the \"source of the project\" is findspark.\n",
    "\n",
    "Another interesting phenomenon is that the programmers who use python definetly will use js, and those who use js  will not necessarily use python (80-74=6 individuals who is using js but not using python)."
   ]
  },
  {
   "cell_type": "markdown",
   "metadata": {},
   "source": [
    "### Visialize the relationship between the users and languages"
   ]
  },
  {
   "cell_type": "code",
   "execution_count": 6,
   "metadata": {},
   "outputs": [
    {
     "data": {
      "text/html": [
       "\n",
       "        <iframe\n",
       "            width=\"100%\"\n",
       "            height=\"900px\"\n",
       "            src=\"force.html\"\n",
       "            frameborder=\"0\"\n",
       "            allowfullscreen\n",
       "        ></iframe>\n",
       "        "
      ],
      "text/plain": [
       "<IPython.lib.display.IFrame at 0x15186e2828>"
      ]
     },
     "metadata": {},
     "output_type": "display_data"
    }
   ],
   "source": [
    "import os\n",
    "import json\n",
    "from IPython.display import IFrame\n",
    "from IPython.core.display import display \n",
    "from networkx.readwrite import json_graph\n",
    "\n",
    "\n",
    "# extract users and language info\n",
    "mtsw_users = [n for n in graph if graph.node[n]['type'] == 'user'] +[n for n in graph if graph.node[n]['type'] == 'lang'] \n",
    "h = graph.subgraph(mtsw_users)\n",
    "# export json\n",
    "d = json_graph.node_link_data(h)\n",
    "json.dump(d, open('d3/force.json', 'w'))\n",
    "viz_file = 'force.html'\n",
    "# D3 to visulize it\n",
    "display(IFrame(viz_file, '100%', '900px'))"
   ]
  },
  {
   "cell_type": "markdown",
   "metadata": {
    "collapsed": true
   },
   "source": [
    "### References"
   ]
  },
  {
   "cell_type": "markdown",
   "metadata": {
    "collapsed": true
   },
   "source": [
    "1. [GitHub API](https://networkx.github.io/documentation/stable/)\n",
    "2. [NetworkX Documentation](https://networkx.github.io/documentation/stable/)\n",
    "3. [Seaborn API](https://seaborn.pydata.org/api.html)"
   ]
  }
 ],
 "metadata": {
  "kernelspec": {
   "display_name": "Python 3",
   "language": "python",
   "name": "python3"
  },
  "language_info": {
   "codemirror_mode": {
    "name": "ipython",
    "version": 3
   },
   "file_extension": ".py",
   "mimetype": "text/x-python",
   "name": "python",
   "nbconvert_exporter": "python",
   "pygments_lexer": "ipython3",
   "version": "3.6.4"
  }
 },
 "nbformat": 4,
 "nbformat_minor": 2
}
