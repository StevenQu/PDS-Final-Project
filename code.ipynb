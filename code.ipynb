{
 "cells": [
  {
   "cell_type": "markdown",
   "metadata": {},
   "source": [
    "## GitHub Data Analysis\n"
   ]
  },
  {
   "cell_type": "markdown",
   "metadata": {},
   "source": [
    "## Introduction\n",
    "Every software engineer uses GitHub. Being a open source distributed version control tool, GitHub has thoundsands of new repositorys in every hour. Thus, GitHub could also be used as a huge dynamic data source to analyze technology status quo and trend.\n",
    "\n",
    "In this project, we will be looking into serveral things like who is the most popular person in certain field, what is the current hottest project and how much does different programming languages being used.\n"
   ]
  },
  {
   "cell_type": "markdown",
   "metadata": {},
   "source": [
    "### GitHub API\n",
    "\n",
    "We will use GitHub API from [here](https://developer.github.com/v3/).\n",
    "All the API calls are using HTTPS requests and it will return in JSON format.\n",
    "\n",
    "Steps to use GitHub API:\n",
    "1. Install `pygithub` by \n",
    "`-pip install pygithub`\n",
    "2. Generate a GitHub Personal access token required for `GitHub API`\n",
    "3. Test You API in local terminal using the following command. It is expected to return a list of dictionary contains your account info\n",
    "##### - curl https://api.github.com/user\\?access_token\\={YOUR_TOKEN}\n",
    "\n",
    "\n"
   ]
  },
  {
   "cell_type": "markdown",
   "metadata": {},
   "source": [
    "### NetworkX\n",
    "NetworkX is a Python package for the creation, manipulation, and study of the structure, dynamics, and functions of complex networks. It provides tools to work with large dataset with network strucutres. With NetworkX, we can load and store neyworks in standard data format easily. It can also helps us to generate classic networks, analyze network strucutre, build network models and much more.\n",
    "\n",
    "You can install `NetworkX` by `-pip install networkx`\n"
   ]
  },
  {
   "cell_type": "code",
   "execution_count": 76,
   "metadata": {
    "collapsed": true
   },
   "outputs": [],
   "source": [
    "import sys\n",
    "from github import Github\n",
    "import networkx as nx\n",
    "from operator import itemgetter\n",
    "\n",
    "# Global Variables\n",
    "ACCESS_TOKEN = '05bb4eb867b152be20dd11f4fa292107c839931c'\n",
    "USER = 'svenkreiss'  # Define the GitHub User Name\n",
    "REPO = 'pysparkling'  # Define the Repo name\n",
    "client = Github(ACCESS_TOKEN)\n",
    "graph = nx.DiGraph()"
   ]
  },
  {
   "cell_type": "markdown",
   "metadata": {},
   "source": [
    "### Set Up NetworkX Graph\n",
    "\n",
    "\n",
    "After defined the user and repo name that we are going to explore, we can then set up the NetworkX graph.\n",
    "\n",
    "We will add the repo and each user who starred the repo as nodes, and build edges between them. After this, we also add edges between users and their followers. "
   ]
  },
  {
   "cell_type": "code",
   "execution_count": 77,
   "metadata": {
    "collapsed": true
   },
   "outputs": [],
   "source": [
    "def buildRepoRelations(REPO):\n",
    "    user = client.get_user(USER)\n",
    "    repo = user.get_repo(REPO)  # Get a specific repo\n",
    "    REPOS = user.get_repos()\n",
    "    stargazers = list(repo.get_stargazers())  # The list of users who starred this REPO\n",
    "    graph.add_node(repo.name + '(repo)', type='repo', lang=repo.language, owner=user.login)\n",
    "    for stargazer in stargazers:\n",
    "        graph.add_node(stargazer.login + '(user)', type='user')\n",
    "        graph.add_edge(stargazer.login + '(user)', repo.name + '(repo)', type='gazes')\n",
    "    #\tprint(len(stargazers))#See if it return a correct list\n",
    "    return stargazers\n",
    "\n",
    "\n",
    "def buildUserRelations(stargazers):\n",
    "    for i, stargazer in enumerate(stargazers):\n",
    "        followers = stargazer.get_followers()\n",
    "        try:\n",
    "            for follower in followers:\n",
    "                if follower.login + '(user)' in graph:\n",
    "                    graph.add_edge(follower.login + '(user)', stargazer.login + '(user)', type='follows')\n",
    "        except Exception:  \n",
    "            print(\"Encountered an error when finding follower for user: \", stargazer.login)\n",
    "        #See How many available API calls remaining\n",
    "        print (\"API Calls Remaining\", client.rate_limiting)"
   ]
  },
  {
   "cell_type": "code",
   "execution_count": 78,
   "metadata": {
    "scrolled": true
   },
   "outputs": [
    {
     "name": "stdout",
     "output_type": "stream",
     "text": [
      "API Calls Remaining (3885, 5000)\n",
      "API Calls Remaining (3883, 5000)\n",
      "API Calls Remaining (3882, 5000)\n",
      "API Calls Remaining (3881, 5000)\n",
      "API Calls Remaining (3879, 5000)\n",
      "API Calls Remaining (3878, 5000)\n",
      "API Calls Remaining (3876, 5000)\n",
      "API Calls Remaining (3875, 5000)\n",
      "API Calls Remaining (3872, 5000)\n",
      "API Calls Remaining (3862, 5000)\n",
      "API Calls Remaining (3861, 5000)\n",
      "API Calls Remaining (3832, 5000)\n",
      "API Calls Remaining (3831, 5000)\n",
      "API Calls Remaining (3813, 5000)\n",
      "API Calls Remaining (3811, 5000)\n",
      "API Calls Remaining (3809, 5000)\n",
      "API Calls Remaining (3808, 5000)\n",
      "API Calls Remaining (3807, 5000)\n",
      "API Calls Remaining (3805, 5000)\n",
      "API Calls Remaining (3765, 5000)\n",
      "API Calls Remaining (3764, 5000)\n",
      "API Calls Remaining (3763, 5000)\n",
      "API Calls Remaining (3756, 5000)\n",
      "API Calls Remaining (3754, 5000)\n",
      "API Calls Remaining (3753, 5000)\n",
      "API Calls Remaining (3750, 5000)\n",
      "API Calls Remaining (3748, 5000)\n",
      "API Calls Remaining (3732, 5000)\n",
      "API Calls Remaining (3729, 5000)\n",
      "API Calls Remaining (3728, 5000)\n",
      "API Calls Remaining (3727, 5000)\n",
      "API Calls Remaining (3726, 5000)\n",
      "API Calls Remaining (3711, 5000)\n",
      "API Calls Remaining (3709, 5000)\n",
      "API Calls Remaining (3708, 5000)\n",
      "API Calls Remaining (3707, 5000)\n",
      "API Calls Remaining (3706, 5000)\n",
      "API Calls Remaining (3705, 5000)\n",
      "API Calls Remaining (3703, 5000)\n",
      "API Calls Remaining (3702, 5000)\n",
      "API Calls Remaining (3701, 5000)\n",
      "API Calls Remaining (3700, 5000)\n",
      "API Calls Remaining (3698, 5000)\n",
      "API Calls Remaining (3695, 5000)\n",
      "API Calls Remaining (3347, 5000)\n",
      "API Calls Remaining (3346, 5000)\n",
      "API Calls Remaining (3345, 5000)\n",
      "API Calls Remaining (3344, 5000)\n",
      "API Calls Remaining (3343, 5000)\n",
      "API Calls Remaining (3342, 5000)\n",
      "API Calls Remaining (3338, 5000)\n",
      "API Calls Remaining (3337, 5000)\n",
      "API Calls Remaining (3330, 5000)\n",
      "API Calls Remaining (3329, 5000)\n",
      "API Calls Remaining (3328, 5000)\n",
      "API Calls Remaining (3327, 5000)\n",
      "API Calls Remaining (3325, 5000)\n",
      "API Calls Remaining (3324, 5000)\n",
      "API Calls Remaining (3322, 5000)\n",
      "API Calls Remaining (3321, 5000)\n",
      "API Calls Remaining (3320, 5000)\n",
      "API Calls Remaining (3319, 5000)\n",
      "API Calls Remaining (3318, 5000)\n",
      "API Calls Remaining (3317, 5000)\n",
      "API Calls Remaining (3316, 5000)\n",
      "API Calls Remaining (3313, 5000)\n",
      "API Calls Remaining (3307, 5000)\n",
      "API Calls Remaining (3306, 5000)\n",
      "API Calls Remaining (3302, 5000)\n",
      "API Calls Remaining (3301, 5000)\n",
      "API Calls Remaining (3299, 5000)\n",
      "API Calls Remaining (3298, 5000)\n",
      "API Calls Remaining (3297, 5000)\n",
      "API Calls Remaining (3295, 5000)\n",
      "API Calls Remaining (3294, 5000)\n",
      "API Calls Remaining (3293, 5000)\n",
      "API Calls Remaining (3287, 5000)\n",
      "API Calls Remaining (3286, 5000)\n",
      "API Calls Remaining (3278, 5000)\n",
      "API Calls Remaining (3277, 5000)\n",
      "API Calls Remaining (3276, 5000)\n",
      "API Calls Remaining (3274, 5000)\n",
      "API Calls Remaining (3273, 5000)\n",
      "API Calls Remaining (3270, 5000)\n",
      "API Calls Remaining (3269, 5000)\n",
      "API Calls Remaining (3268, 5000)\n",
      "API Calls Remaining (3267, 5000)\n",
      "API Calls Remaining (3266, 5000)\n",
      "API Calls Remaining (3265, 5000)\n",
      "API Calls Remaining (3263, 5000)\n",
      "API Calls Remaining (3262, 5000)\n",
      "API Calls Remaining (3261, 5000)\n",
      "API Calls Remaining (3260, 5000)\n",
      "API Calls Remaining (3259, 5000)\n",
      "API Calls Remaining (3258, 5000)\n",
      "API Calls Remaining (3256, 5000)\n",
      "API Calls Remaining (3255, 5000)\n",
      "API Calls Remaining (3253, 5000)\n",
      "API Calls Remaining (3252, 5000)\n",
      "API Calls Remaining (3251, 5000)\n",
      "API Calls Remaining (3249, 5000)\n",
      "API Calls Remaining (3248, 5000)\n",
      "API Calls Remaining (3247, 5000)\n",
      "API Calls Remaining (3246, 5000)\n",
      "API Calls Remaining (3245, 5000)\n",
      "API Calls Remaining (3244, 5000)\n",
      "API Calls Remaining (3242, 5000)\n",
      "API Calls Remaining (3237, 5000)\n",
      "API Calls Remaining (3233, 5000)\n",
      "API Calls Remaining (3232, 5000)\n",
      "API Calls Remaining (3231, 5000)\n",
      "API Calls Remaining (3230, 5000)\n",
      "API Calls Remaining (3229, 5000)\n",
      "API Calls Remaining (3228, 5000)\n",
      "API Calls Remaining (3227, 5000)\n",
      "API Calls Remaining (3224, 5000)\n",
      "API Calls Remaining (3223, 5000)\n",
      "API Calls Remaining (3222, 5000)\n",
      "API Calls Remaining (3219, 5000)\n",
      "API Calls Remaining (3218, 5000)\n",
      "API Calls Remaining (3217, 5000)\n",
      "API Calls Remaining (3216, 5000)\n",
      "API Calls Remaining (3215, 5000)\n",
      "API Calls Remaining (3214, 5000)\n",
      "API Calls Remaining (3213, 5000)\n",
      "API Calls Remaining (3212, 5000)\n",
      "API Calls Remaining (3211, 5000)\n",
      "API Calls Remaining (3210, 5000)\n",
      "API Calls Remaining (3209, 5000)\n",
      "API Calls Remaining (3207, 5000)\n",
      "API Calls Remaining (3206, 5000)\n",
      "API Calls Remaining (3201, 5000)\n",
      "API Calls Remaining (3200, 5000)\n",
      "API Calls Remaining (3199, 5000)\n",
      "API Calls Remaining (3198, 5000)\n",
      "API Calls Remaining (3197, 5000)\n",
      "API Calls Remaining (3196, 5000)\n",
      "API Calls Remaining (3195, 5000)\n",
      "API Calls Remaining (3192, 5000)\n",
      "API Calls Remaining (3191, 5000)\n",
      "API Calls Remaining (3190, 5000)\n",
      "API Calls Remaining (3189, 5000)\n",
      "API Calls Remaining (3188, 5000)\n",
      "API Calls Remaining (3187, 5000)\n",
      "API Calls Remaining (3185, 5000)\n",
      "API Calls Remaining (3184, 5000)\n"
     ]
    }
   ],
   "source": [
    "stargazers = buildRepoRelations(REPO)\n",
    "buildUserRelations(stargazers)"
   ]
  },
  {
   "cell_type": "markdown",
   "metadata": {},
   "source": [
    "### Find Hottest User\n",
    "In this step, we use the graph initialized above to find the hottest users. The hottest user is defined as the GitHub user followed by most of the people who starred the repo we defined previously. This can also be interpreted as those who starred this repo also follows ... \n"
   ]
  },
  {
   "cell_type": "code",
   "execution_count": 79,
   "metadata": {},
   "outputs": [
    {
     "name": "stdout",
     "output_type": "stream",
     "text": [
      "Number of popular users 66\n",
      "Top popular users: [('svenkreiss(user)', 11), ('fonnesbeck(user)', 7), ('freeman-lab(user)', 5), ('mjhea0(user)', 4), ('Smerity(user)', 4), ('onesuper(user)', 3), ('cranmer(user)', 3), ('ajschumacher(user)', 3), ('rdhyee(user)', 2), ('esafak(user)', 2)]\n"
     ]
    }
   ],
   "source": [
    "from collections import Counter\n",
    "from operator import itemgetter\n",
    "\n",
    "def getHottestUser(stargazers):\n",
    "    \n",
    "    temp_list = []\n",
    "    for edge in graph.edges(data = True):\n",
    "        if edge[2]['type'] == 'follows':\n",
    "            temp_list.append(edge[1])\n",
    "    counter = Counter(temp_list)\n",
    "    \n",
    "    popular_users = []\n",
    "    for u, f in counter.most_common():\n",
    "        popular_users.append((u,f))\n",
    "    print (\"Number of popular users\", len(popular_users))\n",
    "    print (\"Top popular users:\", popular_users[:10])\n",
    "    return popular_users[:10]\n",
    "hottestUsers = getHottestUser(stargazers)"
   ]
  },
  {
   "cell_type": "markdown",
   "metadata": {},
   "source": [
    "The result above shows the most popular users. However, we care more about some centralities that NetworkX provided.\n",
    "#### Degree Centrality\n",
    "First, the Degree Centrality for a node v is the fraction of nodes it is connected to. \n",
    "#### Betweenness Centrality\n",
    "Also, the Betweenness Centrality compute the shortest path for nodes. It is the sum of the fraction of all-pairs shortest paths that pass through the node v. \n",
    "#### Closeness Centrality\n",
    "Lastly, the Closeness Centrality of a node u is the reciprocal of the sum of the shortest path distances from u to all n-1 other nodes. Since the sum of distances depends on the number of nodes in the graph, closeness is normalized by the sum of minimum possible distances n-1.\n",
    "\n",
    "\n"
   ]
  },
  {
   "cell_type": "code",
   "execution_count": 81,
   "metadata": {},
   "outputs": [
    {
     "name": "stdout",
     "output_type": "stream",
     "text": [
      "Degree Centrality\n",
      "[('angusshire(user)', 0.38620689655172413), ('svenkreiss(user)', 0.10344827586206896), ('fonnesbeck(user)', 0.04827586206896552), ('esafak(user)', 0.041379310344827586), ('akansal1(user)', 0.041379310344827586)] \n",
      "\n",
      "Betweenness Centrality\n",
      "[('angusshire(user)', 0.005842911877394636), ('svenkreiss(user)', 0.0030252234993614307), ('ajschumacher(user)', 0.0006944444444444445), ('esafak(user)', 0.0005507662835249042), ('cranmer(user)', 0.00047892720306513413)] \n",
      "\n",
      "Closeness Centrality\n",
      "[('svenkreiss(user)', 0.0866566716641679), ('mjhea0(user)', 0.06896551724137931), ('cranmer(user)', 0.056945812807881774), ('ajschumacher(user)', 0.056945812807881774), ('castanan(user)', 0.05386766076421249)]\n"
     ]
    }
   ],
   "source": [
    "def formatResult(graph):\n",
    "    graph_copy = graph.copy()\n",
    "    # Remove center node\n",
    "    graph_copy.remove_node('pysparkling(repo)')\n",
    "\n",
    "    dc = sorted(nx.degree_centrality(graph_copy).items(), \n",
    "                key=itemgetter(1), reverse=True)\n",
    "\n",
    "    bc = sorted(nx.betweenness_centrality(graph_copy).items(), \n",
    "                key=itemgetter(1), reverse=True)\n",
    "    cc = sorted(nx.closeness_centrality(graph_copy).items(), \n",
    "                key=itemgetter(1), reverse=True)\n",
    "    return (dc, bc, cc)\n",
    "\n",
    "dc, bc, cc = formatResult(graph)\n",
    "\n",
    "print (\"Degree Centrality\")\n",
    "print (dc[:5],'\\n')\n",
    "\n",
    "print (\"Betweenness Centrality\")\n",
    "print (bc[:5],'\\n')\n",
    "\n",
    "print (\"Closeness Centrality\")\n",
    "print (cc[:5])"
   ]
  },
  {
   "cell_type": "markdown",
   "metadata": {},
   "source": [
    "### Find Hottest Repository "
   ]
  },
  {
   "cell_type": "markdown",
   "metadata": {},
   "source": [
    "For the network we have currently, there is only one repo. To find the hottest repository, we need to go through each user in the network and then add their starred repos into the network. After that, it is easy for us to get the popular repositories. Moreover, we can also get to know the language preference of one certain user."
   ]
  },
  {
   "cell_type": "markdown",
   "metadata": {},
   "source": [
    "There are two input parameters of function buildRepoNet. The stargazers is the output of function buildRepoRelations which is a list of users who starred this original repo. Sometimes a user marks too many repos and it takes a lot of time to build the net. So here the limit_repo parameter could define the maximum of the repos of one user we need to add into the net. "
   ]
  },
  {
   "cell_type": "code",
   "execution_count": 82,
   "metadata": {
    "collapsed": true
   },
   "outputs": [],
   "source": [
    "def buildRepoNet(stargazers, limit_repo):\n",
    "    for i, v in enumerate(stargazers):\n",
    "        print(v.login)\n",
    "        try:\n",
    "            for starred in v.get_starred()[:limit_repo]:  # Slice to avoid supernodes\n",
    "                graph.add_node(starred.name + '(repo)', type='repo', lang=starred.language, \\\n",
    "                           owner=starred.owner.login)\n",
    "                graph.add_edge(v.login + '(user)', starred.name + '(repo)', type='gazes')\n",
    "        except Exception:  # ssl.SSLError:\n",
    "            print(\"Encountered an error fetching starred repos for\", v.login, \"Skipping.\")\n",
    "\n",
    "        print(\"Num nodes/edges in graph\", graph.number_of_nodes(), \"/\", graph.number_of_edges())\n",
    "    print(nx.info(graph), '\\n')\n"
   ]
  },
  {
   "cell_type": "markdown",
   "metadata": {},
   "source": [
    "Here we define the number of limit_repo as 200. It takes about 10 minutes to generate the repo net. The total number of nodes is 15696 and the total number of edges is 22100."
   ]
  },
  {
   "cell_type": "code",
   "execution_count": 85,
   "metadata": {
    "scrolled": true
   },
   "outputs": [
    {
     "name": "stdout",
     "output_type": "stream",
     "text": [
      "he0x\n",
      "Num nodes/edges in graph 357 / 467\n",
      "nschlemm\n",
      "Num nodes/edges in graph 557 / 667\n",
      "cheekybastard\n",
      "Num nodes/edges in graph 755 / 867\n",
      "ddboline\n",
      "Num nodes/edges in graph 947 / 1066\n",
      "dclambert\n",
      "Num nodes/edges in graph 1133 / 1266\n",
      "emlazzarin\n",
      "Num nodes/edges in graph 1315 / 1461\n",
      "mvaz\n",
      "Num nodes/edges in graph 1503 / 1659\n",
      "Veallym0n\n",
      "Num nodes/edges in graph 1551 / 1709\n",
      "svenkreiss\n",
      "Num nodes/edges in graph 1695 / 1877\n",
      "ajschumacher\n",
      "Num nodes/edges in graph 1879 / 2076\n",
      "akansal1\n",
      "Num nodes/edges in graph 2051 / 2276\n",
      "fonnesbeck\n",
      "Num nodes/edges in graph 2214 / 2475\n",
      "vasudevram\n",
      "Num nodes/edges in graph 2392 / 2671\n",
      "freeman-lab\n",
      "Num nodes/edges in graph 2578 / 2871\n",
      "StephanErb\n",
      "Num nodes/edges in graph 2758 / 3070\n",
      "juanshishido\n",
      "Num nodes/edges in graph 2916 / 3269\n",
      "dylanroy\n",
      "Num nodes/edges in graph 3094 / 3468\n",
      "gawry\n",
      "Num nodes/edges in graph 3266 / 3668\n",
      "denisfitz57\n",
      "Num nodes/edges in graph 3449 / 3867\n",
      "mjhea0\n",
      "Num nodes/edges in graph 3626 / 4067\n",
      "ronert\n",
      "Num nodes/edges in graph 3768 / 4265\n",
      "jchaat\n",
      "Num nodes/edges in graph 3935 / 4464\n",
      "matagus\n",
      "Num nodes/edges in graph 4114 / 4663\n",
      "wuxianliang\n",
      "Num nodes/edges in graph 4290 / 4863\n",
      "chaoyue729\n",
      "Num nodes/edges in graph 4433 / 5057\n",
      "sourcepirate\n",
      "Num nodes/edges in graph 4603 / 5256\n",
      "petro-rudenko\n",
      "Num nodes/edges in graph 4784 / 5455\n",
      "Smerity\n",
      "Num nodes/edges in graph 4943 / 5652\n",
      "esafak\n",
      "Num nodes/edges in graph 5073 / 5852\n",
      "greyhill\n",
      "Num nodes/edges in graph 5120 / 5911\n",
      "petrushy\n",
      "Num nodes/edges in graph 5280 / 6107\n",
      "amelio-vazquez-reina\n",
      "Num nodes/edges in graph 5419 / 6293\n",
      "rushter\n",
      "Num nodes/edges in graph 5551 / 6493\n",
      "rdhyee\n",
      "Num nodes/edges in graph 5725 / 6693\n",
      "dkanoafry\n",
      "Num nodes/edges in graph 5790 / 6783\n",
      "ziedzic\n",
      "Num nodes/edges in graph 5931 / 6982\n",
      "yv\n",
      "Num nodes/edges in graph 6100 / 7182\n",
      "peristeri\n",
      "Num nodes/edges in graph 6224 / 7381\n",
      "castanan\n",
      "Num nodes/edges in graph 6237 / 7404\n",
      "hezila\n",
      "Num nodes/edges in graph 6410 / 7602\n",
      "xunyou\n",
      "Num nodes/edges in graph 6563 / 7802\n",
      "dhanainme\n",
      "Num nodes/edges in graph 6641 / 7907\n",
      "pganssle\n",
      "Num nodes/edges in graph 6682 / 7961\n",
      "dan-blanchard\n",
      "Num nodes/edges in graph 6811 / 8160\n",
      "angusshire\n",
      "Num nodes/edges in graph 7002 / 8356\n",
      "binh-vu\n",
      "Num nodes/edges in graph 7030 / 8391\n",
      "ilgarm\n",
      "Num nodes/edges in graph 7194 / 8589\n",
      "xinyu-usf\n",
      "Num nodes/edges in graph 7240 / 8642\n",
      "sevenguin\n",
      "Num nodes/edges in graph 7325 / 8783\n",
      "Bennyelg\n",
      "Num nodes/edges in graph 7386 / 8876\n",
      "cranmer\n",
      "Num nodes/edges in graph 7480 / 8995\n",
      "farquasar1\n",
      "Num nodes/edges in graph 7604 / 9189\n",
      "jgmize\n",
      "Num nodes/edges in graph 7743 / 9388\n",
      "ainkov\n",
      "Num nodes/edges in graph 7752 / 9397\n",
      "qwert666\n",
      "Num nodes/edges in graph 7849 / 9533\n",
      "alexprengere\n",
      "Num nodes/edges in graph 7940 / 9677\n",
      "ptrf\n",
      "Num nodes/edges in graph 8094 / 9871\n",
      "Greenall\n",
      "Num nodes/edges in graph 8100 / 9883\n",
      "d2207197\n",
      "Num nodes/edges in graph 8173 / 10006\n",
      "eien\n",
      "Num nodes/edges in graph 8329 / 10203\n",
      "lingyong\n",
      "Num nodes/edges in graph 8491 / 10401\n",
      "gerbaudo\n",
      "Num nodes/edges in graph 8622 / 10592\n",
      "jessem\n",
      "Num nodes/edges in graph 8729 / 10732\n",
      "ZhukovAlexander\n",
      "Num nodes/edges in graph 8865 / 10932\n",
      "robinsingh1\n",
      "Num nodes/edges in graph 9018 / 11132\n",
      "smrjan\n",
      "Num nodes/edges in graph 9161 / 11328\n",
      "aalhour\n",
      "Num nodes/edges in graph 9276 / 11528\n",
      "nabilm\n",
      "Num nodes/edges in graph 9281 / 11534\n",
      "luiscape\n",
      "Num nodes/edges in graph 9390 / 11732\n",
      "ycliuhw\n",
      "Num nodes/edges in graph 9526 / 11930\n",
      "ekampf\n",
      "Num nodes/edges in graph 9631 / 12077\n",
      "pd-spark\n",
      "Num nodes/edges in graph 9663 / 12166\n",
      "telamonian\n",
      "Num nodes/edges in graph 9693 / 12204\n",
      "rgabo\n",
      "Num nodes/edges in graph 9797 / 12402\n",
      "aleury\n",
      "Num nodes/edges in graph 9936 / 12600\n",
      "waxz\n",
      "Num nodes/edges in graph 10086 / 12798\n",
      "onesuper\n",
      "Num nodes/edges in graph 10234 / 12997\n",
      "Lguyogiro\n",
      "Num nodes/edges in graph 10298 / 13108\n",
      "felipecruz\n",
      "Num nodes/edges in graph 10413 / 13307\n",
      "pauldevos\n",
      "Num nodes/edges in graph 10519 / 13503\n",
      "ahmedezzeldin93\n",
      "Num nodes/edges in graph 10564 / 13606\n",
      "mtpatter\n",
      "Num nodes/edges in graph 10713 / 13802\n",
      "brianv0\n",
      "Num nodes/edges in graph 10771 / 13881\n",
      "thulio\n",
      "Num nodes/edges in graph 10912 / 14080\n",
      "kmatt\n",
      "Num nodes/edges in graph 11042 / 14278\n",
      "leetreveil\n",
      "Num nodes/edges in graph 11138 / 14401\n",
      "cupen\n",
      "Num nodes/edges in graph 11260 / 14599\n",
      "RishiSankineni\n",
      "Num nodes/edges in graph 11338 / 14798\n",
      "XIEQ\n",
      "Num nodes/edges in graph 11437 / 14995\n",
      "codinguncut\n",
      "Num nodes/edges in graph 11576 / 15195\n",
      "ansrivas\n",
      "Num nodes/edges in graph 11690 / 15393\n",
      "Stardust1002\n",
      "Num nodes/edges in graph 11729 / 15534\n",
      "walkersuen\n",
      "Num nodes/edges in graph 11736 / 15541\n",
      "Pushkr\n",
      "Num nodes/edges in graph 11764 / 15594\n",
      "skribled\n",
      "Num nodes/edges in graph 11934 / 15790\n",
      "silverstone1903\n",
      "Num nodes/edges in graph 12069 / 15990\n",
      "flysky1991\n",
      "Num nodes/edges in graph 12157 / 16147\n",
      "lomereiter\n",
      "Num nodes/edges in graph 12287 / 16346\n",
      "tcoyze\n",
      "Num nodes/edges in graph 12324 / 16431\n",
      "ysku\n",
      "Num nodes/edges in graph 12441 / 16630\n",
      "wearpants\n",
      "Num nodes/edges in graph 12551 / 16829\n",
      "ajlmsbux\n",
      "Num nodes/edges in graph 12598 / 16908\n",
      "drauschenbach\n",
      "Num nodes/edges in graph 12616 / 16935\n",
      "JonasAmrich\n",
      "Num nodes/edges in graph 12647 / 17001\n",
      "basilhe\n",
      "Num nodes/edges in graph 12767 / 17200\n",
      "danilomo\n",
      "Num nodes/edges in graph 12790 / 17228\n",
      "tedmiston\n",
      "Num nodes/edges in graph 12915 / 17425\n",
      "ylogx\n",
      "Num nodes/edges in graph 13021 / 17623\n",
      "hhstore\n",
      "Num nodes/edges in graph 13157 / 17821\n",
      "t0n1c\n",
      "Num nodes/edges in graph 13168 / 17843\n",
      "pbamotra\n",
      "Num nodes/edges in graph 13283 / 18043\n",
      "rsmith54\n",
      "Num nodes/edges in graph 13314 / 18090\n",
      "samuel-kerrien\n",
      "Num nodes/edges in graph 13383 / 18181\n",
      "7125messi\n",
      "Num nodes/edges in graph 13481 / 18371\n",
      "Syrus\n",
      "Num nodes/edges in graph 13481 / 18373\n",
      "dchudz\n",
      "Num nodes/edges in graph 13507 / 18411\n",
      "miniaturelle\n",
      "Num nodes/edges in graph 13516 / 18454\n",
      "ikatanic\n",
      "Num nodes/edges in graph 13529 / 18491\n",
      "bossjones\n",
      "Num nodes/edges in graph 13682 / 18678\n",
      "kennethlimjf\n",
      "Num nodes/edges in graph 13709 / 18733\n",
      "xyzdream\n",
      "Num nodes/edges in graph 13710 / 18736\n",
      "xq2005\n",
      "Num nodes/edges in graph 13716 / 18749\n",
      "SummerTea\n",
      "Num nodes/edges in graph 13800 / 18941\n",
      "wangdi244\n",
      "Num nodes/edges in graph 13883 / 19058\n",
      "vnnw\n",
      "Num nodes/edges in graph 13987 / 19255\n",
      "imrv13\n",
      "Num nodes/edges in graph 14013 / 19312\n",
      "pradeepmathesh\n",
      "Num nodes/edges in graph 14177 / 19511\n",
      "alcidesmorales\n",
      "Num nodes/edges in graph 14315 / 19708\n",
      "blahblueray\n",
      "Num nodes/edges in graph 14322 / 19717\n",
      "qiulin\n",
      "Num nodes/edges in graph 14460 / 19915\n",
      "ct-clmsn\n",
      "Num nodes/edges in graph 14535 / 20012\n",
      "spillai\n",
      "Num nodes/edges in graph 14657 / 20210\n",
      "johanfforsberg\n",
      "Num nodes/edges in graph 14750 / 20398\n",
      "dogrdon\n",
      "Num nodes/edges in graph 14880 / 20596\n",
      "younescha\n",
      "Num nodes/edges in graph 14880 / 20598\n",
      "ChristianSch\n",
      "Num nodes/edges in graph 15006 / 20797\n",
      "dvatterott\n",
      "Num nodes/edges in graph 15030 / 20834\n",
      "zuoxiaolei\n",
      "Num nodes/edges in graph 15034 / 20840\n",
      "qiwihui\n",
      "Num nodes/edges in graph 15171 / 21035\n",
      "mvherweg\n",
      "Num nodes/edges in graph 15202 / 21103\n",
      "Horace89\n",
      "Num nodes/edges in graph 15293 / 21300\n",
      "xrbu\n",
      "Num nodes/edges in graph 15352 / 21499\n",
      "freegnu\n",
      "Num nodes/edges in graph 15478 / 21697\n",
      "rk4n\n",
      "Num nodes/edges in graph 15602 / 21886\n",
      "thalesmello\n",
      "Num nodes/edges in graph 15687 / 22085\n",
      "craigwilkins\n",
      "Num nodes/edges in graph 15696 / 22100\n",
      "Name: \n",
      "Type: DiGraph\n",
      "Number of nodes: 15696\n",
      "Number of edges: 22100\n",
      "Average in degree:   1.4080\n",
      "Average out degree:   1.4080 \n",
      "\n"
     ]
    }
   ],
   "source": [
    "buildRepoNet(stargazers,200)"
   ]
  },
  {
   "cell_type": "markdown",
   "metadata": {},
   "source": [
    "Next, we can use the builded net to get the popular repos. The more users star the repo, the more popular it is. So here we iterate each repo node in the graph and record the hit times."
   ]
  },
  {
   "cell_type": "code",
   "execution_count": 86,
   "metadata": {
    "collapsed": true
   },
   "outputs": [],
   "source": [
    "def getTopNRepos(n):\n",
    "    print(\"Top \"+ str(n) + \" Popular repositories:\")\n",
    "    \n",
    "    repos = []\n",
    "    for (v, i) in graph.in_degree():\n",
    "        if graph.node[v]['type'] == 'repo':\n",
    "            repos.append((v,i))\n",
    "    repos = sorted(repos, key = lambda x:x[1], reverse=True)\n",
    "    return repos[:n]"
   ]
  },
  {
   "cell_type": "markdown",
   "metadata": {},
   "source": [
    "Let's try to get the top 10 popular repositories."
   ]
  },
  {
   "cell_type": "code",
   "execution_count": 87,
   "metadata": {},
   "outputs": [
    {
     "name": "stdout",
     "output_type": "stream",
     "text": [
      "Top 10 Popular repositories:\n",
      "[('pysparkling(repo)', 146), ('spark(repo)', 30), ('tensorflow(repo)', 23), ('dask(repo)', 19), ('incubator-superset(repo)', 18), ('jupyterlab(repo)', 17), ('awesome-machine-learning(repo)', 17), ('models(repo)', 17), ('keras(repo)', 16), ('awesome-python(repo)', 16)]\n"
     ]
    }
   ],
   "source": [
    "hottestRepos = getTopNRepos(10)\n",
    "print(hottestRepos)"
   ]
  },
  {
   "cell_type": "markdown",
   "metadata": {},
   "source": [
    "With this net, we can also get the one certain user's preference such as the repositories and the interested languages."
   ]
  },
  {
   "cell_type": "code",
   "execution_count": 88,
   "metadata": {
    "collapsed": true
   },
   "outputs": [],
   "source": [
    "def getPreferRepos(username):\n",
    "    \n",
    "    repos = []\n",
    "    for v in graph[username+\"(user)\"]:\n",
    "        if graph[username+\"(user)\"][v]['type'] == 'gazes':\n",
    "            repos.append(v)\n",
    "    return repos"
   ]
  },
  {
   "cell_type": "code",
   "execution_count": 89,
   "metadata": {
    "collapsed": true
   },
   "outputs": [],
   "source": [
    "def getPreferLanguages(username):\n",
    "      \n",
    "    langs = set()\n",
    "    for v in graph[username+\"(user)\"]:\n",
    "        if graph[username+\"(user)\"][v]['type'] == 'gazes':\n",
    "            langs.add(graph.node[v]['lang'])\n",
    "    return langs"
   ]
  },
  {
   "cell_type": "markdown",
   "metadata": {},
   "source": [
    "Here we can check the preference of the hottest user we find above."
   ]
  },
  {
   "cell_type": "code",
   "execution_count": 90,
   "metadata": {},
   "outputs": [
    {
     "name": "stdout",
     "output_type": "stream",
     "text": [
      "svenkreiss(user)\n",
      "Respositories that svenkreiss has starred\n",
      "['read-this-first(repo)', 'playground(repo)', 's2sphere(repo)', 'gradient-checkpointing(repo)', 'Theano(repo)', 'localcrawl(repo)', 'fcl(repo)', 'moby(repo)', 'kaggle-galaxies(repo)', 'sumo-web3d(repo)', 'videogan(repo)', 'DeepMind-Atari-Deep-Q-Learner(repo)', 'dvds-js(repo)', 'models(repo)', 'meeting-room-tablet(repo)', 'caffe(repo)', 'neuraltalk(repo)', 'hue(repo)', 'pelican_dynamic(repo)', 'rc-data(repo)', 'statsd(repo)', 'deepdive(repo)', 'docker-flask-gevent(repo)', 'protractor(repo)', 'redis-commander(repo)', 'skip-thoughts(repo)', 'bazel(repo)', 'keras-js(repo)', 'ttk(repo)', 'pytorch(repo)', 's2geometry(repo)', 'spark(repo)', 'snappy(repo)', 'ipfs(repo)', 'pelican_plugin-render_math(repo)', 'scikit-learn(repo)', 'tensorflow(repo)', 'jedi(repo)', 'cayley(repo)', 'keras-GAN(repo)', 'kubernetes(repo)', 'decoupledDemo(repo)', 'keras(repo)', 'opencv(repo)', 'textwrangler-bbedit-solarized(repo)', 'cpython(repo)', 'grumpy(repo)', 'unicodeit(repo)', 'karma(repo)', 'ssd.pytorch(repo)', 'd3(repo)', 'vagrant(repo)', 'validator.github.io(repo)', 'metabase(repo)', 'BatchLikelihoodScan(repo)', 'ntm(repo)', 'parquet-cpp(repo)', 'sass(repo)', 'demos(repo)', 'grafana(repo)', 'dc.js(repo)', 'bootcards(repo)', 'flask-sockets(repo)', 'distributed(repo)', 'ShareJS(repo)', 'caffe2(repo)', 'express-handlebars(repo)', 'decouple(repo)', 'bootstrap-material-design(repo)', 'juliusjs(repo)', 'attrs(repo)', 'context2vec(repo)', 'hydra(repo)', 'pykka(repo)', 'Adversarial_Video_Generation(repo)', 'js-libp2p-kad-dht(repo)', 'golearn(repo)', 'TypeScript(repo)', 'char-rnn(repo)', 'cytoscape.js(repo)', 'pelican-jsmath(repo)', 'thefuck(repo)', 'fast-bind(repo)', 'feather(repo)', 'consul(repo)', 'html5validator(repo)', 'GooFit(repo)', 'Document2Vec(repo)', 'FacialExpression(repo)', 'PyROOTUtils(repo)', 'DeepLearningTutorials(repo)', 'tfjs(repo)', 'MemNN(repo)', 'pylearn2(repo)', 'CycleGAN(repo)', 'flann(repo)', 'marp(repo)', 'databench_spark_test(repo)', 'rethinkdb(repo)', '500lines(repo)', 'FormalSystems(repo)', 'databench_go(repo)', 'oh-my-zsh(repo)', 'ngraph(repo)', 'optim(repo)', 'R-FCN(repo)', 'Android-Object-Detection(repo)', 'networkx(repo)', 'zipline(repo)', 'benchmark(repo)', 'KaTeX(repo)', 'tornado(repo)', 'alluxio(repo)', 'dlib(repo)', 'mr4c(repo)', 'Thunder(repo)', 't-digest(repo)', 'LHCHiggsCouplings(repo)', 'js-git(repo)', 'ztorch(repo)', 'Self-Driving-Car(repo)', 'torch-ddcnn(repo)', 'cgt(repo)', 'databench(repo)', 'gensim(repo)', 'skflow(repo)', 'dataset(repo)', 'tinydb(repo)', 'Shapely(repo)', 'databench_examples(repo)', 'pelican(repo)', 'rnn(repo)', 'micropython(repo)', 'es6-cheatsheet(repo)', 'pelican-theme-validator(repo)', 'deep-neuroevolution(repo)', 'GhostText(repo)', 'SelfNormalizingNetworks(repo)', 'rootpy(repo)', 'nprogress(repo)', 'doppelganger(repo)', 'nmslib(repo)', 'dockbroker(repo)', 'Pikaday(repo)', 'multipathnet(repo)', 'parquet-format(repo)', 'deepmask(repo)', 'jeu-de-taquin(repo)', 'nvd3(repo)', 'montecarlorisk(repo)', 'apidocs(repo)', 'quine.zip(repo)', 'openface(repo)', 'jupyterlab(repo)', 'validator(repo)', 'pysparkling(repo)', 'sense2vec(repo)', 'crouton(repo)', 'awesome-machine-learning(repo)', 'convnet-benchmarks(repo)', 'annoy(repo)', 'pyboard(repo)', 'trot(repo)', 'python-zipstream(repo)', 'backbone-and-d3(repo)', 'h3(repo)', 'itermplot(repo)', 'Chart.js(repo)', 'vowpal_wabbit(repo)']\n",
      "Programming languages svenkreiss is interested in\n",
      "{'Lua', 'Go', 'Python', 'HTML', 'Perl', 'Shell', 'CoffeeScript', 'C++', 'Java', 'C', 'TypeScript', 'JavaScript', 'Ruby', 'Eagle', None, 'Scala', 'Jupyter Notebook', 'CSS', 'Elixir', 'Matlab'}\n"
     ]
    }
   ],
   "source": [
    "print(hottestUsers[0][0])\n",
    "user = hottestUsers[0][0].split('(')[0]\n",
    "print(\"Respositories that \"+user+ \" has starred\")\n",
    "repos = getPreferRepos(user)\n",
    "print(repos)\n",
    "print(\"Programming languages \"+user+ \" is interested in\")  \n",
    "langs = getPreferLanguages(user)\n",
    "print(langs)"
   ]
  },
  {
   "cell_type": "markdown",
   "metadata": {},
   "source": [
    "Correspondingly, we can also get the list of users who star one certain repo."
   ]
  },
  {
   "cell_type": "code",
   "execution_count": 91,
   "metadata": {
    "collapsed": true
   },
   "outputs": [],
   "source": [
    "def getStarredUser(repoName):\n",
    "    users = []\n",
    "    for (v, i) in graph.in_degree():\n",
    "        if graph.node[v]['type'] == 'user':\n",
    "            if repoName+\"(repo)\" in getPreferRepos(v.split('(')[0]):\n",
    "                users.append(v)\n",
    "    return users"
   ]
  },
  {
   "cell_type": "markdown",
   "metadata": {},
   "source": [
    "For the hottest repo, we can also get the list of user who have starred the repo."
   ]
  },
  {
   "cell_type": "code",
   "execution_count": 92,
   "metadata": {},
   "outputs": [
    {
     "name": "stdout",
     "output_type": "stream",
     "text": [
      "['ajlmsbux(user)', 't0n1c(user)', 'ekampf(user)', 'rushter(user)', 'tedmiston(user)', 'pbamotra(user)', 'hezila(user)', 'nabilm(user)', 'wuxianliang(user)', 'Stardust1002(user)', 'brianv0(user)', 'ronert(user)', 'craigwilkins(user)', 'johanfforsberg(user)', 'waxz(user)', 'ptrf(user)', 'farquasar1(user)', 'mtpatter(user)', 'imrv13(user)', 'onesuper(user)', 'amelio-vazquez-reina(user)', 'rgabo(user)', 'jgmize(user)', 'kmatt(user)', 'xrbu(user)', 'jessem(user)', 'emlazzarin(user)', 'sevenguin(user)', 'Syrus(user)', 'dylanroy(user)', 'hhstore(user)', 'ysku(user)', 'lomereiter(user)', 'wangdi244(user)', 'SummerTea(user)', 'rdhyee(user)', 'miniaturelle(user)', 'tcoyze(user)', 'ansrivas(user)', 'petrushy(user)', 'skribled(user)', 'telamonian(user)', 'juanshishido(user)', 'xinyu-usf(user)', 'freegnu(user)', 'basilhe(user)', 'ddboline(user)', 'ZhukovAlexander(user)', 'walkersuen(user)', 'aalhour(user)', 'ziedzic(user)', 'XIEQ(user)', 'binh-vu(user)', 'aleury(user)', 'qiwihui(user)', 'wearpants(user)', 'castanan(user)', 'qiulin(user)', 'he0x(user)', 'dan-blanchard(user)', 'blahblueray(user)', 'ct-clmsn(user)', 'felipecruz(user)', 'esafak(user)', 'sourcepirate(user)', 'StephanErb(user)', 'rsmith54(user)', 'drauschenbach(user)', 'smrjan(user)', 'dogrdon(user)', 'greyhill(user)', 'mvaz(user)', 'mjhea0(user)', 'Greenall(user)', 'gerbaudo(user)', 'nschlemm(user)', 'denisfitz57(user)', 'cheekybastard(user)', 'pauldevos(user)', 'dkanoafry(user)', 'fonnesbeck(user)', 'xunyou(user)', 'alexprengere(user)', 'RishiSankineni(user)', 'angusshire(user)', 'ilgarm(user)', 'codinguncut(user)', 'cranmer(user)', 'kennethlimjf(user)', 'eien(user)', 'flysky1991(user)', 'ajschumacher(user)', 'bossjones(user)', 'd2207197(user)', 'xyzdream(user)', 'matagus(user)', 'Lguyogiro(user)', 'freeman-lab(user)', 'Bennyelg(user)', 'mvherweg(user)', 'ainkov(user)', 'yv(user)', 'leetreveil(user)', 'lingyong(user)', 'zuoxiaolei(user)', 'thulio(user)', 'xq2005(user)', 'dclambert(user)', 'Pushkr(user)', 'pganssle(user)', 'younescha(user)', 'dchudz(user)', 'alcidesmorales(user)', 'JonasAmrich(user)', 'ChristianSch(user)', 'dvatterott(user)', 'spillai(user)', 'vnnw(user)', 'pradeepmathesh(user)', 'dhanainme(user)', 'vasudevram(user)', 'luiscape(user)', 'cupen(user)', 'robinsingh1(user)', '7125messi(user)', 'thalesmello(user)', 'akansal1(user)', 'ikatanic(user)', 'peristeri(user)', 'Horace89(user)', 'Smerity(user)', 'danilomo(user)', 'pd-spark(user)', 'samuel-kerrien(user)', 'silverstone1903(user)', 'gawry(user)', 'rk4n(user)', 'Veallym0n(user)', 'ycliuhw(user)', 'ylogx(user)', 'svenkreiss(user)', 'chaoyue729(user)', 'ahmedezzeldin93(user)', 'qwert666(user)', 'jchaat(user)', 'petro-rudenko(user)']\n",
      "146\n"
     ]
    }
   ],
   "source": [
    "repo = hottestRepos[0][0].split('(')[0]\n",
    "users = getStarredUser(repo)\n",
    "print(users)\n",
    "print(len(users))"
   ]
  },
  {
   "cell_type": "markdown",
   "metadata": {
    "collapsed": true
   },
   "source": [
    "Using the two functions above, we can do some further analysis about the relationship between some hot topics. For each pair of repos, we can count how many people star both two repos? "
   ]
  },
  {
   "cell_type": "code",
   "execution_count": 93,
   "metadata": {
    "collapsed": true
   },
   "outputs": [],
   "source": [
    "def repoRelationship(repo1, repo2):\n",
    "    user1 = getStarredUser(repo1)\n",
    "    user2 = getStarredUser(repo2)\n",
    "    commonUser = set(user1)&set(user2)\n",
    "    p1 = len(commonUser)/len(user1)\n",
    "    p2 = len(commonUser)/len(user2)\n",
    "    return (p1,p2)"
   ]
  },
  {
   "cell_type": "markdown",
   "metadata": {},
   "source": [
    "To get the visible result, we use library seaborn to create a heatmap."
   ]
  },
  {
   "cell_type": "code",
   "execution_count": 94,
   "metadata": {
    "collapsed": true
   },
   "outputs": [],
   "source": [
    "import seaborn as sns # for Interactive plots\n",
    "import matplotlib.pyplot as plt # for plots\n",
    "% matplotlib inline\n",
    "import pandas as pd\n",
    "import numpy as np\n",
    "\n",
    "def repoHeatMap(repos):\n",
    "    length = len(repos)\n",
    "    x = np.zeros((length,length))\n",
    "    columns = list(map(lambda x:x[0].split('(')[0],repos))\n",
    "    print(columns)\n",
    "    for i,v in enumerate(columns):\n",
    "        for j in range(i,length):\n",
    "            p1,p2 = repoRelationship(v,columns[j])\n",
    "            x[i][j] = p1\n",
    "            x[j][i] = p2\n",
    "    df = pd.DataFrame(x,columns = columns)\n",
    "    sns.heatmap(df,annot=True)\n",
    "#     plt.figure(figsize=(12,10))\n",
    "    plt.xticks(rotation=75)\n",
    "    plt.show()"
   ]
  },
  {
   "cell_type": "markdown",
   "metadata": {},
   "source": [
    "We use the top ten hottest repos to create the heatmap."
   ]
  },
  {
   "cell_type": "code",
   "execution_count": 95,
   "metadata": {},
   "outputs": [
    {
     "name": "stdout",
     "output_type": "stream",
     "text": [
      "['pysparkling', 'spark', 'tensorflow', 'dask', 'incubator-superset', 'jupyterlab', 'awesome-machine-learning', 'models', 'keras', 'awesome-python']\n"
     ]
    },
    {
     "data": {
      "image/png": "[encoded data removed]",
      "text/plain": [
       "<matplotlib.figure.Figure at 0x1a20145b70>"
      ]
     },
     "metadata": {},
     "output_type": "display_data"
    }
   ],
   "source": [
    "repoHeatMap(hottestRepos)"
   ]
  },
  {
   "cell_type": "markdown",
   "metadata": {
    "collapsed": true
   },
   "source": [
    "### Find Hot Programming Language\n",
    "\n",
    "What if we want to know which is the most popular language for all projects in the current map we generated? We can go through the projects and then extract the language part and put it into the counter to count, this seems easy to do, but what if we want to query how many users are programming in a particular kind of language? This requires scanning the in-degree users of each project, and finally summing up the count results. This idea requires large time complexity. A good idea at this time is to expand the map and use the language as a single node. The logic diagram of the final map is as follows:"
   ]
  },
  {
   "cell_type": "markdown",
   "metadata": {
    "collapsed": true
   },
   "source": [
    "[<img src=\"https://raw.githubusercontent.com/hanna1994/han1994/master/191525762986_.pic_hd.jpg\",width=400, height=400>](https://raw.githubusercontent.com/hanna1994/han1994/master/191525762986_.pic_hd.jpg)"
   ]
  },
  {
   "cell_type": "code",
   "execution_count": 96,
   "metadata": {
    "collapsed": true
   },
   "outputs": [],
   "source": [
    "def createlanguagemap():\n",
    "    repos = []\n",
    "  \n",
    "    for n in graph.nodes():\n",
    "        if graph.node[n]['type'] == 'repo':\n",
    "            repos.append(n)\n",
    "\n",
    "    for repo in repos:\n",
    "        # some empty projects may have none of the language part\n",
    "#         lang = (graph.node_iter[repo]['lang'] or \"\") + \"(lang)\"\n",
    "        if graph.node[repo]['lang']:\n",
    "            lang = (graph.node[repo]['lang']) + \"(lang)\"\n",
    "        else:\n",
    "            lang = (\"\") + \"(lang)\"\n",
    "        # users who gazed repo\n",
    "\n",
    "        stargazers = []\n",
    "\n",
    "        for (user, repo, data) in graph.in_edges(repo, data=True):\n",
    "            if data['type'] == 'gazes':\n",
    "                stargazers.append(user)\n",
    "\n",
    "        for stargazer in stargazers:\n",
    "            graph.add_edge(stargazer, lang, type='programs')\n",
    "            graph.add_node(lang, type='lang')\n",
    "            graph.add_edge(lang, repo, type='implements')  "
   ]
  },
  {
   "cell_type": "markdown",
   "metadata": {},
   "source": [
    "Then, let's see the count results of the languages. First we should see what languages are there in the map:"
   ]
  },
  {
   "cell_type": "code",
   "execution_count": 97,
   "metadata": {},
   "outputs": [
    {
     "name": "stdout",
     "output_type": "stream",
     "text": [
      "['Racket(lang)', 'Dart(lang)', 'PureScript(lang)', 'HCL(lang)', 'Vue(lang)', 'Ragel in Ruby Host(lang)', 'PLpgSQL(lang)', 'Roff(lang)', 'M4(lang)', 'CSS(lang)', 'Frege(lang)', 'C(lang)', 'Nginx(lang)', 'Ruby(lang)', 'Nimrod(lang)', 'CWeb(lang)', 'MQL5(lang)', 'Rust(lang)', 'PowerShell(lang)', 'Awk(lang)', 'Scilab(lang)', 'IDL(lang)', 'ANTLR(lang)', 'R(lang)', 'Jupyter Notebook(lang)', 'F#(lang)', 'Swift(lang)', 'Java(lang)', 'Elm(lang)', 'TLA(lang)', 'Visual Basic(lang)', 'C++(lang)', 'Makefile(lang)', 'Pascal(lang)', 'Assembly(lang)', 'Julia(lang)', 'Groff(lang)', 'Coq(lang)', 'SystemVerilog(lang)', 'C#(lang)', 'Common Lisp(lang)', 'Thrift(lang)', 'VHDL(lang)', 'CoffeeScript(lang)', 'Agda(lang)', 'PHP(lang)', 'DIGITAL Command Language(lang)', 'Clojure(lang)', 'Protocol Buffer(lang)', 'Go(lang)', 'Puppet(lang)', 'Scala(lang)', 'Smarty(lang)', 'WebAssembly(lang)', 'Web Ontology Language(lang)', 'Kotlin(lang)', 'Mathematica(lang)', 'PureBasic(lang)', 'Crystal(lang)', 'Stan(lang)', 'Fortran(lang)', 'QML(lang)', 'TypeScript(lang)', 'Common Workflow Language(lang)', 'Verilog(lang)', 'Hy(lang)', 'LLVM(lang)', 'Elixir(lang)', 'Matlab(lang)', 'VimL(lang)', 'OpenEdge ABL(lang)', 'Nix(lang)', 'GCC Machine Description(lang)', 'CMake(lang)', 'Nim(lang)', 'Shell(lang)', 'Perl(lang)', 'Tcl(lang)', 'PostScript(lang)', 'Terra(lang)', 'Lua(lang)', 'LiveScript(lang)', 'Rebol(lang)', 'TeX(lang)', 'Chapel(lang)', 'Objective-C++(lang)', 'Processing(lang)', 'D(lang)', 'Stata(lang)', 'Erlang(lang)', 'Emacs Lisp(lang)', 'Haskell(lang)', 'Prolog(lang)', 'Vala(lang)', 'ActionScript(lang)', 'Pony(lang)', 'Batchfile(lang)', 'Scheme(lang)', 'HTML(lang)', 'XSLT(lang)', 'Eagle(lang)', 'MAXScript(lang)', 'Arduino(lang)', 'Python(lang)', 'Standard ML(lang)', 'Haxe(lang)', 'Lean(lang)', 'SaltStack(lang)', 'Groovy(lang)', 'OCaml(lang)', 'Rascal(lang)', 'AppleScript(lang)', 'Cuda(lang)', 'Red(lang)', 'Yacc(lang)', 'NSIS(lang)', 'LookML(lang)', 'ApacheConf(lang)', '(lang)', 'JavaScript(lang)', 'Vim script(lang)', 'Objective-C(lang)', 'SRecode Template(lang)', 'RAML(lang)']\n"
     ]
    }
   ],
   "source": [
    "createlanguagemap()\n",
    "# let us see what languages are in the map\n",
    "ral = []\n",
    "for n in graph.nodes():\n",
    "    if graph.node[n]['type'] == 'lang':\n",
    "        ral.append(n)\n",
    "print(ral)   "
   ]
  },
  {
   "cell_type": "markdown",
   "metadata": {},
   "source": [
    "Now we can see the top 10 hottest languages users are using:"
   ]
  },
  {
   "cell_type": "code",
   "execution_count": 98,
   "metadata": {
    "collapsed": true
   },
   "outputs": [],
   "source": [
    "# find hottest 10 languages\n",
    "def tenanguages():\n",
    "    print (\"Most popular languages\")\n",
    "    print (sorted([(n, graph.in_degree(n))\n",
    "     for n in graph.nodes() \n",
    "         if graph.node[n]['type'] == 'lang'], key=itemgetter(1), reverse=True)[:10])"
   ]
  },
  {
   "cell_type": "code",
   "execution_count": 99,
   "metadata": {},
   "outputs": [
    {
     "name": "stdout",
     "output_type": "stream",
     "text": [
      "Most popular languages\n",
      "[('Python(lang)', 146), ('(lang)', 133), ('JavaScript(lang)', 133), ('Java(lang)', 128), ('C++(lang)', 128), ('Jupyter Notebook(lang)', 125), ('C(lang)', 123), ('HTML(lang)', 121), ('Shell(lang)', 115), ('Go(lang)', 105)]\n"
     ]
    }
   ],
   "source": [
    "tenanguages()"
   ]
  },
  {
   "cell_type": "markdown",
   "metadata": {},
   "source": [
    "And let us see some common languages usage:"
   ]
  },
  {
   "cell_type": "code",
   "execution_count": 100,
   "metadata": {
    "collapsed": true
   },
   "outputs": [],
   "source": [
    "# find how many people are using the certain kind of language\n",
    "def languageusage(languageType):\n",
    "    languser = []\n",
    "    for (user, lang) in graph.in_edges(languageType):\n",
    "         if graph.node[user]['type'] == 'user':\n",
    "                languser.append(user)\n",
    "    return languser"
   ]
  },
  {
   "cell_type": "code",
   "execution_count": 101,
   "metadata": {},
   "outputs": [
    {
     "name": "stdout",
     "output_type": "stream",
     "text": [
      "Number of Python programmers: 146\n",
      "Number of JavaScript programmers: 133\n",
      "Number of R programmers: 54\n",
      "--------------------------------------------------------\n",
      "Number of C programmers: 123\n",
      "Number of C++ programmers: 128\n",
      "--------------------------------------------------------\n",
      "Number of CSS programmers: 93\n",
      "Number of HTML programmers: 121\n",
      "Number of PHP programmers: 51\n"
     ]
    }
   ],
   "source": [
    "pythonuser = languageusage('Python(lang)')\n",
    "jsuser = languageusage('JavaScript(lang)')\n",
    "ruser = languageusage('R(lang)')\n",
    "cuser = languageusage('C(lang)')\n",
    "cplususer = languageusage('C++(lang)')\n",
    "cssuser = languageusage('CSS(lang)')\n",
    "htmluser = languageusage('HTML(lang)')\n",
    "phpuser = languageusage('PHP(lang)')\n",
    "\n",
    "print (\"Number of Python programmers:\", len(pythonuser))\n",
    "print (\"Number of JavaScript programmers:\", len(jsuser))\n",
    "print (\"Number of R programmers:\", len(ruser))\n",
    "print(\"--------------------------------------------------------\")\n",
    "print (\"Number of C programmers:\", len(cuser))\n",
    "print (\"Number of C++ programmers:\", len(cplususer))\n",
    "print(\"--------------------------------------------------------\")\n",
    "print (\"Number of CSS programmers:\", len(cssuser))\n",
    "print (\"Number of HTML programmers:\", len(htmluser))\n",
    "print (\"Number of PHP programmers:\", len(phpuser))"
   ]
  },
  {
   "cell_type": "markdown",
   "metadata": {},
   "source": [
    "for the most languages people used: pyhton and js, we also analyzed the intersection of these two languages:"
   ]
  },
  {
   "cell_type": "code",
   "execution_count": 102,
   "metadata": {
    "collapsed": true
   },
   "outputs": [],
   "source": [
    "def compareJSwithPy(js,py):\n",
    "    # people who use both languages\n",
    "    print (\"Number of programmers who use js and Py:\")\n",
    "    print (len(set(js).intersection(set(py))))\n",
    "\n",
    "    # people who only use python but not js\n",
    "    print (\"Number of programmers who use Py but not Js:\")\n",
    "    print (len(set(py).difference(set(js))))\n",
    "    \n",
    "    # people who only use js but not py\n",
    "    print (\"Number of programmers who use js but not py:\")\n",
    "    print (len(set(js).difference(set(py))))"
   ]
  },
  {
   "cell_type": "code",
   "execution_count": 103,
   "metadata": {},
   "outputs": [
    {
     "name": "stdout",
     "output_type": "stream",
     "text": [
      "Number of programmers who use js and Py:\n",
      "133\n",
      "Number of programmers who use Py but not Js:\n",
      "0\n",
      "Number of programmers who use js but not py:\n",
      "13\n"
     ]
    }
   ],
   "source": [
    "compareJSwithPy(pythonuser,jsuser)"
   ]
  },
  {
   "cell_type": "markdown",
   "metadata": {},
   "source": [
    "Wala! Now we can analyze the results! It can be seen from the results that JS and R, python and other scripting languages in github's preferred language list occupy the mainstream. Although there are only 10,000 items involved in the data we analyzed, it is like the old saying: “github is the world of front end”.\n",
    "\n",
    "What's more, Scala is also very hot from seeing our results, mainly because the \"source of the project\" is findspark.\n",
    "\n",
    "Another interesting phenomenon is that the programmers who use python definetly will use js, and those who use js  will not necessarily use python (80-74=6 individuals who is using js but not using python)."
   ]
  },
  {
   "cell_type": "markdown",
   "metadata": {},
   "source": [
    "### visialize the relationship between the users and languages"
   ]
  },
  {
   "cell_type": "code",
   "execution_count": 104,
   "metadata": {},
   "outputs": [
    {
     "name": "stdout",
     "output_type": "stream",
     "text": [
      "Stats on the full graph\n",
      "Name: \n",
      "Type: DiGraph\n",
      "Number of nodes: 15820\n",
      "Number of edges: 40315\n",
      "Average in degree:   2.5484\n",
      "Average out degree:   2.5484\n",
      "Stats on the extracted subgraph\n",
      "Name: \n",
      "Type: SubDiGraph\n",
      "Number of nodes: 270\n",
      "Number of edges: 2776\n",
      "Average in degree:  10.2815\n",
      "Average out degree:  10.2815\n"
     ]
    },
    {
     "data": {
      "text/html": [
       "\n",
       "        <iframe\n",
       "            width=\"100%\"\n",
       "            height=\"900px\"\n",
       "            src=\"githubd3.html\"\n",
       "            frameborder=\"0\"\n",
       "            allowfullscreen\n",
       "        ></iframe>\n",
       "        "
      ],
      "text/plain": [
       "<IPython.lib.display.IFrame at 0x1a2014a400>"
      ]
     },
     "metadata": {},
     "output_type": "display_data"
    }
   ],
   "source": [
    "import os\n",
    "import json\n",
    "from IPython.display import IFrame\n",
    "from IPython.core.display import display \n",
    "from networkx.readwrite import json_graph\n",
    "print (\"Stats on the full graph\" )\n",
    "print (nx.info(graph))\n",
    "# extract users and language info\n",
    "mtsw_users = [n for n in graph if graph.node[n]['type'] == 'user'] +[n for n in graph if graph.node[n]['type'] == 'lang'] \n",
    "h = graph.subgraph(mtsw_users)\n",
    "print (\"Stats on the extracted subgraph\" )\n",
    "print (nx.info(h))\n",
    "# export json\n",
    "d = json_graph.node_link_data(h)\n",
    "json.dump(d, open('githubd3.json', 'w'))\n",
    "viz_file = 'githubd3.html'\n",
    "# D3 to visulize it\n",
    "display(IFrame(viz_file, '100%', '900px'))"
   ]
  },
  {
   "cell_type": "code",
   "execution_count": null,
   "metadata": {
    "collapsed": true
   },
   "outputs": [],
   "source": []
  },
  {
   "cell_type": "code",
   "execution_count": null,
   "metadata": {
    "collapsed": true
   },
   "outputs": [],
   "source": []
  },
  {
   "cell_type": "code",
   "execution_count": null,
   "metadata": {
    "collapsed": true
   },
   "outputs": [],
   "source": []
  }
 ],
 "metadata": {
  "kernelspec": {
   "display_name": "Python 3",
   "language": "python",
   "name": "python3"
  },
  "language_info": {
   "codemirror_mode": {
    "name": "ipython",
    "version": 3
   },
   "file_extension": ".py",
   "mimetype": "text/x-python",
   "name": "python",
   "nbconvert_exporter": "python",
   "pygments_lexer": "ipython3",
   "version": "3.6.2"
  }
 },
 "nbformat": 4,
 "nbformat_minor": 2
}
